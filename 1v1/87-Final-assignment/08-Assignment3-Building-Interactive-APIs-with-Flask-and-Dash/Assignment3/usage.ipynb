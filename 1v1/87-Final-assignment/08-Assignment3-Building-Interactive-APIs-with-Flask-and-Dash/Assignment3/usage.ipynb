{
 "cells": [
  {
   "cell_type": "code",
   "id": "initial_id",
   "metadata": {
    "collapsed": true,
    "ExecuteTime": {
     "end_time": "2024-07-07T16:00:13.167496Z",
     "start_time": "2024-07-07T15:59:56.296531Z"
    }
   },
   "source": [
    "import requests\n",
    "\n",
    "# Example of using the convert route\n",
    "url = 'http://127.0.0.1:5000/convert'\n",
    "files = {'image': open('static/079A2379.jpg', 'rb')}\n",
    "data = {'output_type': 'png'}\n",
    "response = requests.post(url, files=files, data=data)\n",
    "# print(response.status_code)\n",
    "if response.status_code == 200:\n",
    "    save_img_out = open('static/output/output1.png', 'wb')\n",
    "    save_img_out.write(response.content)\n",
    "    save_img_out.close()\n",
    "    print(\"Image saved successfully.\")\n",
    "else:\n",
    "    print(\"Failed to convert image\")\n",
    "# print(response.content)\n",
    "\n",
    "\n",
    "# Example of using the analyze route\n",
    "url = 'http://127.0.0.1:5000/analyze'\n",
    "data = {'text': 'I love programming with Python!'}\n",
    "# data = {'text': \"I love\"}\n",
    "# data = {'text': \"I don't love\"}\n",
    "response = requests.post(url, data=data)\n",
    "print(response.json())"
   ],
   "outputs": [
    {
     "name": "stdout",
     "output_type": "stream",
     "text": [
      "Image saved successfully.\n",
      "{'polarity': 0.625, 'subjectivity': 0.6}\n"
     ]
    }
   ],
   "execution_count": 8
  },
  {
   "metadata": {},
   "cell_type": "code",
   "source": "",
   "id": "42e682abef382bd6",
   "outputs": [],
   "execution_count": 33
  }
 ],
 "metadata": {
  "kernelspec": {
   "display_name": "Python 3",
   "language": "python",
   "name": "python3"
  },
  "language_info": {
   "codemirror_mode": {
    "name": "ipython",
    "version": 2
   },
   "file_extension": ".py",
   "mimetype": "text/x-python",
   "name": "python",
   "nbconvert_exporter": "python",
   "pygments_lexer": "ipython2",
   "version": "2.7.6"
  }
 },
 "nbformat": 4,
 "nbformat_minor": 5
}
