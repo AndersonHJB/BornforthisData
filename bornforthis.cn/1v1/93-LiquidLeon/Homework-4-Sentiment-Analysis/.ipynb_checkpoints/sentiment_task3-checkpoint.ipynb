{
 "cells": [
  {
   "cell_type": "markdown",
   "metadata": {},
   "source": [
    "Homework 4: Sentiment Analysis - Task 3\n",
    "----"
   ]
  },
  {
   "cell_type": "markdown",
   "metadata": {},
   "source": [
    "Names\n",
    "----\n",
    "Names: __YOUR NAMES HERE__ (Write these in every notebook you submit.)"
   ]
  },
  {
   "cell_type": "markdown",
   "metadata": {},
   "source": [
    "Task 3: Train a Logistic Regression Model (20 points)\n",
    "----\n",
    "\n",
    "Using `sklearn`'s implementation of `LogisticRegression`, conduct a similar analysis on the performance of a Logistic Regression classifier on the provided data set.\n",
    "\n",
    "Using the `time` module, you'll compare and contrast how long it takes your **home-grown BoW vectorizing function vs. `sklearn`'s `CountVectorizer`.**\n",
    "\n",
    "You will be implementing **multinomial** (counts of word) BoW representations of your data\n",
    "\n",
    "Logistic regression is used for binary classification, but can be extended for multi-class classification\n",
    "\n",
    "Read more about logistic regression here - https://www.analyticsvidhya.com/blog/2021/08/conceptual-understanding-of-logistic-regression-for-data-science-beginners/.\n",
    "\n",
    "Recall from task 2 what binarized and multinomial mean here: a __binarized__ bag of words representation is one where we put 1 [true] if the word is there and 0 [false] otherwise, and a __multinomial__ bag of words representation is one where we put the count of the word if the word occurs, and 0 otherwise.\n",
    "\n",
    "\n",
    "\n",
    "**10 points in Task 5 will be allocated for all 9 graphs (including the one generated here in Task 3 for Logistic Regression) being:**\n",
    "- Legible\n",
    "- Present below\n",
    "- Properly labeled\n",
    "     - x and y axes labeled\n",
    "     - Legend for accuracy measures plotted\n",
    "     - Plot Title with which model and run number the graph represents\n"
   ]
  },
  {
   "cell_type": "code",
   "execution_count": 22,
   "metadata": {},
   "outputs": [],
   "source": [
    "from sklearn.linear_model import LogisticRegression\n",
    "# 自定义向量化：先用 featurize 得到“特征字典”，再用 DictVectorizer 得到稀疏矩阵\n",
    "from sklearn.feature_extraction import DictVectorizer\n",
    "# CountVectorizer 版本（支持 binary=True 二值化；支持固定 vocabulary 以复用词表）\n",
    "from sklearn.feature_extraction.text import CountVectorizer\n",
    "from sklearn.metrics import precision_recall_fscore_support, accuracy_score\n",
    "# https://scikit-learn.org/stable/modules/generated/sklearn.feature_extraction.text.CountVectorizer.html\n",
    "\n",
    "from collections import Counter\n",
    "import time\n",
    "import numpy as np\n",
    "import sentiment_utils as sutils"
   ]
  },
  {
   "cell_type": "code",
   "execution_count": 23,
   "metadata": {},
   "outputs": [],
   "source": [
    "# define constants for the files we are using\n",
    "TRAIN_FILE = \"movie_reviews_train.txt\"\n",
    "DEV_FILE   = \"movie_reviews_dev.txt\"\n",
    "\n",
    "# load in your data and make sure you understand the format\n",
    "# Do not print out too much so as to impede readability of your notebook\n",
    "# train_tups = sutils.generate_tuples_from_file(TRAIN_FILE)\n",
    "# dev_tups = sutils.generate_tuples_from_file(DEV_FILE)\n",
    "\n",
    "train_X, train_y = sutils.generate_tuples_from_file(TRAIN_FILE)\n",
    "dev_X,   dev_y   = sutils.generate_tuples_from_file(DEV_FILE)\n",
    "\n",
    "# some variables you may want to use\n",
    "# BINARIZED = True\n",
    "# USE_COUNT_VECTORIZER = False"
   ]
  },
  {
   "cell_type": "code",
   "execution_count": 24,
   "metadata": {},
   "outputs": [],
   "source": [
    "# Write the functions needed (here or in sentiment_utils.py) to create vectorized BoW representations\n",
    "# of your data. We recommend starting with a multinomial BoW representation.\n",
    "# Each training example should be represented as a sparse vector.\n",
    "# 基于训练集构建词表（可将 min_freq 调高以做停用/低频裁剪）\n",
    "vocab = sutils.create_index(train_X, min_freq=1)\n",
    "\n",
    "def vectorize_custom(X_tok, vocab, binary=False):\n",
    "    feats = sutils.featurize(vocab, X_tok, binary=binary)   # List[Dict[token,value]]\n",
    "    dv = DictVectorizer(sparse=True)\n",
    "    X = dv.fit_transform(feats)\n",
    "    return X, dv\n",
    "\n",
    "def vectorize_cv(X_tok, binary=False, vocabulary=None):\n",
    "    docs = [\" \".join(toks) for toks in X_tok]\n",
    "    cv = CountVectorizer(binary=binary, vocabulary=vocabulary)\n",
    "    X = cv.fit_transform(docs) if vocabulary is None else cv.transform(docs)\n",
    "    return X, cv"
   ]
  },
  {
   "cell_type": "code",
   "execution_count": 25,
   "metadata": {
    "scrolled": true
   },
   "outputs": [
    {
     "name": "stdout",
     "output_type": "stream",
     "text": [
      "That took: 0.24596881866455078 seconds\n",
      "Custom vocab size: 27132\n"
     ]
    }
   ],
   "source": [
    "# how much time does it take to featurize the all data with your implementation?\n",
    "\n",
    "start = time.time()\n",
    "\n",
    "\n",
    "# YOUR CODE HERE\n",
    "# 这里以“多项式（计数）BoW”为例（符合 Task 3 的推荐起点）\n",
    "# 如果你想测试二值，把 binary=False 改成 True 即可\n",
    "X_custom_train, dv = vectorize_custom(train_X, vocab, binary=False)\n",
    "\n",
    "\n",
    "end = time.time()\n",
    "print(\"That took:\", end - start, \"seconds\")\n",
    "print(\"Custom vocab size:\", len(dv.feature_names_))\n",
    "\n",
    "\n"
   ]
  },
  {
   "cell_type": "code",
   "execution_count": 26,
   "metadata": {},
   "outputs": [
    {
     "name": "stdout",
     "output_type": "stream",
     "text": [
      "That took: 0.16435885429382324 seconds\n",
      "CountVectorizer vocab size: 22596\n"
     ]
    }
   ],
   "source": [
    "# how much time does it take to featurize the all data with sklearn's CountVectorizer?\n",
    "\n",
    "start = time.time()\n",
    "\n",
    "\n",
    "# YOUR CODE HERE\n",
    "X_cv_train, cv = vectorize_cv(train_X, binary=False)\n",
    "\n",
    "\n",
    "end = time.time()\n",
    "print(\"That took:\", end - start, \"seconds\")\n",
    "print(\"CountVectorizer vocab size:\", len(cv.vocabulary_))"
   ]
  },
  {
   "cell_type": "markdown",
   "metadata": {},
   "source": [
    "1. How big is your vocabulary using your vectorization function(s)? __YOUR ANSWER HERE__\n",
    "2. How big is your vocabulary using the `CountVectorizer`? __YOUR ANSWER HERE__"
   ]
  },
  {
   "cell_type": "code",
   "execution_count": 27,
   "metadata": {},
   "outputs": [
    {
     "name": "stdout",
     "output_type": "stream",
     "text": [
      "Custom vectorizer — vocab size: 27132\n",
      "Custom vectorizer — sparsity (% zeros): 99.46%\n",
      "CountVectorizer — vocab size: 22596\n",
      "CountVectorizer — sparsity (% zeros): 99.39%\n"
     ]
    }
   ],
   "source": [
    "#  write any code you need analyze the relative sparsity of your vectorized representations of the data\n",
    "\n",
    "# YOUR CODE HERE\n",
    "# 计算稀疏矩阵中“零值百分比”\n",
    "def sparsity_percent(X):\n",
    "    nnz = X.nnz\n",
    "    total = X.shape[0] * X.shape[1]\n",
    "    return 100.0 * (1.0 - nnz / total)\n",
    "\n",
    "# Print out the average % of entries that are zeros in each vector in the vectorized training data\n",
    "# YOUR CODE HERE\n",
    "# （如果你上面没保留 X_custom_train / X_cv_train，请先在此重新构建）\n",
    "# X_custom_train, dv = vectorize_custom(train_X, vocab, binary=False)\n",
    "# X_cv_train, cv = vectorize_cv(train_X, binary=False)\n",
    "\n",
    "print(\"Custom vectorizer — vocab size:\", len(dv.feature_names_))\n",
    "print(\"Custom vectorizer — sparsity (% zeros):\", f\"{sparsity_percent(X_custom_train):.2f}%\")\n",
    "\n",
    "print(\"CountVectorizer — vocab size:\", len(cv.vocabulary_))\n",
    "print(\"CountVectorizer — sparsity (% zeros):\", f\"{sparsity_percent(X_cv_train):.2f}%\")\n"
   ]
  },
  {
   "cell_type": "markdown",
   "metadata": {},
   "source": [
    "<span style=\"color: red;\">__Expected Behavior__ </span>\n",
    "\n",
    "**Logistic Regression**:\n",
    "Logistic Regression can behave either deterministically or non-deterministically depending on whether random initialization is involved. On small datasets, results often converge to the same optimum, producing identical graphs. However, when a random seed affects initialization, minor variation may or **may not** appear between runs. Either case is acceptable!\n",
    "\n",
    "<span style=\"color: red;\">__Note on Training Data Increments__ </span>\n",
    "\n",
    "When varying the amount of training data, choose increments that are meaningful and reasonable, you should be able to observe clear trends without making the experiment unnecessarily long. You may increment the training data percentage by **5%**, **10%** or **20%**.\n",
    "\n",
    "**Make sure that one of your experiments includes 10% of the training data, as you will need this result to answer a question in Task 5.**"
   ]
  },
  {
   "cell_type": "code",
   "execution_count": 28,
   "metadata": {},
   "outputs": [
    {
     "data": {
      "image/png": "[encoded data removed]",
      "text/plain": [
       "<Figure size 700x500 with 1 Axes>"
      ]
     },
     "metadata": {},
     "output_type": "display_data"
    }
   ],
   "source": [
    "# Using the provided dev set, evaluate your model with precision, recall, and f1 score as well as accuracy\n",
    "# You may use nltk's implemented `precision`, `recall`, `f_measure`, and `accuracy` functions\n",
    "# (make sure to look at the documentation for these functions!)\n",
    "# you will be creating a similar graph for logistic regression and neural nets, so make sure\n",
    "# you use functions wisely so that you do not have excessive repeated code\n",
    "# write any helper functions you need in sentiment_utils.py (functions that you'll use in your other notebooks as well)\n",
    "\n",
    "from sklearn.linear_model import LogisticRegression\n",
    "import numpy as np\n",
    "import matplotlib.pyplot as plt\n",
    "\n",
    "# 可用题目建议的两变量开关\n",
    "BINARIZED = False               # False=多项式(计数), True=二值\n",
    "USE_COUNT_VECTORIZER = False    # False=自实现+DictVectorizer, True=CountVectorizer\n",
    "\n",
    "# 单次训练-评估（返回 P/R/F1/Acc），按百分比抽子集\n",
    "def train_eval_lr(percent, use_cv=False, binary=False, seed=1):\n",
    "    sub_X, sub_y = sutils.take_percent(train_X, train_y, percent, shuffle=True, seed=seed)\n",
    "    if use_cv:\n",
    "        # 用 CV 向量化；dev 用相同 vocabulary\n",
    "        Xtr, vec = vectorize_cv(sub_X, binary=binary)\n",
    "        Xdv, _   = vectorize_cv(dev_X, binary=binary, vocabulary=vec.vocabulary_)\n",
    "    else:\n",
    "        # 用自实现向量化；dev 用同一 DictVectorizer 词表\n",
    "        Xtr, dv = vectorize_custom(sub_X, vocab, binary=binary)\n",
    "        dev_feats = sutils.featurize(vocab, dev_X, binary=binary)\n",
    "        Xdv = dv.transform(dev_feats)\n",
    "    clf = LogisticRegression(max_iter=1000)\n",
    "    clf.fit(Xtr, sub_y)\n",
    "    probs = clf.predict_proba(Xdv)[:, 1]\n",
    "    preds = (probs >= 0.5).astype(int).tolist()\n",
    "    return sutils.get_prfa(dev_y, preds)  # (P,R,F1,Acc)\n",
    "\n",
    "# 画图（含 10%）\n",
    "percents = [10, 20, 40, 60, 80, 100]\n",
    "P, R, F1, A = [], [], [], []\n",
    "for p in percents:\n",
    "    pr, rc, f1, acc = train_eval_lr(p, use_cv=USE_COUNT_VECTORIZER, binary=BINARIZED, seed=1)\n",
    "    P.append(pr); R.append(rc); F1.append(f1); A.append(acc)\n",
    "\n",
    "plt.figure(figsize=(7,5))\n",
    "plt.plot(percents, P,  marker='o', label='Precision')\n",
    "plt.plot(percents, R,  marker='o', label='Recall')\n",
    "plt.plot(percents, F1, marker='o', label='F1')\n",
    "plt.plot(percents, A,  marker='o', label='Accuracy')\n",
    "plt.xlabel('Training Data (%)')\n",
    "plt.ylabel('Score')\n",
    "plt.ylim(0.0, 1.0)\n",
    "title = f\"Logistic Regression ({'CountVectorizer' if USE_COUNT_VECTORIZER else 'Custom'} | {'Binarized' if BINARIZED else 'Multinomial'}) — Run 1\"\n",
    "plt.title(title)\n",
    "plt.legend()\n",
    "plt.grid(True, alpha=0.3)\n",
    "# 如需保存图像（用于 Task 5），取消下一行注释并改文件名避免覆盖\n",
    "# plt.savefig(\"LogReg_custom-multinomial_run1.png\", bbox_inches='tight', dpi=140)\n",
    "plt.show()\n",
    "# create a graph of your classifier's performance on the dev set as a function of the amount of training data\n",
    "# the x-axis should be the amount of training data (as a percentage of the total training data)\n",
    "# NOTE : make sure one of your experiments uses 10% of the data, you will need this to answer the first question in task 5\n",
    "# the y-axis should be the performance of the classifier on the dev set\n",
    "# the graph should have 4 lines, one for each of precision, recall, f1, and accuracy\n",
    "# the graph should have a legend, title, and axis labels\n"
   ]
  },
  {
   "cell_type": "code",
   "execution_count": 29,
   "metadata": {},
   "outputs": [
    {
     "name": "stdout",
     "output_type": "stream",
     "text": [
      "custom-multinomial: F1=0.7867\n",
      "cv-multinomial: F1=0.7963\n",
      "custom-binarized: F1=0.7887\n",
      "cv-binarized: F1=0.8203\n"
     ]
    }
   ],
   "source": [
    "combos = [\n",
    "    ('custom-multinomial', False, False),\n",
    "    ('cv-multinomial',     True,  False),\n",
    "    ('custom-binarized',   False, True),\n",
    "    ('cv-binarized',       True,  True),\n",
    "]\n",
    "for name, use_cv, binary in combos:\n",
    "    _, _, f1, _ = train_eval_lr(100, use_cv=use_cv, binary=binary, seed=1)\n",
    "    print(f\"{name}: F1={f1:.4f}\")\n"
   ]
  },
  {
   "cell_type": "markdown",
   "metadata": {},
   "source": [
    "Test the following 4 combinations to determine which has the best final f1 score for your Logistic Regression model:\n",
    "- your vectorized features, multinomial: F1=0.7867\n",
    "- CountVectorizer features, multinomial: F1=0.7963\n",
    "- your vectorized features, binarized: F1=0.7887\n",
    "- CountVectorizer features, binarized: F1=0.8203\n",
    "\n",
    "Produce your graph(s) for the combination with the best final f1 score.\n",
    "\n",
    "\n"
   ]
  },
  {
   "cell_type": "code",
   "execution_count": null,
   "metadata": {},
   "outputs": [],
   "source": []
  }
 ],
 "metadata": {
  "kernelspec": {
   "display_name": "Python 3 (ipykernel)",
   "language": "python",
   "name": "python3"
  },
  "language_info": {
   "codemirror_mode": {
    "name": "ipython",
    "version": 3
   },
   "file_extension": ".py",
   "mimetype": "text/x-python",
   "name": "python",
   "nbconvert_exporter": "python",
   "pygments_lexer": "ipython3",
   "version": "3.9.6"
  }
 },
 "nbformat": 4,
 "nbformat_minor": 4
}
