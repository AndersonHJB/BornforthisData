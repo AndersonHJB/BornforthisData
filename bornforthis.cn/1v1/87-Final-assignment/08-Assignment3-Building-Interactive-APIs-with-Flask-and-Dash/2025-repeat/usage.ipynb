{
 "cells": [
  {
   "cell_type": "code",
   "execution_count": 1,
   "id": "initial_id",
   "metadata": {
    "ExecuteTime": {
     "end_time": "2024-07-07T15:46:32.491510Z",
     "start_time": "2024-07-07T15:46:32.486082Z"
    }
   },
   "outputs": [
    {
     "name": "stdout",
     "output_type": "stream",
     "text": [
      "Image saved successfully.\n",
      "{'polarity': 0.625, 'subjectivity': 0.6}\n"
     ]
    }
   ],
   "source": [
    "import requests\n",
    "\n",
    "# Example of using the convert route\n",
    "url = 'http://127.0.0.1:5000/convert'\n",
    "files = {'image': open('static/brett-ritchie-1vKTnwLMdqs-unsplash.jpg', 'rb')}\n",
    "data = {'output_type': 'png'}\n",
    "response = requests.post(url, files=files, data=data)\n",
    "# print(response.status_code)\n",
    "if response.status_code == 200:\n",
    "    save_img_out = open('static/output/output1.png', 'wb')\n",
    "    save_img_out.write(response.content)\n",
    "    save_img_out.close()\n",
    "    print(\"Image saved successfully.\")\n",
    "else:\n",
    "    print(\"Failed to convert image\")\n",
    "# print(response.content)\n",
    "# print(response.json())\n",
    "\n",
    "\n",
    "# Example of using the analyze route\n",
    "url = 'http://127.0.0.1:5000/analyze'\n",
    "data = {'text': 'I love programming with Python!'}\n",
    "# data = {'text': \"I love\"}\n",
    "# data = {'text': \"I don't love\"}\n",
    "response = requests.post(url, data=data)\n",
    "print(response.json())"
   ]
  },
  {
   "cell_type": "code",
   "execution_count": 5,
   "id": "ebd63cf8-26d3-4ab6-8742-57429355cf02",
   "metadata": {},
   "outputs": [
    {
     "name": "stdout",
     "output_type": "stream",
     "text": [
      "{'emoji_text': ':I: :love: 🍕 :and: ☕', 'original_text': 'I love :pizza: and :coffee:'}\n"
     ]
    }
   ],
   "source": [
    "import requests\n",
    "\n",
    "url = \"http://127.0.0.1:5000/text-to-emoji\"\n",
    "data = {\"text\": \"I love :pizza: and :coffee:\"}\n",
    "response = requests.post(url, data=data)\n",
    "\n",
    "print(response.json())"
   ]
  },
  {
   "cell_type": "code",
   "execution_count": 14,
   "id": "5a57899c",
   "metadata": {},
   "outputs": [
    {
     "name": "stdout",
     "output_type": "stream",
     "text": [
      "{'emoji_text': 'I love 🍕 and ☕', 'original_text': 'I love pizza and coffee'}\n"
     ]
    }
   ],
   "source": [
    "url = \"http://127.0.0.1:5000/text-to-emoji\"\n",
    "data = {\"text\": \"I love pizza and coffee\"}\n",
    "response = requests.post(url, data=data)\n",
    "\n",
    "print(response.json())"
   ]
  },
  {
   "cell_type": "code",
   "execution_count": null,
   "id": "9b7e846d",
   "metadata": {},
   "outputs": [],
   "source": []
  },
  {
   "cell_type": "code",
   "execution_count": null,
   "id": "f6ecb621",
   "metadata": {},
   "outputs": [],
   "source": []
  }
 ],
 "metadata": {
  "kernelspec": {
   "display_name": "all-env",
   "language": "python",
   "name": "python3"
  },
  "language_info": {
   "codemirror_mode": {
    "name": "ipython",
    "version": 3
   },
   "file_extension": ".py",
   "mimetype": "text/x-python",
   "name": "python",
   "nbconvert_exporter": "python",
   "pygments_lexer": "ipython3",
   "version": "3.10.16"
  }
 },
 "nbformat": 4,
 "nbformat_minor": 5
}
