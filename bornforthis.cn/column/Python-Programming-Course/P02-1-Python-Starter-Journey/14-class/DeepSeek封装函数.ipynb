{
 "cells": [
  {
   "cell_type": "code",
   "execution_count": 1,
   "id": "74f3f74e-a182-4607-b864-639feef77852",
   "metadata": {},
   "outputs": [],
   "source": [
    "from openai import OpenAI\n",
    "client = OpenAI(api_key=\"sk-cd6890b8ac624127af85f7094d7c534d\", base_url=\"https://api.deepseek.com\")"
   ]
  },
  {
   "cell_type": "code",
   "execution_count": 2,
   "id": "3add3cd1-8867-45dc-9055-f68a565910ee",
   "metadata": {},
   "outputs": [],
   "source": [
    "messages = [] # 用来存储历史对话，后期学完文件读取，可以考虑持久化存储！"
   ]
  },
  {
   "cell_type": "code",
   "execution_count": 3,
   "id": "7e97f060-ef8a-4953-ad6a-9d8db81ea59a",
   "metadata": {},
   "outputs": [],
   "source": [
    "system_setting1 = {\n",
    "    \"role\": \"system\", \n",
    "    \"content\": \"\"\"你是这个游戏中的敌人，负责做出对战中的行动决策（攻击 A 或 防御 D）。你的决策应当基于当前游戏状态。每一回合，你只会接收到以下信息：\n",
    "\n",
    "* **玩家（AI悦创）**和**敌人（你）**的当前HP，以及显示的进度条状态。\n",
    "* **玩家选择的行动**，例如：攻击（A），防御（D），治疗（H）等。\n",
    "* **敌人的行为**：包括敌人的选择（攻击或防御），并根据敌人的行动决定你应采取什么策略。\n",
    "\n",
    "### 决策规则：\n",
    "\n",
    "1. 如果玩家选择了治疗（H），**敌人将直接攻击**并依据当前倍数来计算伤害（治疗后敌人的攻击伤害翻倍）。\n",
    "2. **攻击（A）**：你将尽量选择攻击，除非你的HP较低（少于50%），此时可能会选择防御。\n",
    "3. **防御（D）**：如果你认为敌人会进行攻击并且自己处于较低血量（少于40%），你可以选择防御来减少伤害。防御时，敌人伤害减少90%。\n",
    "\n",
    "请根据以下当前游戏状态做出合理决策：\n",
    "\n",
    "**当前游戏状态：**\n",
    "\n",
    "* **AI悦创's HP →** [##########----------] 48%  48/100\n",
    "* **熊杰's HP →** [#####---------------] 26%  21/80\n",
    "\n",
    "---\n",
    "\n",
    "每轮会给你提供这些信息，你只需根据当前游戏状态，选择合理的行动：\n",
    "\n",
    "* **A**（攻击）\n",
    "* **D**（防御）\n",
    "\n",
    "请选择 A 或 D，做出对战决策。\"\"\"\n",
    "}\n",
    "messages.append(system_setting1)"
   ]
  },
  {
   "cell_type": "code",
   "execution_count": 4,
   "id": "5e85d886-113c-4e37-8cbe-4a7d7b9254ed",
   "metadata": {},
   "outputs": [],
   "source": [
    "def DeepSeek_Enemy(game_status):\n",
    "    messages.append({'role': 'user', 'content': game_status})\n",
    "    response = client.chat.completions.create(\n",
    "        model=\"deepseek-chat\",\n",
    "        messages=messages\n",
    "        )\n",
    "    assistant_content = response.choices[0].message.content\n",
    "    messages.append({\"role\": \"assistant\", \"content\": assistant_content})\n",
    "    # print(f\"Message: {assistant_content}\")\n",
    "    return assistant_content"
   ]
  },
  {
   "cell_type": "code",
   "execution_count": 6,
   "id": "4ac2010c-ac64-473f-bb75-3d23b58fbfda",
   "metadata": {},
   "outputs": [],
   "source": [
    "string = \"\"\"\n",
    "\"\"\""
   ]
  },
  {
   "cell_type": "code",
   "execution_count": null,
   "id": "c92a680b-ba6c-42f0-8572-7a8374e86220",
   "metadata": {},
   "outputs": [],
   "source": []
  },
  {
   "cell_type": "code",
   "execution_count": null,
   "id": "4b502ec3-c9f3-42ca-8e5d-136c64b52a18",
   "metadata": {},
   "outputs": [],
   "source": []
  },
  {
   "cell_type": "code",
   "execution_count": null,
   "id": "0b107d1e-a107-4c31-a73e-3a9bc1894f5e",
   "metadata": {},
   "outputs": [],
   "source": []
  },
  {
   "cell_type": "code",
   "execution_count": null,
   "id": "e3b7e2e7-815c-4712-a7c7-2ac278709553",
   "metadata": {},
   "outputs": [],
   "source": []
  },
  {
   "cell_type": "code",
   "execution_count": null,
   "id": "e7d7b0b4-a575-4b94-9482-432eb5395a9f",
   "metadata": {},
   "outputs": [],
   "source": []
  },
  {
   "cell_type": "code",
   "execution_count": null,
   "id": "07109bcc-6bf5-4ed0-b389-41be58fd76f5",
   "metadata": {},
   "outputs": [],
   "source": []
  },
  {
   "cell_type": "code",
   "execution_count": null,
   "id": "a445014c-6e22-4c6b-89a0-2f67a2c58bd3",
   "metadata": {},
   "outputs": [],
   "source": []
  },
  {
   "cell_type": "code",
   "execution_count": null,
   "id": "9a6d385f-f0cd-4d5a-99ec-5aa6f21a7067",
   "metadata": {},
   "outputs": [],
   "source": []
  },
  {
   "cell_type": "code",
   "execution_count": null,
   "id": "f598edd1-7f8b-461d-9c9d-16ebef6c9942",
   "metadata": {},
   "outputs": [],
   "source": []
  },
  {
   "cell_type": "code",
   "execution_count": null,
   "id": "3c7c4259-3956-433e-98b7-e0cb94e1f66d",
   "metadata": {},
   "outputs": [],
   "source": []
  },
  {
   "cell_type": "code",
   "execution_count": null,
   "id": "cf541a95-49e9-4316-b3c6-9734d06a4d71",
   "metadata": {},
   "outputs": [],
   "source": []
  },
  {
   "cell_type": "code",
   "execution_count": null,
   "id": "e2c1d555-df4d-4073-ad46-a6c0e1971d5e",
   "metadata": {},
   "outputs": [],
   "source": []
  },
  {
   "cell_type": "code",
   "execution_count": null,
   "id": "0dff2a18-7c67-41c0-b7cd-d48ecb2a1bc8",
   "metadata": {},
   "outputs": [],
   "source": []
  },
  {
   "cell_type": "code",
   "execution_count": null,
   "id": "26d45770-a576-44e4-a10a-7b7c16417143",
   "metadata": {},
   "outputs": [],
   "source": []
  },
  {
   "cell_type": "code",
   "execution_count": null,
   "id": "b659a3e8-f7af-4630-9f08-0b455691d846",
   "metadata": {},
   "outputs": [],
   "source": []
  },
  {
   "cell_type": "code",
   "execution_count": null,
   "id": "328b719a-109a-45b5-bf39-671e667f94e4",
   "metadata": {},
   "outputs": [],
   "source": []
  },
  {
   "cell_type": "code",
   "execution_count": null,
   "id": "0617e515-6137-4a23-8ffe-0ad5eadee6d9",
   "metadata": {},
   "outputs": [],
   "source": []
  },
  {
   "cell_type": "code",
   "execution_count": null,
   "id": "9cf810e7-eff8-4ec5-b71f-5aa41ddac9b9",
   "metadata": {},
   "outputs": [],
   "source": []
  },
  {
   "cell_type": "code",
   "execution_count": null,
   "id": "2cc01034-c6ea-4cef-be4b-26e80887cc48",
   "metadata": {},
   "outputs": [],
   "source": []
  }
 ],
 "metadata": {
  "kernelspec": {
   "display_name": "Python 3 (ipykernel)",
   "language": "python",
   "name": "python3"
  },
  "language_info": {
   "codemirror_mode": {
    "name": "ipython",
    "version": 3
   },
   "file_extension": ".py",
   "mimetype": "text/x-python",
   "name": "python",
   "nbconvert_exporter": "python",
   "pygments_lexer": "ipython3",
   "version": "3.9.24"
  }
 },
 "nbformat": 4,
 "nbformat_minor": 5
}
