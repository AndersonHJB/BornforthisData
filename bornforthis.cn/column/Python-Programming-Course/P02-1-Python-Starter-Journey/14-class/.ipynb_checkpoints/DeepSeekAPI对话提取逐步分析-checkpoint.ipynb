{
 "cells": [
  {
   "cell_type": "code",
   "execution_count": 1,
   "id": "da289c3c-a8c4-4b7f-b0c5-a65e2fda7612",
   "metadata": {
    "scrolled": true
   },
   "outputs": [
    {
     "name": "stdout",
     "output_type": "stream",
     "text": [
      "Looking in indexes: https://mirrors.aliyun.com/pypi/simple/\n",
      "Requirement already satisfied: openai in /Users/huangjiabao/GitHub/iMac/Pycharm/.venv/lib/python3.9/site-packages (1.109.1)\n",
      "Requirement already satisfied: anyio<5,>=3.5.0 in /Users/huangjiabao/GitHub/iMac/Pycharm/.venv/lib/python3.9/site-packages (from openai) (4.9.0)\n",
      "Requirement already satisfied: distro<2,>=1.7.0 in /Users/huangjiabao/GitHub/iMac/Pycharm/.venv/lib/python3.9/site-packages (from openai) (1.9.0)\n",
      "Requirement already satisfied: httpx<1,>=0.23.0 in /Users/huangjiabao/GitHub/iMac/Pycharm/.venv/lib/python3.9/site-packages (from openai) (0.28.1)\n",
      "Requirement already satisfied: jiter<1,>=0.4.0 in /Users/huangjiabao/GitHub/iMac/Pycharm/.venv/lib/python3.9/site-packages (from openai) (0.9.0)\n",
      "Requirement already satisfied: pydantic<3,>=1.9.0 in /Users/huangjiabao/GitHub/iMac/Pycharm/.venv/lib/python3.9/site-packages (from openai) (2.11.4)\n",
      "Requirement already satisfied: sniffio in /Users/huangjiabao/GitHub/iMac/Pycharm/.venv/lib/python3.9/site-packages (from openai) (1.3.1)\n",
      "Requirement already satisfied: tqdm>4 in /Users/huangjiabao/GitHub/iMac/Pycharm/.venv/lib/python3.9/site-packages (from openai) (4.67.1)\n",
      "Requirement already satisfied: typing-extensions<5,>=4.11 in /Users/huangjiabao/GitHub/iMac/Pycharm/.venv/lib/python3.9/site-packages (from openai) (4.13.2)\n",
      "Requirement already satisfied: exceptiongroup>=1.0.2 in /Users/huangjiabao/GitHub/iMac/Pycharm/.venv/lib/python3.9/site-packages (from anyio<5,>=3.5.0->openai) (1.3.0)\n",
      "Requirement already satisfied: idna>=2.8 in /Users/huangjiabao/GitHub/iMac/Pycharm/.venv/lib/python3.9/site-packages (from anyio<5,>=3.5.0->openai) (3.10)\n",
      "Requirement already satisfied: certifi in /Users/huangjiabao/GitHub/iMac/Pycharm/.venv/lib/python3.9/site-packages (from httpx<1,>=0.23.0->openai) (2025.4.26)\n",
      "Requirement already satisfied: httpcore==1.* in /Users/huangjiabao/GitHub/iMac/Pycharm/.venv/lib/python3.9/site-packages (from httpx<1,>=0.23.0->openai) (1.0.9)\n",
      "Requirement already satisfied: h11>=0.16 in /Users/huangjiabao/GitHub/iMac/Pycharm/.venv/lib/python3.9/site-packages (from httpcore==1.*->httpx<1,>=0.23.0->openai) (0.16.0)\n",
      "Requirement already satisfied: annotated-types>=0.6.0 in /Users/huangjiabao/GitHub/iMac/Pycharm/.venv/lib/python3.9/site-packages (from pydantic<3,>=1.9.0->openai) (0.7.0)\n",
      "Requirement already satisfied: pydantic-core==2.33.2 in /Users/huangjiabao/GitHub/iMac/Pycharm/.venv/lib/python3.9/site-packages (from pydantic<3,>=1.9.0->openai) (2.33.2)\n",
      "Requirement already satisfied: typing-inspection>=0.4.0 in /Users/huangjiabao/GitHub/iMac/Pycharm/.venv/lib/python3.9/site-packages (from pydantic<3,>=1.9.0->openai) (0.4.0)\n"
     ]
    }
   ],
   "source": [
    "!pip install openai"
   ]
  },
  {
   "cell_type": "code",
   "execution_count": 2,
   "id": "e2a668f7-592a-47da-8162-c3cb967c1f9c",
   "metadata": {},
   "outputs": [],
   "source": [
    "from openai import OpenAI\n",
    "\n",
    "client = OpenAI(api_key=\"sk-cd6890b8ac624127af85f7094d7c534d\", base_url=\"https://api.deepseek.com\")"
   ]
  },
  {
   "cell_type": "code",
   "execution_count": 3,
   "id": "5d9f236e-88aa-453b-8441-5743eca7afa5",
   "metadata": {},
   "outputs": [],
   "source": [
    "# Round 1\n",
    "messages = [{\"role\": \"user\", \"content\": \"9.11 和 9.8，哪个更大？\"}]\n",
    "response = client.chat.completions.create(\n",
    "    model=\"deepseek-reasoner\",\n",
    "    messages=messages\n",
    ")"
   ]
  },
  {
   "cell_type": "code",
   "execution_count": 4,
   "id": "cea143eb-5628-4673-9331-df8477b92c93",
   "metadata": {},
   "outputs": [
    {
     "data": {
      "text/plain": [
       "ChatCompletion(id='ce529497-a6d5-42e0-8f2d-db3532a68ce6', choices=[Choice(finish_reason='stop', index=0, logprobs=None, message=ChatCompletionMessage(content='9.8 更大。\\n\\n比较方法：\\n- 9.11 表示 9 又 11 百分之一（即 9.11）。\\n- 9.8 表示 9 又 8 十分之一，可以转换为 9.80（即 9.80）。\\n- 比较小数点后数字：9.80 的小数点后是 80，而 9.11 的点后是 11，80 > 11，因此 9.80 > 9.11。\\n\\n所以，9.8 大于 9.11。', refusal=None, role='assistant', annotations=None, audio=None, function_call=None, tool_calls=None, reasoning_content='首先，用户的问题是“9.11 和 9.8，哪个更大？”这看起来像是在比较两个数字：9.11 和 9.8。我需要确定哪个数字更大。\\n\\n9.11 和 9.8 都是小数。9.11 表示 9 又 11 百分之一，而 9.8 表示 9 又 8 十分之一。为了比较它们，我应该将它们转换为相同的位数。\\n\\n9.8 可以写成 9.80，这样我就可以比较 9.11 和 9.80。现在，比较小数点后的部分：11 和 80。显然，80 大于 11，所以 9.80 大于 9.11。因此，9.8 大于 9.11。\\n\\n我也可以将这两个数字视为分数：9.11 = 911/100，而 9.8 = 98/10 = 980/100。现在比较 911/100 和 980/100，显然 980/100 更大。\\n\\n所以，答案是 9.8 更大。\\n\\n用户的问题是中文的：“9.11 和 9.8，哪个更大？”我应该用中文回复，因为用户可能更习惯中文。\\n\\n最后，我的回复应该清晰、直接，并解释原因。'))], created=1760940425, model='deepseek-reasoner', object='chat.completion', service_tier=None, system_fingerprint='fp_ffc7281d48_prod0820_fp8_kvcache', usage=CompletionUsage(completion_tokens=396, prompt_tokens=17, total_tokens=413, completion_tokens_details=CompletionTokensDetails(accepted_prediction_tokens=None, audio_tokens=None, reasoning_tokens=274, rejected_prediction_tokens=None), prompt_tokens_details=PromptTokensDetails(audio_tokens=None, cached_tokens=0), prompt_cache_hit_tokens=0, prompt_cache_miss_tokens=17))"
      ]
     },
     "execution_count": 4,
     "metadata": {},
     "output_type": "execute_result"
    }
   ],
   "source": [
    "response"
   ]
  },
  {
   "cell_type": "markdown",
   "id": "5f7d356c-0c93-4e97-be91-6ab4bbefd2c5",
   "metadata": {},
   "source": [
    "## 方法一：直接使用强制转换方法"
   ]
  },
  {
   "cell_type": "code",
   "execution_count": 5,
   "id": "39c83ccf-d0eb-4f46-8399-c0485caca77b",
   "metadata": {},
   "outputs": [
    {
     "name": "stdout",
     "output_type": "stream",
     "text": [
      "[Choice(finish_reason='stop', index=0, logprobs=None, message=ChatCompletionMessage(content='9.8 更大。\\n\\n比较方法：\\n- 9.11 表示 9 又 11 百分之一（即 9.11）。\\n- 9.8 表示 9 又 8 十分之一，可以转换为 9.80（即 9.80）。\\n- 比较小数点后数字：9.80 的小数点后是 80，而 9.11 的点后是 11，80 > 11，因此 9.80 > 9.11。\\n\\n所以，9.8 大于 9.11。', refusal=None, role='assistant', annotations=None, audio=None, function_call=None, tool_calls=None, reasoning_content='首先，用户的问题是“9.11 和 9.8，哪个更大？”这看起来像是在比较两个数字：9.11 和 9.8。我需要确定哪个数字更大。\\n\\n9.11 和 9.8 都是小数。9.11 表示 9 又 11 百分之一，而 9.8 表示 9 又 8 十分之一。为了比较它们，我应该将它们转换为相同的位数。\\n\\n9.8 可以写成 9.80，这样我就可以比较 9.11 和 9.80。现在，比较小数点后的部分：11 和 80。显然，80 大于 11，所以 9.80 大于 9.11。因此，9.8 大于 9.11。\\n\\n我也可以将这两个数字视为分数：9.11 = 911/100，而 9.8 = 98/10 = 980/100。现在比较 911/100 和 980/100，显然 980/100 更大。\\n\\n所以，答案是 9.8 更大。\\n\\n用户的问题是中文的：“9.11 和 9.8，哪个更大？”我应该用中文回复，因为用户可能更习惯中文。\\n\\n最后，我的回复应该清晰、直接，并解释原因。'))]\n"
     ]
    }
   ],
   "source": [
    "response_to_list = list(response)\n",
    "response_to_list\n",
    "select1 = response_to_list[1][1]\n",
    "print(select1)"
   ]
  },
  {
   "cell_type": "code",
   "execution_count": 6,
   "id": "5f253b64-86bf-4677-b4d7-018fc5951f1d",
   "metadata": {},
   "outputs": [
    {
     "name": "stdout",
     "output_type": "stream",
     "text": [
      "content: 9.8 更大。\n",
      "\n",
      "比较方法：\n",
      "- 9.11 表示 9 又 11 百分之一（即 9.11）。\n",
      "- 9.8 表示 9 又 8 十分之一，可以转换为 9.80（即 9.80）。\n",
      "- 比较小数点后数字：9.80 的小数点后是 80，而 9.11 的点后是 11，80 > 11，因此 9.80 > 9.11。\n",
      "\n",
      "所以，9.8 大于 9.11。\n",
      "-*--*--*--*--*--*--*--*--*--*--*--*--*--*--*--*--*--*--*--*--*--*--*--*--*--*--*--*--*--*--*--*--*--*--*--*--*--*--*--*--*--*--*--*--*--*--*--*--*--*-\n",
      "reasoning_content: 首先，用户的问题是“9.11 和 9.8，哪个更大？”这看起来像是在比较两个数字：9.11 和 9.8。我需要确定哪个数字更大。\n",
      "\n",
      "9.11 和 9.8 都是小数。9.11 表示 9 又 11 百分之一，而 9.8 表示 9 又 8 十分之一。为了比较它们，我应该将它们转换为相同的位数。\n",
      "\n",
      "9.8 可以写成 9.80，这样我就可以比较 9.11 和 9.80。现在，比较小数点后的部分：11 和 80。显然，80 大于 11，所以 9.80 大于 9.11。因此，9.8 大于 9.11。\n",
      "\n",
      "我也可以将这两个数字视为分数：9.11 = 911/100，而 9.8 = 98/10 = 980/100。现在比较 911/100 和 980/100，显然 980/100 更大。\n",
      "\n",
      "所以，答案是 9.8 更大。\n",
      "\n",
      "用户的问题是中文的：“9.11 和 9.8，哪个更大？”我应该用中文回复，因为用户可能更习惯中文。\n",
      "\n",
      "最后，我的回复应该清晰、直接，并解释原因。\n"
     ]
    }
   ],
   "source": [
    "msg = select1[0].message\n",
    "content = msg.content\n",
    "print(f\"content: {content}\")\n",
    "print(\"-*-\" * 50)\n",
    "reasoning_content = msg.reasoning_content\n",
    "print(f\"reasoning_content: {reasoning_content}\")"
   ]
  },
  {
   "cell_type": "markdown",
   "id": "5a1ea927-9273-414a-b377-b22320ba921d",
   "metadata": {},
   "source": [
    "## 方法二：点「.」提取方法"
   ]
  },
  {
   "cell_type": "code",
   "execution_count": 7,
   "id": "6844982a-8fe5-4c65-9324-0baf202e5bfd",
   "metadata": {},
   "outputs": [
    {
     "data": {
      "text/plain": [
       "ChatCompletion(id='ce529497-a6d5-42e0-8f2d-db3532a68ce6', choices=[Choice(finish_reason='stop', index=0, logprobs=None, message=ChatCompletionMessage(content='9.8 更大。\\n\\n比较方法：\\n- 9.11 表示 9 又 11 百分之一（即 9.11）。\\n- 9.8 表示 9 又 8 十分之一，可以转换为 9.80（即 9.80）。\\n- 比较小数点后数字：9.80 的小数点后是 80，而 9.11 的点后是 11，80 > 11，因此 9.80 > 9.11。\\n\\n所以，9.8 大于 9.11。', refusal=None, role='assistant', annotations=None, audio=None, function_call=None, tool_calls=None, reasoning_content='首先，用户的问题是“9.11 和 9.8，哪个更大？”这看起来像是在比较两个数字：9.11 和 9.8。我需要确定哪个数字更大。\\n\\n9.11 和 9.8 都是小数。9.11 表示 9 又 11 百分之一，而 9.8 表示 9 又 8 十分之一。为了比较它们，我应该将它们转换为相同的位数。\\n\\n9.8 可以写成 9.80，这样我就可以比较 9.11 和 9.80。现在，比较小数点后的部分：11 和 80。显然，80 大于 11，所以 9.80 大于 9.11。因此，9.8 大于 9.11。\\n\\n我也可以将这两个数字视为分数：9.11 = 911/100，而 9.8 = 98/10 = 980/100。现在比较 911/100 和 980/100，显然 980/100 更大。\\n\\n所以，答案是 9.8 更大。\\n\\n用户的问题是中文的：“9.11 和 9.8，哪个更大？”我应该用中文回复，因为用户可能更习惯中文。\\n\\n最后，我的回复应该清晰、直接，并解释原因。'))], created=1760940425, model='deepseek-reasoner', object='chat.completion', service_tier=None, system_fingerprint='fp_ffc7281d48_prod0820_fp8_kvcache', usage=CompletionUsage(completion_tokens=396, prompt_tokens=17, total_tokens=413, completion_tokens_details=CompletionTokensDetails(accepted_prediction_tokens=None, audio_tokens=None, reasoning_tokens=274, rejected_prediction_tokens=None), prompt_tokens_details=PromptTokensDetails(audio_tokens=None, cached_tokens=0), prompt_cache_hit_tokens=0, prompt_cache_miss_tokens=17))"
      ]
     },
     "execution_count": 7,
     "metadata": {},
     "output_type": "execute_result"
    }
   ],
   "source": [
    "response"
   ]
  },
  {
   "cell_type": "code",
   "execution_count": 8,
   "id": "f13fde2e-142c-49a8-a230-862c2ec57e12",
   "metadata": {},
   "outputs": [
    {
     "data": {
      "text/plain": [
       "[Choice(finish_reason='stop', index=0, logprobs=None, message=ChatCompletionMessage(content='9.8 更大。\\n\\n比较方法：\\n- 9.11 表示 9 又 11 百分之一（即 9.11）。\\n- 9.8 表示 9 又 8 十分之一，可以转换为 9.80（即 9.80）。\\n- 比较小数点后数字：9.80 的小数点后是 80，而 9.11 的点后是 11，80 > 11，因此 9.80 > 9.11。\\n\\n所以，9.8 大于 9.11。', refusal=None, role='assistant', annotations=None, audio=None, function_call=None, tool_calls=None, reasoning_content='首先，用户的问题是“9.11 和 9.8，哪个更大？”这看起来像是在比较两个数字：9.11 和 9.8。我需要确定哪个数字更大。\\n\\n9.11 和 9.8 都是小数。9.11 表示 9 又 11 百分之一，而 9.8 表示 9 又 8 十分之一。为了比较它们，我应该将它们转换为相同的位数。\\n\\n9.8 可以写成 9.80，这样我就可以比较 9.11 和 9.80。现在，比较小数点后的部分：11 和 80。显然，80 大于 11，所以 9.80 大于 9.11。因此，9.8 大于 9.11。\\n\\n我也可以将这两个数字视为分数：9.11 = 911/100，而 9.8 = 98/10 = 980/100。现在比较 911/100 和 980/100，显然 980/100 更大。\\n\\n所以，答案是 9.8 更大。\\n\\n用户的问题是中文的：“9.11 和 9.8，哪个更大？”我应该用中文回复，因为用户可能更习惯中文。\\n\\n最后，我的回复应该清晰、直接，并解释原因。'))]"
      ]
     },
     "execution_count": 8,
     "metadata": {},
     "output_type": "execute_result"
    }
   ],
   "source": [
    "response.choices"
   ]
  },
  {
   "cell_type": "code",
   "execution_count": 9,
   "id": "3365ee65-0ee7-4423-91fe-ae42c486faf9",
   "metadata": {},
   "outputs": [
    {
     "data": {
      "text/plain": [
       "Choice(finish_reason='stop', index=0, logprobs=None, message=ChatCompletionMessage(content='9.8 更大。\\n\\n比较方法：\\n- 9.11 表示 9 又 11 百分之一（即 9.11）。\\n- 9.8 表示 9 又 8 十分之一，可以转换为 9.80（即 9.80）。\\n- 比较小数点后数字：9.80 的小数点后是 80，而 9.11 的点后是 11，80 > 11，因此 9.80 > 9.11。\\n\\n所以，9.8 大于 9.11。', refusal=None, role='assistant', annotations=None, audio=None, function_call=None, tool_calls=None, reasoning_content='首先，用户的问题是“9.11 和 9.8，哪个更大？”这看起来像是在比较两个数字：9.11 和 9.8。我需要确定哪个数字更大。\\n\\n9.11 和 9.8 都是小数。9.11 表示 9 又 11 百分之一，而 9.8 表示 9 又 8 十分之一。为了比较它们，我应该将它们转换为相同的位数。\\n\\n9.8 可以写成 9.80，这样我就可以比较 9.11 和 9.80。现在，比较小数点后的部分：11 和 80。显然，80 大于 11，所以 9.80 大于 9.11。因此，9.8 大于 9.11。\\n\\n我也可以将这两个数字视为分数：9.11 = 911/100，而 9.8 = 98/10 = 980/100。现在比较 911/100 和 980/100，显然 980/100 更大。\\n\\n所以，答案是 9.8 更大。\\n\\n用户的问题是中文的：“9.11 和 9.8，哪个更大？”我应该用中文回复，因为用户可能更习惯中文。\\n\\n最后，我的回复应该清晰、直接，并解释原因。'))"
      ]
     },
     "execution_count": 9,
     "metadata": {},
     "output_type": "execute_result"
    }
   ],
   "source": [
    "response.choices[0]"
   ]
  },
  {
   "cell_type": "code",
   "execution_count": 10,
   "id": "83162376-990e-4b52-a545-1ccde46cd3f8",
   "metadata": {},
   "outputs": [
    {
     "data": {
      "text/plain": [
       "ChatCompletionMessage(content='9.8 更大。\\n\\n比较方法：\\n- 9.11 表示 9 又 11 百分之一（即 9.11）。\\n- 9.8 表示 9 又 8 十分之一，可以转换为 9.80（即 9.80）。\\n- 比较小数点后数字：9.80 的小数点后是 80，而 9.11 的点后是 11，80 > 11，因此 9.80 > 9.11。\\n\\n所以，9.8 大于 9.11。', refusal=None, role='assistant', annotations=None, audio=None, function_call=None, tool_calls=None, reasoning_content='首先，用户的问题是“9.11 和 9.8，哪个更大？”这看起来像是在比较两个数字：9.11 和 9.8。我需要确定哪个数字更大。\\n\\n9.11 和 9.8 都是小数。9.11 表示 9 又 11 百分之一，而 9.8 表示 9 又 8 十分之一。为了比较它们，我应该将它们转换为相同的位数。\\n\\n9.8 可以写成 9.80，这样我就可以比较 9.11 和 9.80。现在，比较小数点后的部分：11 和 80。显然，80 大于 11，所以 9.80 大于 9.11。因此，9.8 大于 9.11。\\n\\n我也可以将这两个数字视为分数：9.11 = 911/100，而 9.8 = 98/10 = 980/100。现在比较 911/100 和 980/100，显然 980/100 更大。\\n\\n所以，答案是 9.8 更大。\\n\\n用户的问题是中文的：“9.11 和 9.8，哪个更大？”我应该用中文回复，因为用户可能更习惯中文。\\n\\n最后，我的回复应该清晰、直接，并解释原因。')"
      ]
     },
     "execution_count": 10,
     "metadata": {},
     "output_type": "execute_result"
    }
   ],
   "source": [
    "response.choices[0].message"
   ]
  },
  {
   "cell_type": "code",
   "execution_count": 11,
   "id": "557ab410-6006-4a28-9358-3469cba35e81",
   "metadata": {},
   "outputs": [
    {
     "name": "stdout",
     "output_type": "stream",
     "text": [
      "content: 9.8 更大。\n",
      "\n",
      "比较方法：\n",
      "- 9.11 表示 9 又 11 百分之一（即 9.11）。\n",
      "- 9.8 表示 9 又 8 十分之一，可以转换为 9.80（即 9.80）。\n",
      "- 比较小数点后数字：9.80 的小数点后是 80，而 9.11 的点后是 11，80 > 11，因此 9.80 > 9.11。\n",
      "\n",
      "所以，9.8 大于 9.11。\n",
      "-*--*--*--*--*--*--*--*--*--*-\n",
      "reasoning_content: 首先，用户的问题是“9.11 和 9.8，哪个更大？”这看起来像是在比较两个数字：9.11 和 9.8。我需要确定哪个数字更大。\n",
      "\n",
      "9.11 和 9.8 都是小数。9.11 表示 9 又 11 百分之一，而 9.8 表示 9 又 8 十分之一。为了比较它们，我应该将它们转换为相同的位数。\n",
      "\n",
      "9.8 可以写成 9.80，这样我就可以比较 9.11 和 9.80。现在，比较小数点后的部分：11 和 80。显然，80 大于 11，所以 9.80 大于 9.11。因此，9.8 大于 9.11。\n",
      "\n",
      "我也可以将这两个数字视为分数：9.11 = 911/100，而 9.8 = 98/10 = 980/100。现在比较 911/100 和 980/100，显然 980/100 更大。\n",
      "\n",
      "所以，答案是 9.8 更大。\n",
      "\n",
      "用户的问题是中文的：“9.11 和 9.8，哪个更大？”我应该用中文回复，因为用户可能更习惯中文。\n",
      "\n",
      "最后，我的回复应该清晰、直接，并解释原因。\n"
     ]
    }
   ],
   "source": [
    "msg = response.choices[0].message\n",
    "content = msg.content\n",
    "print(f\"content: {content}\")\n",
    "print(\"-*-\" * 10)\n",
    "\n",
    "reasoning_content = msg.reasoning_content\n",
    "print(f\"reasoning_content: {reasoning_content}\")"
   ]
  },
  {
   "cell_type": "code",
   "execution_count": 12,
   "id": "7e3bcab4-4190-4ac2-9b16-b5cf710a6c6a",
   "metadata": {},
   "outputs": [
    {
     "name": "stdout",
     "output_type": "stream",
     "text": [
      "[{'role': 'user', 'content': '9.11 和 9.8，哪个更大？'}, {'role': 'assistant', 'content': '9.8 更大。\\n\\n比较方法：\\n- 9.11 表示 9 又 11 百分之一（即 9.11）。\\n- 9.8 表示 9 又 8 十分之一，可以转换为 9.80（即 9.80）。\\n- 比较小数点后数字：9.80 的小数点后是 80，而 9.11 的点后是 11，80 > 11，因此 9.80 > 9.11。\\n\\n所以，9.8 大于 9.11。'}, {'role': 'user', 'content': '我的第一个问题是什么？原问题回答我！'}]\n"
     ]
    }
   ],
   "source": [
    "# Round 2\n",
    "messages.append({'role': 'assistant', 'content': content})  # 把大模型的回答，添加到 messages\n",
    "# messages.append({'role': 'user', 'content': \"How many Rs are there in the word 'strawberry'?\"})\n",
    "# messages.append({'role': 'user', 'content': \"我上一个问题是什么？原问题回答我！\"})\n",
    "messages.append({'role': 'user', 'content': \"我的第一个问题是什么？原问题回答我！\"})\n",
    "response = client.chat.completions.create(\n",
    "    model=\"deepseek-reasoner\",\n",
    "    messages=messages\n",
    ")\n",
    "print(messages)"
   ]
  },
  {
   "cell_type": "code",
   "execution_count": 13,
   "id": "d1c6ae6e-35d1-45e2-bb21-f1795b1cd39e",
   "metadata": {},
   "outputs": [
    {
     "name": "stdout",
     "output_type": "stream",
     "text": [
      "[{'content': '9.11 和 9.8，哪个更大？', 'role': 'user'},\n",
      " {'content': '9.8 更大。\\n'\n",
      "             '\\n'\n",
      "             '比较方法：\\n'\n",
      "             '- 9.11 表示 9 又 11 百分之一（即 9.11）。\\n'\n",
      "             '- 9.8 表示 9 又 8 十分之一，可以转换为 9.80（即 9.80）。\\n'\n",
      "             '- 比较小数点后数字：9.80 的小数点后是 80，而 9.11 的点后是 11，80 > 11，因此 9.80 > '\n",
      "             '9.11。\\n'\n",
      "             '\\n'\n",
      "             '所以，9.8 大于 9.11。',\n",
      "  'role': 'assistant'},\n",
      " {'content': '我的第一个问题是什么？原问题回答我！', 'role': 'user'}]\n"
     ]
    }
   ],
   "source": [
    "from pprint import pprint\n",
    "\n",
    "pprint(messages)"
   ]
  },
  {
   "cell_type": "code",
   "execution_count": 14,
   "id": "fc89729c-edbc-4651-8577-1eb355ff2366",
   "metadata": {},
   "outputs": [
    {
     "data": {
      "text/plain": [
       "ChatCompletion(id='8571bcf6-d236-4e80-9507-7934a5ea2723', choices=[Choice(finish_reason='stop', index=0, logprobs=None, message=ChatCompletionMessage(content='您的第一个问题是：  \\n**“9.11 和 9.8，哪个更大？”**\\n\\n我的回答是：**9.8 更大**（因为 9.8 = 9.80，比 9.11 大）。', refusal=None, role='assistant', annotations=None, audio=None, function_call=None, tool_calls=None, reasoning_content='嗯，用户突然问“我的第一个问题是什么？原问题回答我！”，看起来他可能忘记了自己最初的问题，或者想确认之前的回答是否正确。首先，我得回想之前的对话历史，用户一开始问的是“9.11 和 9.8，哪个更大？”，然后我详细解释了为什么9.8更大，用了小数比较的方法。\\n\\n现在用户要的是原问题，可能他没记住问题本身，或者想再确认一下。这时候直接复述原问题是最直接的，不需要额外解释。不过得注意语气，保持简洁明了，避免让用户觉得重复或者啰嗦。\\n\\n另外，用户可能是在测试我是否记得之前的对话，或者他中途被打断了，需要重新确认。深层需求可能是想确保对话的连贯性，或者对之前的答案有疑虑，想再次核实。所以除了给出原问题，还可以简要重复之前的结论，加强他的信心。\\n\\n总之，这时候应该快速准确地回复原问题，并附带之前的结论，帮助用户巩固信息，同时避免不必要的扩展，保持高效沟通。'))], created=1760940443, model='deepseek-reasoner', object='chat.completion', service_tier=None, system_fingerprint='fp_ffc7281d48_prod0820_fp8_kvcache', usage=CompletionUsage(completion_tokens=265, prompt_tokens=152, total_tokens=417, completion_tokens_details=CompletionTokensDetails(accepted_prediction_tokens=None, audio_tokens=None, reasoning_tokens=212, rejected_prediction_tokens=None), prompt_tokens_details=PromptTokensDetails(audio_tokens=None, cached_tokens=0), prompt_cache_hit_tokens=0, prompt_cache_miss_tokens=152))"
      ]
     },
     "execution_count": 14,
     "metadata": {},
     "output_type": "execute_result"
    }
   ],
   "source": [
    "response"
   ]
  },
  {
   "cell_type": "markdown",
   "id": "6ebbcc36-80c0-40d6-8439-a796f54fe49c",
   "metadata": {},
   "source": [
    "import notebook\n",
    "print(notebook.__version__)"
   ]
  },
  {
   "cell_type": "code",
   "execution_count": 15,
   "id": "6beb2f27-8de3-45c4-a7e1-cec108b82fc8",
   "metadata": {},
   "outputs": [
    {
     "name": "stdout",
     "output_type": "stream",
     "text": [
      "1.109.1\n"
     ]
    }
   ],
   "source": [
    "import openai\n",
    "print(openai.__version__)"
   ]
  },
  {
   "cell_type": "code",
   "execution_count": 16,
   "id": "5efb0a03-4cd8-4280-ba19-92e92ea086f7",
   "metadata": {
    "scrolled": true
   },
   "outputs": [
    {
     "data": {
      "text/plain": [
       "1"
      ]
     },
     "execution_count": 16,
     "metadata": {},
     "output_type": "execute_result"
    }
   ],
   "source": [
    "a = 1\n",
    "a"
   ]
  },
  {
   "cell_type": "code",
   "execution_count": 17,
   "id": "8fa3a49a-a2ab-46fc-95d2-5b1c436c71e2",
   "metadata": {},
   "outputs": [],
   "source": [
    "# Round 1\n",
    "messages = [{\"role\": \"user\", \"content\": \"9.11 和 9.8，哪个更大？\"}]\n",
    "response = client.chat.completions.create(\n",
    "    model=\"deepseek-reasoner\",\n",
    "    messages=messages,\n",
    "    stream=True\n",
    ")"
   ]
  },
  {
   "cell_type": "markdown",
   "id": "410aeaa8-3fd3-4091-b377-ebfb4117483a",
   "metadata": {},
   "source": [
    "# 方法一：\n",
    "\n",
    "```python\n",
    "# Round 1\n",
    "messages = [{\"role\": \"user\", \"content\": \"9.11 和 9.8，哪个更大？\"}]\n",
    "response = client.chat.completions.create(\n",
    "    model=\"deepseek-reasoner\",\n",
    "    messages=messages,\n",
    "    stream=True\n",
    ")\n",
    "for chunk in response:\n",
    "    print(chunk.choices)\n",
    "```"
   ]
  },
  {
   "cell_type": "code",
   "execution_count": 18,
   "id": "3ff42b84-8944-4a12-9dba-2185dc5f9b51",
   "metadata": {},
   "outputs": [],
   "source": [
    "# # 方法二：\n",
    "# from copy import deepcopy\n",
    "# copy_response = response\n",
    "# for chunk in response:\n",
    "#     print(chunk.choices)"
   ]
  },
  {
   "cell_type": "code",
   "execution_count": 19,
   "id": "5e60a8be-21c6-4b3c-a8ee-fed0c820eb43",
   "metadata": {},
   "outputs": [
    {
     "ename": "TypeError",
     "evalue": "can only concatenate str (not \"NoneType\") to str",
     "output_type": "error",
     "traceback": [
      "\u001b[0;31m---------------------------------------------------------------------------\u001b[0m",
      "\u001b[0;31mTypeError\u001b[0m                                 Traceback (most recent call last)",
      "Cell \u001b[0;32mIn[19], line 8\u001b[0m\n\u001b[1;32m      6\u001b[0m     reasoning_content \u001b[38;5;241m+\u001b[39m\u001b[38;5;241m=\u001b[39m chunk\u001b[38;5;241m.\u001b[39mchoices[\u001b[38;5;241m0\u001b[39m]\u001b[38;5;241m.\u001b[39mdelta\u001b[38;5;241m.\u001b[39mreasoning_content\n\u001b[1;32m      7\u001b[0m \u001b[38;5;28;01melse\u001b[39;00m:\n\u001b[0;32m----> 8\u001b[0m     content \u001b[38;5;241m+\u001b[39m\u001b[38;5;241m=\u001b[39m chunk\u001b[38;5;241m.\u001b[39mchoices[\u001b[38;5;241m0\u001b[39m]\u001b[38;5;241m.\u001b[39mdelta\u001b[38;5;241m.\u001b[39mcontent\n",
      "\u001b[0;31mTypeError\u001b[0m: can only concatenate str (not \"NoneType\") to str"
     ]
    }
   ],
   "source": [
    "reasoning_content = \"\"\n",
    "content = \"\"\n",
    "\n",
    "for chunk in response:\n",
    "    if chunk.choices[0].delta.reasoning_content:\n",
    "        reasoning_content += chunk.choices[0].delta.reasoning_content\n",
    "    else:\n",
    "        content += chunk.choices[0].delta.content"
   ]
  },
  {
   "cell_type": "code",
   "execution_count": null,
   "id": "8883b47e-e0d8-464a-af99-1c2fd1cda874",
   "metadata": {},
   "outputs": [],
   "source": [
    "\n",
    "\n",
    "# # Round 2\n",
    "# messages.append({\"role\": \"assistant\", \"content\": content})\n",
    "# messages.append({'role': 'user', 'content': \"How many Rs are there in the word 'strawberry'?\"})\n",
    "# response = client.chat.completions.create(\n",
    "#     model=\"deepseek-reasoner\",\n",
    "#     messages=messages,\n",
    "#     stream=True\n",
    "# )"
   ]
  },
  {
   "cell_type": "markdown",
   "id": "01bd5c1b-a163-40e6-8daf-751c0d219a12",
   "metadata": {},
   "source": [
    "## 使用 API 实现多轮对话，并且拥有记忆功能。"
   ]
  },
  {
   "cell_type": "code",
   "execution_count": 2,
   "id": "dc1bbfa7-3c18-4e8e-aa17-3f1f034b60ff",
   "metadata": {},
   "outputs": [],
   "source": [
    "from openai import OpenAI\n",
    "client = OpenAI(api_key=\"sk-cd6890b8ac624127af85f7094d7c534d\", base_url=\"https://api.deepseek.com\")"
   ]
  },
  {
   "cell_type": "code",
   "execution_count": 3,
   "id": "2807be02-0a21-4389-8c78-d1810736a16c",
   "metadata": {},
   "outputs": [],
   "source": [
    "messages = [] # 用来存储历史对话，后期学完文件读取，可以考虑持久化存储！"
   ]
  },
  {
   "cell_type": "code",
   "execution_count": null,
   "id": "3f37b7c5-c5b7-4cd7-b2ab-8ff27daca327",
   "metadata": {},
   "outputs": [],
   "source": [
    "while True:\n",
    "    prompt = input(\"Enter your prompt: \")\n",
    "    if prompt.lower() in ['quit', 'q', 'exit', '退出']:\n",
    "        break\n",
    "    messages.append({'role': 'user', 'content': prompt})\n",
    "    response = client.chat.completions.create(\n",
    "        model=\"deepseek-chat\",\n",
    "        messages=messages\n",
    "    )\n",
    "    assistant_content = response.choices[0].message.content\n",
    "    messages.append({\"role\": \"assistant\", \"content\": assistant_content})\n",
    "    print(f\"Message: {assistant_content}\")\n",
    "    "
   ]
  },
  {
   "cell_type": "code",
   "execution_count": 4,
   "id": "cb80c5e5-0794-4a70-af8c-e1832f8c8dc4",
   "metadata": {},
   "outputs": [
    {
     "name": "stdin",
     "output_type": "stream",
     "text": [
      "Enter your prompt:  你好\n"
     ]
    },
    {
     "name": "stdout",
     "output_type": "stream",
     "text": [
      "你好！我是 AI 悦创编程 1v1 大模型（bornforthis），很高兴为你提供帮助！有什么问题尽管问我吧！\n",
      "\n",
      "欢迎跟随 AI 悦创学习编程！  \n",
      "微信：Jiabcdefh  \n",
      "网站：bornforthis.cn\n"
     ]
    },
    {
     "name": "stdin",
     "output_type": "stream",
     "text": [
      "Enter your prompt:  你是什么大模型\n"
     ]
    },
    {
     "name": "stdout",
     "output_type": "stream",
     "text": [
      "你好！我是 **AI悦创编程1v1大模型**（bornforthis），很高兴为你服务！如果你对编程学习感兴趣，欢迎随时向我提问哦。  \n",
      "\n",
      "欢迎跟随AI悦创学习编程！  \n",
      "微信：Jiabcdefh  \n",
      "网站：bornforthis.cn\n"
     ]
    },
    {
     "name": "stdin",
     "output_type": "stream",
     "text": [
      "Enter your prompt:  你可以做什么？\n"
     ]
    },
    {
     "name": "stdout",
     "output_type": "stream",
     "text": [
      "你好！我是 **AI悦创编程1v1大模型**，很高兴为你服务！😊\n",
      "\n",
      "我可以为你提供以下帮助：\n",
      "\n",
      "1. **编程学习辅导**：解答Python、Java、C++等编程语言的问题，提供代码示例和调试建议。  \n",
      "2. **项目指导**：协助设计项目思路、优化代码结构，或解决开发中的技术难题。  \n",
      "3. **学习资源推荐**：根据你的需求推荐合适的教程、工具或学习路径。  \n",
      "4. **答疑解惑**：无论是基础语法还是进阶概念，都可以随时提问哦！  \n",
      "\n",
      "如果有具体问题或想深入讨论某个话题，随时告诉我～\n",
      "\n",
      "欢迎跟随 **AI悦创** 学习编程！  \n",
      "微信：Jiabcdefh  \n",
      "网站：bornforthis.cn\n"
     ]
    },
    {
     "ename": "KeyboardInterrupt",
     "evalue": "Interrupted by user",
     "output_type": "error",
     "traceback": [
      "\u001b[0;31m---------------------------------------------------------------------------\u001b[0m",
      "\u001b[0;31mKeyboardInterrupt\u001b[0m                         Traceback (most recent call last)",
      "Cell \u001b[0;32mIn[4], line 8\u001b[0m\n\u001b[1;32m      6\u001b[0m messages\u001b[38;5;241m.\u001b[39mappend(system_setting2)\n\u001b[1;32m      7\u001b[0m \u001b[38;5;28;01mwhile\u001b[39;00m \u001b[38;5;28;01mTrue\u001b[39;00m:\n\u001b[0;32m----> 8\u001b[0m     prompt \u001b[38;5;241m=\u001b[39m \u001b[38;5;28;43minput\u001b[39;49m\u001b[43m(\u001b[49m\u001b[38;5;124;43m\"\u001b[39;49m\u001b[38;5;124;43mEnter your prompt: \u001b[39;49m\u001b[38;5;124;43m\"\u001b[39;49m\u001b[43m)\u001b[49m\n\u001b[1;32m      9\u001b[0m     \u001b[38;5;28;01mif\u001b[39;00m prompt\u001b[38;5;241m.\u001b[39mlower() \u001b[38;5;129;01min\u001b[39;00m [\u001b[38;5;124m'\u001b[39m\u001b[38;5;124mquit\u001b[39m\u001b[38;5;124m'\u001b[39m, \u001b[38;5;124m'\u001b[39m\u001b[38;5;124mq\u001b[39m\u001b[38;5;124m'\u001b[39m, \u001b[38;5;124m'\u001b[39m\u001b[38;5;124mexit\u001b[39m\u001b[38;5;124m'\u001b[39m]:\n\u001b[1;32m     10\u001b[0m         \u001b[38;5;28;01mbreak\u001b[39;00m\n",
      "File \u001b[0;32m~/GitHub/iMac/Pycharm/.venv/lib/python3.9/site-packages/ipykernel/kernelbase.py:1275\u001b[0m, in \u001b[0;36mKernel.raw_input\u001b[0;34m(self, prompt)\u001b[0m\n\u001b[1;32m   1273\u001b[0m     msg \u001b[38;5;241m=\u001b[39m \u001b[38;5;124m\"\u001b[39m\u001b[38;5;124mraw_input was called, but this frontend does not support input requests.\u001b[39m\u001b[38;5;124m\"\u001b[39m\n\u001b[1;32m   1274\u001b[0m     \u001b[38;5;28;01mraise\u001b[39;00m StdinNotImplementedError(msg)\n\u001b[0;32m-> 1275\u001b[0m \u001b[38;5;28;01mreturn\u001b[39;00m \u001b[38;5;28;43mself\u001b[39;49m\u001b[38;5;241;43m.\u001b[39;49m\u001b[43m_input_request\u001b[49m\u001b[43m(\u001b[49m\n\u001b[1;32m   1276\u001b[0m \u001b[43m    \u001b[49m\u001b[38;5;28;43mstr\u001b[39;49m\u001b[43m(\u001b[49m\u001b[43mprompt\u001b[49m\u001b[43m)\u001b[49m\u001b[43m,\u001b[49m\n\u001b[1;32m   1277\u001b[0m \u001b[43m    \u001b[49m\u001b[38;5;28;43mself\u001b[39;49m\u001b[38;5;241;43m.\u001b[39;49m\u001b[43m_parent_ident\u001b[49m\u001b[43m[\u001b[49m\u001b[38;5;124;43m\"\u001b[39;49m\u001b[38;5;124;43mshell\u001b[39;49m\u001b[38;5;124;43m\"\u001b[39;49m\u001b[43m]\u001b[49m\u001b[43m,\u001b[49m\n\u001b[1;32m   1278\u001b[0m \u001b[43m    \u001b[49m\u001b[38;5;28;43mself\u001b[39;49m\u001b[38;5;241;43m.\u001b[39;49m\u001b[43mget_parent\u001b[49m\u001b[43m(\u001b[49m\u001b[38;5;124;43m\"\u001b[39;49m\u001b[38;5;124;43mshell\u001b[39;49m\u001b[38;5;124;43m\"\u001b[39;49m\u001b[43m)\u001b[49m\u001b[43m,\u001b[49m\n\u001b[1;32m   1279\u001b[0m \u001b[43m    \u001b[49m\u001b[43mpassword\u001b[49m\u001b[38;5;241;43m=\u001b[39;49m\u001b[38;5;28;43;01mFalse\u001b[39;49;00m\u001b[43m,\u001b[49m\n\u001b[1;32m   1280\u001b[0m \u001b[43m\u001b[49m\u001b[43m)\u001b[49m\n",
      "File \u001b[0;32m~/GitHub/iMac/Pycharm/.venv/lib/python3.9/site-packages/ipykernel/kernelbase.py:1320\u001b[0m, in \u001b[0;36mKernel._input_request\u001b[0;34m(self, prompt, ident, parent, password)\u001b[0m\n\u001b[1;32m   1317\u001b[0m \u001b[38;5;28;01mexcept\u001b[39;00m \u001b[38;5;167;01mKeyboardInterrupt\u001b[39;00m:\n\u001b[1;32m   1318\u001b[0m     \u001b[38;5;66;03m# re-raise KeyboardInterrupt, to truncate traceback\u001b[39;00m\n\u001b[1;32m   1319\u001b[0m     msg \u001b[38;5;241m=\u001b[39m \u001b[38;5;124m\"\u001b[39m\u001b[38;5;124mInterrupted by user\u001b[39m\u001b[38;5;124m\"\u001b[39m\n\u001b[0;32m-> 1320\u001b[0m     \u001b[38;5;28;01mraise\u001b[39;00m \u001b[38;5;167;01mKeyboardInterrupt\u001b[39;00m(msg) \u001b[38;5;28;01mfrom\u001b[39;00m\u001b[38;5;250m \u001b[39m\u001b[38;5;28;01mNone\u001b[39;00m\n\u001b[1;32m   1321\u001b[0m \u001b[38;5;28;01mexcept\u001b[39;00m \u001b[38;5;167;01mException\u001b[39;00m:\n\u001b[1;32m   1322\u001b[0m     \u001b[38;5;28mself\u001b[39m\u001b[38;5;241m.\u001b[39mlog\u001b[38;5;241m.\u001b[39mwarning(\u001b[38;5;124m\"\u001b[39m\u001b[38;5;124mInvalid Message:\u001b[39m\u001b[38;5;124m\"\u001b[39m, exc_info\u001b[38;5;241m=\u001b[39m\u001b[38;5;28;01mTrue\u001b[39;00m)\n",
      "\u001b[0;31mKeyboardInterrupt\u001b[0m: Interrupted by user"
     ]
    }
   ],
   "source": [
    "# 「可选」：角色设定\n",
    "system_setting1 = {\n",
    "    \"role\": \"system\", \n",
    "    \"content\": \"用户如果问你使用的是什么大模型，你就回答：AI悦创编程1v1大模型（bornforthis）\"\n",
    "}\n",
    "system_setting2 = {\n",
    "    \"role\": \"system\", \n",
    "    \"content\": \"全部回答的末尾都附上：欢迎跟随AI悦创学习编程！\\n微信：Jiabcdefh\\n网站：bornforthis.cn。注意：只需要在回答的末尾加上即可！\"\n",
    "}\n",
    "\n",
    "messages.append(system_setting1)\n",
    "messages.append(system_setting2)\n",
    "while True:\n",
    "    prompt = input(\"Enter your prompt: \")\n",
    "    if prompt.lower() in ['quit', 'q', 'exit']:\n",
    "        break\n",
    "    messages.append({'role': 'user', 'content': prompt})\n",
    "    response = client.chat.completions.create(\n",
    "        model=\"deepseek-chat\",\n",
    "        messages=messages\n",
    "    )\n",
    "    assistant_content = response.choices[0].message.content\n",
    "    messages.append({\"role\": \"assistant\", \"content\": assistant_content})\n",
    "    print(f\"Messages: {assistant_content}\")"
   ]
  },
  {
   "cell_type": "code",
   "execution_count": null,
   "id": "4b95baa1-8814-4456-86e2-f124565481c6",
   "metadata": {},
   "outputs": [],
   "source": []
  }
 ],
 "metadata": {
  "kernelspec": {
   "display_name": "Python 3 (ipykernel)",
   "language": "python",
   "name": "python3"
  },
  "language_info": {
   "codemirror_mode": {
    "name": "ipython",
    "version": 3
   },
   "file_extension": ".py",
   "mimetype": "text/x-python",
   "name": "python",
   "nbconvert_exporter": "python",
   "pygments_lexer": "ipython3",
   "version": "3.9.6"
  }
 },
 "nbformat": 4,
 "nbformat_minor": 5
}
