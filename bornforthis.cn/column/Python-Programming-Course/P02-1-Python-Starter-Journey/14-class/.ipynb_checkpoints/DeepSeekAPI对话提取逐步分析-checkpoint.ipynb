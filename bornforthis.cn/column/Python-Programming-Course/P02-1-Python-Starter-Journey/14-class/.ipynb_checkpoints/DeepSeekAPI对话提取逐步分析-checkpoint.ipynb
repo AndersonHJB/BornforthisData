{
 "cells": [
  {
   "cell_type": "code",
   "execution_count": 1,
   "id": "da289c3c-a8c4-4b7f-b0c5-a65e2fda7612",
   "metadata": {
    "scrolled": true
   },
   "outputs": [
    {
     "name": "stdout",
     "output_type": "stream",
     "text": [
      "Looking in indexes: https://mirrors.aliyun.com/pypi/simple/\n",
      "Requirement already satisfied: openai in /Users/huangjiabao/GitHub/iMac/Pycharm/.venv/lib/python3.9/site-packages (1.109.1)\n",
      "Requirement already satisfied: anyio<5,>=3.5.0 in /Users/huangjiabao/GitHub/iMac/Pycharm/.venv/lib/python3.9/site-packages (from openai) (4.9.0)\n",
      "Requirement already satisfied: distro<2,>=1.7.0 in /Users/huangjiabao/GitHub/iMac/Pycharm/.venv/lib/python3.9/site-packages (from openai) (1.9.0)\n",
      "Requirement already satisfied: httpx<1,>=0.23.0 in /Users/huangjiabao/GitHub/iMac/Pycharm/.venv/lib/python3.9/site-packages (from openai) (0.28.1)\n",
      "Requirement already satisfied: jiter<1,>=0.4.0 in /Users/huangjiabao/GitHub/iMac/Pycharm/.venv/lib/python3.9/site-packages (from openai) (0.9.0)\n",
      "Requirement already satisfied: pydantic<3,>=1.9.0 in /Users/huangjiabao/GitHub/iMac/Pycharm/.venv/lib/python3.9/site-packages (from openai) (2.11.4)\n",
      "Requirement already satisfied: sniffio in /Users/huangjiabao/GitHub/iMac/Pycharm/.venv/lib/python3.9/site-packages (from openai) (1.3.1)\n",
      "Requirement already satisfied: tqdm>4 in /Users/huangjiabao/GitHub/iMac/Pycharm/.venv/lib/python3.9/site-packages (from openai) (4.67.1)\n",
      "Requirement already satisfied: typing-extensions<5,>=4.11 in /Users/huangjiabao/GitHub/iMac/Pycharm/.venv/lib/python3.9/site-packages (from openai) (4.13.2)\n",
      "Requirement already satisfied: exceptiongroup>=1.0.2 in /Users/huangjiabao/GitHub/iMac/Pycharm/.venv/lib/python3.9/site-packages (from anyio<5,>=3.5.0->openai) (1.3.0)\n",
      "Requirement already satisfied: idna>=2.8 in /Users/huangjiabao/GitHub/iMac/Pycharm/.venv/lib/python3.9/site-packages (from anyio<5,>=3.5.0->openai) (3.10)\n",
      "Requirement already satisfied: certifi in /Users/huangjiabao/GitHub/iMac/Pycharm/.venv/lib/python3.9/site-packages (from httpx<1,>=0.23.0->openai) (2025.4.26)\n",
      "Requirement already satisfied: httpcore==1.* in /Users/huangjiabao/GitHub/iMac/Pycharm/.venv/lib/python3.9/site-packages (from httpx<1,>=0.23.0->openai) (1.0.9)\n",
      "Requirement already satisfied: h11>=0.16 in /Users/huangjiabao/GitHub/iMac/Pycharm/.venv/lib/python3.9/site-packages (from httpcore==1.*->httpx<1,>=0.23.0->openai) (0.16.0)\n",
      "Requirement already satisfied: annotated-types>=0.6.0 in /Users/huangjiabao/GitHub/iMac/Pycharm/.venv/lib/python3.9/site-packages (from pydantic<3,>=1.9.0->openai) (0.7.0)\n",
      "Requirement already satisfied: pydantic-core==2.33.2 in /Users/huangjiabao/GitHub/iMac/Pycharm/.venv/lib/python3.9/site-packages (from pydantic<3,>=1.9.0->openai) (2.33.2)\n",
      "Requirement already satisfied: typing-inspection>=0.4.0 in /Users/huangjiabao/GitHub/iMac/Pycharm/.venv/lib/python3.9/site-packages (from pydantic<3,>=1.9.0->openai) (0.4.0)\n"
     ]
    }
   ],
   "source": [
    "!pip install openai"
   ]
  },
  {
   "cell_type": "code",
   "execution_count": 2,
   "id": "e2a668f7-592a-47da-8162-c3cb967c1f9c",
   "metadata": {},
   "outputs": [],
   "source": [
    "from openai import OpenAI\n",
    "\n",
    "client = OpenAI(api_key=\"sk-cd6890b8ac624127af85f7094d7c534d\", base_url=\"https://api.deepseek.com\")"
   ]
  },
  {
   "cell_type": "code",
   "execution_count": 3,
   "id": "5d9f236e-88aa-453b-8441-5743eca7afa5",
   "metadata": {},
   "outputs": [],
   "source": [
    "# Round 1\n",
    "messages = [{\"role\": \"user\", \"content\": \"9.11 和 9.8，哪个更大？\"}]\n",
    "response = client.chat.completions.create(\n",
    "    model=\"deepseek-reasoner\",\n",
    "    messages=messages\n",
    ")"
   ]
  },
  {
   "cell_type": "code",
   "execution_count": 4,
   "id": "cea143eb-5628-4673-9331-df8477b92c93",
   "metadata": {},
   "outputs": [
    {
     "data": {
      "text/plain": [
       "ChatCompletion(id='daf91b5e-4ed8-4793-963c-ecb88a602234', choices=[Choice(finish_reason='stop', index=0, logprobs=None, message=ChatCompletionMessage(content='在数字比较中，9.11 和 9.8 都是小数。为了更清晰地比较，可以将 9.8 视为 9.80（因为 9.8 = 9.80）。\\n\\n- 整数部分相同（都是 9）。\\n- 小数部分：0.11（来自 9.11）和 0.80（来自 9.80）。由于 0.80 > 0.11，因此 **9.8 更大**。\\n\\n所以，**9.8 > 9.11**。', refusal=None, role='assistant', annotations=None, audio=None, function_call=None, tool_calls=None, reasoning_content='首先，用户的问题是“9.11 和 9.8，哪个更大？”这看起来像是在比较两个数字：9.11 和 9.8。在数学中，比较小数时，我们需要逐位比较。\\n\\n9.11 可以看作是 9.11，而 9.8 可以看作是 9.80，因为 9.8 等同于 9.80。这样，比较起来更容易。\\n\\n现在，比较整数部分：两个数字的整数部分都是 9，所以相同。\\n\\n接下来，比较小数部分。9.11 的小数部分是 0.11，而 9.8 的小数部分是 0.80。显然，0.80 大于 0.11，因为 80 比 11 大。\\n\\n所以，9.8 应该大于 9.11。\\n\\n但用户可能是在提到日期，比如 9.11 可能指 9月11日，而 9.8 可能指 9月8日。在日期的上下文中，9月11日在9月8日之后，所以 9.11 更大。但问题是用中文写的，而且没有指定上下文，所以我认为数字比较更合理。\\n\\n在中文中，数字通常用点表示小数，所以 9.11 和 9.8 应该是数字。因此，基于数字比较，9.8 更大。\\n\\n为了确认，我可以计算一下：9.11 是 9 + 11/100 = 9.11，而 9.8 是 9 + 8/10 = 9.80，确实 9.80 > 9.11。\\n\\n所以，答案应该是 9.8 更大。'))], created=1759991330, model='deepseek-reasoner', object='chat.completion', service_tier=None, system_fingerprint='fp_ffc7281d48_prod0820_fp8_kvcache', usage=CompletionUsage(completion_tokens=474, prompt_tokens=17, total_tokens=491, completion_tokens_details=CompletionTokensDetails(accepted_prediction_tokens=None, audio_tokens=None, reasoning_tokens=357, rejected_prediction_tokens=None), prompt_tokens_details=PromptTokensDetails(audio_tokens=None, cached_tokens=0), prompt_cache_hit_tokens=0, prompt_cache_miss_tokens=17))"
      ]
     },
     "execution_count": 4,
     "metadata": {},
     "output_type": "execute_result"
    }
   ],
   "source": [
    "response"
   ]
  },
  {
   "cell_type": "markdown",
   "id": "5f7d356c-0c93-4e97-be91-6ab4bbefd2c5",
   "metadata": {},
   "source": [
    "## 方法一：直接使用强制转换方法"
   ]
  },
  {
   "cell_type": "code",
   "execution_count": 5,
   "id": "39c83ccf-d0eb-4f46-8399-c0485caca77b",
   "metadata": {},
   "outputs": [
    {
     "name": "stdout",
     "output_type": "stream",
     "text": [
      "[Choice(finish_reason='stop', index=0, logprobs=None, message=ChatCompletionMessage(content='在数字比较中，9.11 和 9.8 都是小数。为了更清晰地比较，可以将 9.8 视为 9.80（因为 9.8 = 9.80）。\\n\\n- 整数部分相同（都是 9）。\\n- 小数部分：0.11（来自 9.11）和 0.80（来自 9.80）。由于 0.80 > 0.11，因此 **9.8 更大**。\\n\\n所以，**9.8 > 9.11**。', refusal=None, role='assistant', annotations=None, audio=None, function_call=None, tool_calls=None, reasoning_content='首先，用户的问题是“9.11 和 9.8，哪个更大？”这看起来像是在比较两个数字：9.11 和 9.8。在数学中，比较小数时，我们需要逐位比较。\\n\\n9.11 可以看作是 9.11，而 9.8 可以看作是 9.80，因为 9.8 等同于 9.80。这样，比较起来更容易。\\n\\n现在，比较整数部分：两个数字的整数部分都是 9，所以相同。\\n\\n接下来，比较小数部分。9.11 的小数部分是 0.11，而 9.8 的小数部分是 0.80。显然，0.80 大于 0.11，因为 80 比 11 大。\\n\\n所以，9.8 应该大于 9.11。\\n\\n但用户可能是在提到日期，比如 9.11 可能指 9月11日，而 9.8 可能指 9月8日。在日期的上下文中，9月11日在9月8日之后，所以 9.11 更大。但问题是用中文写的，而且没有指定上下文，所以我认为数字比较更合理。\\n\\n在中文中，数字通常用点表示小数，所以 9.11 和 9.8 应该是数字。因此，基于数字比较，9.8 更大。\\n\\n为了确认，我可以计算一下：9.11 是 9 + 11/100 = 9.11，而 9.8 是 9 + 8/10 = 9.80，确实 9.80 > 9.11。\\n\\n所以，答案应该是 9.8 更大。'))]\n"
     ]
    }
   ],
   "source": [
    "response_to_list = list(response)\n",
    "response_to_list\n",
    "select1 = response_to_list[1][1]\n",
    "print(select1)"
   ]
  },
  {
   "cell_type": "code",
   "execution_count": 6,
   "id": "5f253b64-86bf-4677-b4d7-018fc5951f1d",
   "metadata": {},
   "outputs": [
    {
     "name": "stdout",
     "output_type": "stream",
     "text": [
      "content: 在数字比较中，9.11 和 9.8 都是小数。为了更清晰地比较，可以将 9.8 视为 9.80（因为 9.8 = 9.80）。\n",
      "\n",
      "- 整数部分相同（都是 9）。\n",
      "- 小数部分：0.11（来自 9.11）和 0.80（来自 9.80）。由于 0.80 > 0.11，因此 **9.8 更大**。\n",
      "\n",
      "所以，**9.8 > 9.11**。\n",
      "-*--*--*--*--*--*--*--*--*--*--*--*--*--*--*--*--*--*--*--*--*--*--*--*--*--*--*--*--*--*--*--*--*--*--*--*--*--*--*--*--*--*--*--*--*--*--*--*--*--*-\n",
      "reasoning_content: 首先，用户的问题是“9.11 和 9.8，哪个更大？”这看起来像是在比较两个数字：9.11 和 9.8。在数学中，比较小数时，我们需要逐位比较。\n",
      "\n",
      "9.11 可以看作是 9.11，而 9.8 可以看作是 9.80，因为 9.8 等同于 9.80。这样，比较起来更容易。\n",
      "\n",
      "现在，比较整数部分：两个数字的整数部分都是 9，所以相同。\n",
      "\n",
      "接下来，比较小数部分。9.11 的小数部分是 0.11，而 9.8 的小数部分是 0.80。显然，0.80 大于 0.11，因为 80 比 11 大。\n",
      "\n",
      "所以，9.8 应该大于 9.11。\n",
      "\n",
      "但用户可能是在提到日期，比如 9.11 可能指 9月11日，而 9.8 可能指 9月8日。在日期的上下文中，9月11日在9月8日之后，所以 9.11 更大。但问题是用中文写的，而且没有指定上下文，所以我认为数字比较更合理。\n",
      "\n",
      "在中文中，数字通常用点表示小数，所以 9.11 和 9.8 应该是数字。因此，基于数字比较，9.8 更大。\n",
      "\n",
      "为了确认，我可以计算一下：9.11 是 9 + 11/100 = 9.11，而 9.8 是 9 + 8/10 = 9.80，确实 9.80 > 9.11。\n",
      "\n",
      "所以，答案应该是 9.8 更大。\n"
     ]
    }
   ],
   "source": [
    "messages = select1[0].message\n",
    "content = messages.content\n",
    "print(f\"content: {content}\")\n",
    "print(\"-*-\" * 50)\n",
    "reasoning_content = messages.reasoning_content\n",
    "print(f\"reasoning_content: {reasoning_content}\")"
   ]
  },
  {
   "cell_type": "markdown",
   "id": "5a1ea927-9273-414a-b377-b22320ba921d",
   "metadata": {},
   "source": [
    "## 方法二：点「.」提取方法"
   ]
  },
  {
   "cell_type": "code",
   "execution_count": 9,
   "id": "6844982a-8fe5-4c65-9324-0baf202e5bfd",
   "metadata": {},
   "outputs": [
    {
     "data": {
      "text/plain": [
       "ChatCompletion(id='daf91b5e-4ed8-4793-963c-ecb88a602234', choices=[Choice(finish_reason='stop', index=0, logprobs=None, message=ChatCompletionMessage(content='在数字比较中，9.11 和 9.8 都是小数。为了更清晰地比较，可以将 9.8 视为 9.80（因为 9.8 = 9.80）。\\n\\n- 整数部分相同（都是 9）。\\n- 小数部分：0.11（来自 9.11）和 0.80（来自 9.80）。由于 0.80 > 0.11，因此 **9.8 更大**。\\n\\n所以，**9.8 > 9.11**。', refusal=None, role='assistant', annotations=None, audio=None, function_call=None, tool_calls=None, reasoning_content='首先，用户的问题是“9.11 和 9.8，哪个更大？”这看起来像是在比较两个数字：9.11 和 9.8。在数学中，比较小数时，我们需要逐位比较。\\n\\n9.11 可以看作是 9.11，而 9.8 可以看作是 9.80，因为 9.8 等同于 9.80。这样，比较起来更容易。\\n\\n现在，比较整数部分：两个数字的整数部分都是 9，所以相同。\\n\\n接下来，比较小数部分。9.11 的小数部分是 0.11，而 9.8 的小数部分是 0.80。显然，0.80 大于 0.11，因为 80 比 11 大。\\n\\n所以，9.8 应该大于 9.11。\\n\\n但用户可能是在提到日期，比如 9.11 可能指 9月11日，而 9.8 可能指 9月8日。在日期的上下文中，9月11日在9月8日之后，所以 9.11 更大。但问题是用中文写的，而且没有指定上下文，所以我认为数字比较更合理。\\n\\n在中文中，数字通常用点表示小数，所以 9.11 和 9.8 应该是数字。因此，基于数字比较，9.8 更大。\\n\\n为了确认，我可以计算一下：9.11 是 9 + 11/100 = 9.11，而 9.8 是 9 + 8/10 = 9.80，确实 9.80 > 9.11。\\n\\n所以，答案应该是 9.8 更大。'))], created=1759991330, model='deepseek-reasoner', object='chat.completion', service_tier=None, system_fingerprint='fp_ffc7281d48_prod0820_fp8_kvcache', usage=CompletionUsage(completion_tokens=474, prompt_tokens=17, total_tokens=491, completion_tokens_details=CompletionTokensDetails(accepted_prediction_tokens=None, audio_tokens=None, reasoning_tokens=357, rejected_prediction_tokens=None), prompt_tokens_details=PromptTokensDetails(audio_tokens=None, cached_tokens=0), prompt_cache_hit_tokens=0, prompt_cache_miss_tokens=17))"
      ]
     },
     "execution_count": 9,
     "metadata": {},
     "output_type": "execute_result"
    }
   ],
   "source": [
    "response"
   ]
  },
  {
   "cell_type": "code",
   "execution_count": 11,
   "id": "f13fde2e-142c-49a8-a230-862c2ec57e12",
   "metadata": {},
   "outputs": [
    {
     "data": {
      "text/plain": [
       "[Choice(finish_reason='stop', index=0, logprobs=None, message=ChatCompletionMessage(content='在数字比较中，9.11 和 9.8 都是小数。为了更清晰地比较，可以将 9.8 视为 9.80（因为 9.8 = 9.80）。\\n\\n- 整数部分相同（都是 9）。\\n- 小数部分：0.11（来自 9.11）和 0.80（来自 9.80）。由于 0.80 > 0.11，因此 **9.8 更大**。\\n\\n所以，**9.8 > 9.11**。', refusal=None, role='assistant', annotations=None, audio=None, function_call=None, tool_calls=None, reasoning_content='首先，用户的问题是“9.11 和 9.8，哪个更大？”这看起来像是在比较两个数字：9.11 和 9.8。在数学中，比较小数时，我们需要逐位比较。\\n\\n9.11 可以看作是 9.11，而 9.8 可以看作是 9.80，因为 9.8 等同于 9.80。这样，比较起来更容易。\\n\\n现在，比较整数部分：两个数字的整数部分都是 9，所以相同。\\n\\n接下来，比较小数部分。9.11 的小数部分是 0.11，而 9.8 的小数部分是 0.80。显然，0.80 大于 0.11，因为 80 比 11 大。\\n\\n所以，9.8 应该大于 9.11。\\n\\n但用户可能是在提到日期，比如 9.11 可能指 9月11日，而 9.8 可能指 9月8日。在日期的上下文中，9月11日在9月8日之后，所以 9.11 更大。但问题是用中文写的，而且没有指定上下文，所以我认为数字比较更合理。\\n\\n在中文中，数字通常用点表示小数，所以 9.11 和 9.8 应该是数字。因此，基于数字比较，9.8 更大。\\n\\n为了确认，我可以计算一下：9.11 是 9 + 11/100 = 9.11，而 9.8 是 9 + 8/10 = 9.80，确实 9.80 > 9.11。\\n\\n所以，答案应该是 9.8 更大。'))]"
      ]
     },
     "execution_count": 11,
     "metadata": {},
     "output_type": "execute_result"
    }
   ],
   "source": [
    "response.choices"
   ]
  },
  {
   "cell_type": "code",
   "execution_count": 12,
   "id": "3365ee65-0ee7-4423-91fe-ae42c486faf9",
   "metadata": {},
   "outputs": [
    {
     "data": {
      "text/plain": [
       "Choice(finish_reason='stop', index=0, logprobs=None, message=ChatCompletionMessage(content='在数字比较中，9.11 和 9.8 都是小数。为了更清晰地比较，可以将 9.8 视为 9.80（因为 9.8 = 9.80）。\\n\\n- 整数部分相同（都是 9）。\\n- 小数部分：0.11（来自 9.11）和 0.80（来自 9.80）。由于 0.80 > 0.11，因此 **9.8 更大**。\\n\\n所以，**9.8 > 9.11**。', refusal=None, role='assistant', annotations=None, audio=None, function_call=None, tool_calls=None, reasoning_content='首先，用户的问题是“9.11 和 9.8，哪个更大？”这看起来像是在比较两个数字：9.11 和 9.8。在数学中，比较小数时，我们需要逐位比较。\\n\\n9.11 可以看作是 9.11，而 9.8 可以看作是 9.80，因为 9.8 等同于 9.80。这样，比较起来更容易。\\n\\n现在，比较整数部分：两个数字的整数部分都是 9，所以相同。\\n\\n接下来，比较小数部分。9.11 的小数部分是 0.11，而 9.8 的小数部分是 0.80。显然，0.80 大于 0.11，因为 80 比 11 大。\\n\\n所以，9.8 应该大于 9.11。\\n\\n但用户可能是在提到日期，比如 9.11 可能指 9月11日，而 9.8 可能指 9月8日。在日期的上下文中，9月11日在9月8日之后，所以 9.11 更大。但问题是用中文写的，而且没有指定上下文，所以我认为数字比较更合理。\\n\\n在中文中，数字通常用点表示小数，所以 9.11 和 9.8 应该是数字。因此，基于数字比较，9.8 更大。\\n\\n为了确认，我可以计算一下：9.11 是 9 + 11/100 = 9.11，而 9.8 是 9 + 8/10 = 9.80，确实 9.80 > 9.11。\\n\\n所以，答案应该是 9.8 更大。'))"
      ]
     },
     "execution_count": 12,
     "metadata": {},
     "output_type": "execute_result"
    }
   ],
   "source": [
    "response.choices[0]"
   ]
  },
  {
   "cell_type": "code",
   "execution_count": 13,
   "id": "83162376-990e-4b52-a545-1ccde46cd3f8",
   "metadata": {},
   "outputs": [
    {
     "data": {
      "text/plain": [
       "ChatCompletionMessage(content='在数字比较中，9.11 和 9.8 都是小数。为了更清晰地比较，可以将 9.8 视为 9.80（因为 9.8 = 9.80）。\\n\\n- 整数部分相同（都是 9）。\\n- 小数部分：0.11（来自 9.11）和 0.80（来自 9.80）。由于 0.80 > 0.11，因此 **9.8 更大**。\\n\\n所以，**9.8 > 9.11**。', refusal=None, role='assistant', annotations=None, audio=None, function_call=None, tool_calls=None, reasoning_content='首先，用户的问题是“9.11 和 9.8，哪个更大？”这看起来像是在比较两个数字：9.11 和 9.8。在数学中，比较小数时，我们需要逐位比较。\\n\\n9.11 可以看作是 9.11，而 9.8 可以看作是 9.80，因为 9.8 等同于 9.80。这样，比较起来更容易。\\n\\n现在，比较整数部分：两个数字的整数部分都是 9，所以相同。\\n\\n接下来，比较小数部分。9.11 的小数部分是 0.11，而 9.8 的小数部分是 0.80。显然，0.80 大于 0.11，因为 80 比 11 大。\\n\\n所以，9.8 应该大于 9.11。\\n\\n但用户可能是在提到日期，比如 9.11 可能指 9月11日，而 9.8 可能指 9月8日。在日期的上下文中，9月11日在9月8日之后，所以 9.11 更大。但问题是用中文写的，而且没有指定上下文，所以我认为数字比较更合理。\\n\\n在中文中，数字通常用点表示小数，所以 9.11 和 9.8 应该是数字。因此，基于数字比较，9.8 更大。\\n\\n为了确认，我可以计算一下：9.11 是 9 + 11/100 = 9.11，而 9.8 是 9 + 8/10 = 9.80，确实 9.80 > 9.11。\\n\\n所以，答案应该是 9.8 更大。')"
      ]
     },
     "execution_count": 13,
     "metadata": {},
     "output_type": "execute_result"
    }
   ],
   "source": [
    "response.choices[0].message"
   ]
  },
  {
   "cell_type": "code",
   "execution_count": 16,
   "id": "557ab410-6006-4a28-9358-3469cba35e81",
   "metadata": {},
   "outputs": [
    {
     "name": "stdout",
     "output_type": "stream",
     "text": [
      "content: 在数字比较中，9.11 和 9.8 都是小数。为了更清晰地比较，可以将 9.8 视为 9.80（因为 9.8 = 9.80）。\n",
      "\n",
      "- 整数部分相同（都是 9）。\n",
      "- 小数部分：0.11（来自 9.11）和 0.80（来自 9.80）。由于 0.80 > 0.11，因此 **9.8 更大**。\n",
      "\n",
      "所以，**9.8 > 9.11**。\n"
     ]
    }
   ],
   "source": [
    "messages = response.choices[0].message\n",
    "content = messages.content\n",
    "print(f\"content: {content}\")\n",
    "print(\"-*-\" * 10)"
   ]
  },
  {
   "cell_type": "code",
   "execution_count": null,
   "id": "7e3bcab4-4190-4ac2-9b16-b5cf710a6c6a",
   "metadata": {},
   "outputs": [],
   "source": [
    "# Round 2\n",
    "# messages.append({'role': 'assistant', 'content': content})\n",
    "# messages.append({'role': 'user', 'content': \"How many Rs are there in the word 'strawberry'?\"})\n",
    "# response = client.chat.completions.create(\n",
    "#     model=\"deepseek-reasoner\",\n",
    "#     messages=messages\n",
    "# )\n",
    "# print(messages)"
   ]
  },
  {
   "cell_type": "code",
   "execution_count": null,
   "id": "d1c6ae6e-35d1-45e2-bb21-f1795b1cd39e",
   "metadata": {},
   "outputs": [],
   "source": []
  },
  {
   "cell_type": "code",
   "execution_count": null,
   "id": "fc89729c-edbc-4651-8577-1eb355ff2366",
   "metadata": {},
   "outputs": [],
   "source": []
  },
  {
   "cell_type": "code",
   "execution_count": 7,
   "id": "3d12cd49-272d-42a7-8aaa-9d31a75e0cb3",
   "metadata": {},
   "outputs": [
    {
     "name": "stdout",
     "output_type": "stream",
     "text": [
      "1\n"
     ]
    }
   ],
   "source": [
    "a = 1\n",
    "print(a)"
   ]
  },
  {
   "cell_type": "code",
   "execution_count": null,
   "id": "6beb2f27-8de3-45c4-a7e1-cec108b82fc8",
   "metadata": {},
   "outputs": [],
   "source": []
  },
  {
   "cell_type": "code",
   "execution_count": null,
   "id": "5efb0a03-4cd8-4280-ba19-92e92ea086f7",
   "metadata": {},
   "outputs": [],
   "source": []
  },
  {
   "cell_type": "code",
   "execution_count": null,
   "id": "8fa3a49a-a2ab-46fc-95d2-5b1c436c71e2",
   "metadata": {},
   "outputs": [],
   "source": []
  },
  {
   "cell_type": "code",
   "execution_count": null,
   "id": "8883b47e-e0d8-464a-af99-1c2fd1cda874",
   "metadata": {},
   "outputs": [],
   "source": []
  },
  {
   "cell_type": "code",
   "execution_count": null,
   "id": "e11514ef-bd8f-4fa3-a3d4-911230337067",
   "metadata": {},
   "outputs": [],
   "source": []
  },
  {
   "cell_type": "code",
   "execution_count": null,
   "id": "dc1bbfa7-3c18-4e8e-aa17-3f1f034b60ff",
   "metadata": {},
   "outputs": [],
   "source": []
  },
  {
   "cell_type": "code",
   "execution_count": null,
   "id": "2807be02-0a21-4389-8c78-d1810736a16c",
   "metadata": {},
   "outputs": [],
   "source": []
  },
  {
   "cell_type": "code",
   "execution_count": 8,
   "id": "cb80c5e5-0794-4a70-af8c-e1832f8c8dc4",
   "metadata": {},
   "outputs": [],
   "source": [
    "a = 100"
   ]
  }
 ],
 "metadata": {
  "kernelspec": {
   "display_name": "Python 3 (ipykernel)",
   "language": "python",
   "name": "python3"
  },
  "language_info": {
   "codemirror_mode": {
    "name": "ipython",
    "version": 3
   },
   "file_extension": ".py",
   "mimetype": "text/x-python",
   "name": "python",
   "nbconvert_exporter": "python",
   "pygments_lexer": "ipython3",
   "version": "3.9.6"
  }
 },
 "nbformat": 4,
 "nbformat_minor": 5
}
