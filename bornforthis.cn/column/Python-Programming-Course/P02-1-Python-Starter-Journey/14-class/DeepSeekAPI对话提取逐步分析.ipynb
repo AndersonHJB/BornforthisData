{
 "cells": [
  {
   "cell_type": "code",
   "execution_count": 11,
   "id": "da289c3c-a8c4-4b7f-b0c5-a65e2fda7612",
   "metadata": {
    "scrolled": true
   },
   "outputs": [
    {
     "name": "stdout",
     "output_type": "stream",
     "text": [
      "Looking in indexes: https://mirrors.aliyun.com/pypi/simple/\n",
      "Collecting openai\n",
      "  Downloading https://mirrors.aliyun.com/pypi/packages/1d/2a/7dd3d207ec669cacc1f186fd856a0f61dbc255d24f6fdc1a6715d6051b0f/openai-1.109.1-py3-none-any.whl (948 kB)\n",
      "\u001b[2K     \u001b[38;2;114;156;31m━━━━━━━━━━━━━━━━━━━━━━━━━━━━━━━━━━━━━━━━\u001b[0m \u001b[32m948.6/948.6 kB\u001b[0m \u001b[31m963.3 kB/s\u001b[0m  \u001b[33m0:00:01\u001b[0m1m951.0 kB/s\u001b[0m eta \u001b[36m0:00:01\u001b[0m\n",
      "\u001b[?25hRequirement already satisfied: anyio<5,>=3.5.0 in ./.venv/lib/python3.10/site-packages (from openai) (4.11.0)\n",
      "Collecting distro<2,>=1.7.0 (from openai)\n",
      "  Downloading https://mirrors.aliyun.com/pypi/packages/12/b3/231ffd4ab1fc9d679809f356cebee130ac7daa00d6d6f3206dd4fd137e9e/distro-1.9.0-py3-none-any.whl (20 kB)\n",
      "Requirement already satisfied: httpx<1,>=0.23.0 in ./.venv/lib/python3.10/site-packages (from openai) (0.28.1)\n",
      "Collecting jiter<1,>=0.4.0 (from openai)\n",
      "  Downloading https://mirrors.aliyun.com/pypi/packages/71/f9/462b54708aa85b135733ccba70529dd68a18511bf367a87c5fd28676c841/jiter-0.11.0-cp310-cp310-macosx_11_0_arm64.whl (316 kB)\n",
      "Collecting pydantic<3,>=1.9.0 (from openai)\n",
      "  Downloading https://mirrors.aliyun.com/pypi/packages/3e/d3/108f2006987c58e76691d5ae5d200dd3e0f532cb4e5fa3560751c3a1feba/pydantic-2.11.9-py3-none-any.whl (444 kB)\n",
      "Requirement already satisfied: sniffio in ./.venv/lib/python3.10/site-packages (from openai) (1.3.1)\n",
      "Collecting tqdm>4 (from openai)\n",
      "  Downloading https://mirrors.aliyun.com/pypi/packages/d0/30/dc54f88dd4a2b5dc8a0279bdd7270e735851848b762aeb1c1184ed1f6b14/tqdm-4.67.1-py3-none-any.whl (78 kB)\n",
      "Requirement already satisfied: typing-extensions<5,>=4.11 in ./.venv/lib/python3.10/site-packages (from openai) (4.15.0)\n",
      "Requirement already satisfied: exceptiongroup>=1.0.2 in ./.venv/lib/python3.10/site-packages (from anyio<5,>=3.5.0->openai) (1.3.0)\n",
      "Requirement already satisfied: idna>=2.8 in ./.venv/lib/python3.10/site-packages (from anyio<5,>=3.5.0->openai) (3.10)\n",
      "Requirement already satisfied: certifi in ./.venv/lib/python3.10/site-packages (from httpx<1,>=0.23.0->openai) (2025.8.3)\n",
      "Requirement already satisfied: httpcore==1.* in ./.venv/lib/python3.10/site-packages (from httpx<1,>=0.23.0->openai) (1.0.9)\n",
      "Requirement already satisfied: h11>=0.16 in ./.venv/lib/python3.10/site-packages (from httpcore==1.*->httpx<1,>=0.23.0->openai) (0.16.0)\n",
      "Collecting annotated-types>=0.6.0 (from pydantic<3,>=1.9.0->openai)\n",
      "  Downloading https://mirrors.aliyun.com/pypi/packages/78/b6/6307fbef88d9b5ee7421e68d78a9f162e0da4900bc5f5793f6d3d0e34fb8/annotated_types-0.7.0-py3-none-any.whl (13 kB)\n",
      "Collecting pydantic-core==2.33.2 (from pydantic<3,>=1.9.0->openai)\n",
      "  Downloading https://mirrors.aliyun.com/pypi/packages/a3/44/3f0b95fafdaca04a483c4e685fe437c6891001bf3ce8b2fded82b9ea3aa1/pydantic_core-2.33.2-cp310-cp310-macosx_11_0_arm64.whl (1.9 MB)\n",
      "\u001b[2K     \u001b[38;2;114;156;31m━━━━━━━━━━━━━━━━━━━━━━━━━━━━━━━━━━━━━━━━\u001b[0m \u001b[32m1.9/1.9 MB\u001b[0m \u001b[31m878.7 kB/s\u001b[0m  \u001b[33m0:00:02\u001b[0ma \u001b[36m0:00:01\u001b[0mm eta \u001b[36m0:00:01\u001b[0m\n",
      "\u001b[?25hCollecting typing-inspection>=0.4.0 (from pydantic<3,>=1.9.0->openai)\n",
      "  Downloading https://mirrors.aliyun.com/pypi/packages/17/69/cd203477f944c353c31bade965f880aa1061fd6bf05ded0726ca845b6ff7/typing_inspection-0.4.1-py3-none-any.whl (14 kB)\n",
      "Installing collected packages: typing-inspection, tqdm, pydantic-core, jiter, distro, annotated-types, pydantic, openai\n",
      "\u001b[2K   \u001b[38;2;114;156;31m━━━━━━━━━━━━━━━━━━━━━━━━━━━━━━━━━━━━━━━━\u001b[0m \u001b[32m8/8\u001b[0m [openai]━━━━\u001b[0m \u001b[32m7/8\u001b[0m [openai]c]\n",
      "\u001b[1A\u001b[2KSuccessfully installed annotated-types-0.7.0 distro-1.9.0 jiter-0.11.0 openai-1.109.1 pydantic-2.11.9 pydantic-core-2.33.2 tqdm-4.67.1 typing-inspection-0.4.1\n"
     ]
    }
   ],
   "source": [
    "!pip install openai"
   ]
  },
  {
   "cell_type": "code",
   "execution_count": 14,
   "id": "e2a668f7-592a-47da-8162-c3cb967c1f9c",
   "metadata": {},
   "outputs": [],
   "source": [
    "from openai import OpenAI\n",
    "\n",
    "client = OpenAI(api_key=\"sk-cd6890b8ac624127af85f7094d7c534d\", base_url=\"https://api.deepseek.com\")"
   ]
  },
  {
   "cell_type": "code",
   "execution_count": 15,
   "id": "5d9f236e-88aa-453b-8441-5743eca7afa5",
   "metadata": {},
   "outputs": [],
   "source": [
    "# Round 1\n",
    "messages = [{\"role\": \"user\", \"content\": \"9.11 和 9.8，哪个更大？\"}]\n",
    "response = client.chat.completions.create(\n",
    "    model=\"deepseek-reasoner\",\n",
    "    messages=messages\n",
    ")"
   ]
  },
  {
   "cell_type": "code",
   "execution_count": 17,
   "id": "cea143eb-5628-4673-9331-df8477b92c93",
   "metadata": {},
   "outputs": [
    {
     "data": {
      "text/plain": [
       "ChatCompletion(id='76b551ad-2ec5-40f6-9666-d49667bf725b', choices=[Choice(finish_reason='stop', index=0, logprobs=None, message=ChatCompletionMessage(content='9.11 和 9.8 比较，9.8 更大。\\n\\n理由：\\n- 9.8 可以表示为 9.80，而 9.11 是 9.11。\\n- 比较小数点后的数字：80 大于 11，因此 9.80 > 9.11。\\n- 所以，9.8 > 9.11。', refusal=None, role='assistant', annotations=None, audio=None, function_call=None, tool_calls=None, reasoning_content='首先，用户的问题是“9.11 和 9.8，哪个更大？”这看起来像是在比较两个数字：9.11 和 9.8。我需要确定哪个数字更大。\\n\\n9.11 和 9.8 都是小数。9.11 表示 9 又 11 百分之一，而 9.8 表示 9 又 8 十分之一。为了比较它们，我应该将它们转换为相同的位数。\\n\\n9.8 可以写成 9.80，这样我就可以比较 9.11 和 9.80。现在，比较小数点后的部分：11 和 80。显然，80 大于 11，所以 9.80 大于 9.11。因此，9.8 大于 9.11。\\n\\n我也可以考虑数值：9.11 是 9.11，而 9.8 是 9.80，所以 9.80 更大。\\n\\n所以，答案应该是 9.8 更大。\\n\\n用户是用中文问的，所以我应该用中文回复。'))], created=1759116561, model='deepseek-reasoner', object='chat.completion', service_tier=None, system_fingerprint='fp_8333852bec_prod0820_fp8_kvcache', usage=CompletionUsage(completion_tokens=308, prompt_tokens=17, total_tokens=325, completion_tokens_details=CompletionTokensDetails(accepted_prediction_tokens=None, audio_tokens=None, reasoning_tokens=225, rejected_prediction_tokens=None), prompt_tokens_details=PromptTokensDetails(audio_tokens=None, cached_tokens=0), prompt_cache_hit_tokens=0, prompt_cache_miss_tokens=17))"
      ]
     },
     "execution_count": 17,
     "metadata": {},
     "output_type": "execute_result"
    }
   ],
   "source": [
    "response"
   ]
  },
  {
   "cell_type": "markdown",
   "id": "5f7d356c-0c93-4e97-be91-6ab4bbefd2c5",
   "metadata": {},
   "source": [
    "## 方法一：直接使用强制转换方法"
   ]
  },
  {
   "cell_type": "code",
   "execution_count": 20,
   "id": "39c83ccf-d0eb-4f46-8399-c0485caca77b",
   "metadata": {},
   "outputs": [
    {
     "name": "stdout",
     "output_type": "stream",
     "text": [
      "[Choice(finish_reason='stop', index=0, logprobs=None, message=ChatCompletionMessage(content='9.11 和 9.8 比较，9.8 更大。\\n\\n理由：\\n- 9.8 可以表示为 9.80，而 9.11 是 9.11。\\n- 比较小数点后的数字：80 大于 11，因此 9.80 > 9.11。\\n- 所以，9.8 > 9.11。', refusal=None, role='assistant', annotations=None, audio=None, function_call=None, tool_calls=None, reasoning_content='首先，用户的问题是“9.11 和 9.8，哪个更大？”这看起来像是在比较两个数字：9.11 和 9.8。我需要确定哪个数字更大。\\n\\n9.11 和 9.8 都是小数。9.11 表示 9 又 11 百分之一，而 9.8 表示 9 又 8 十分之一。为了比较它们，我应该将它们转换为相同的位数。\\n\\n9.8 可以写成 9.80，这样我就可以比较 9.11 和 9.80。现在，比较小数点后的部分：11 和 80。显然，80 大于 11，所以 9.80 大于 9.11。因此，9.8 大于 9.11。\\n\\n我也可以考虑数值：9.11 是 9.11，而 9.8 是 9.80，所以 9.80 更大。\\n\\n所以，答案应该是 9.8 更大。\\n\\n用户是用中文问的，所以我应该用中文回复。'))]\n"
     ]
    }
   ],
   "source": [
    "response_to_list = list(response)\n",
    "response_to_list\n",
    "select1 = response_to_list[1][1]\n",
    "print(select1)"
   ]
  },
  {
   "cell_type": "code",
   "execution_count": 36,
   "id": "5f253b64-86bf-4677-b4d7-018fc5951f1d",
   "metadata": {},
   "outputs": [
    {
     "name": "stdout",
     "output_type": "stream",
     "text": [
      "content: 9.11 和 9.8 比较，9.8 更大。\n",
      "\n",
      "理由：\n",
      "- 9.8 可以表示为 9.80，而 9.11 是 9.11。\n",
      "- 比较小数点后的数字：80 大于 11，因此 9.80 > 9.11。\n",
      "- 所以，9.8 > 9.11。\n",
      "-*--*--*--*--*--*--*--*--*--*--*--*--*--*--*--*--*--*--*--*--*--*--*--*--*--*--*--*--*--*--*--*--*--*--*--*--*--*--*--*--*--*--*--*--*--*--*--*--*--*-\n",
      "reasoning_content: 首先，用户的问题是“9.11 和 9.8，哪个更大？”这看起来像是在比较两个数字：9.11 和 9.8。我需要确定哪个数字更大。\n",
      "\n",
      "9.11 和 9.8 都是小数。9.11 表示 9 又 11 百分之一，而 9.8 表示 9 又 8 十分之一。为了比较它们，我应该将它们转换为相同的位数。\n",
      "\n",
      "9.8 可以写成 9.80，这样我就可以比较 9.11 和 9.80。现在，比较小数点后的部分：11 和 80。显然，80 大于 11，所以 9.80 大于 9.11。因此，9.8 大于 9.11。\n",
      "\n",
      "我也可以考虑数值：9.11 是 9.11，而 9.8 是 9.80，所以 9.80 更大。\n",
      "\n",
      "所以，答案应该是 9.8 更大。\n",
      "\n",
      "用户是用中文问的，所以我应该用中文回复。\n"
     ]
    }
   ],
   "source": [
    "messages = select1[0].message\n",
    "content = messages.content\n",
    "print(f\"content: {content}\")\n",
    "print(\"-*-\" * 50)\n",
    "reasoning_content = messages.reasoning_content\n",
    "print(f\"reasoning_content: {reasoning_content}\")"
   ]
  },
  {
   "cell_type": "code",
   "execution_count": null,
   "id": "557ab410-6006-4a28-9358-3469cba35e81",
   "metadata": {},
   "outputs": [],
   "source": [
    "\n",
    "# reasoning_content = response.choices[0].message.reasoning_content\n",
    "# content = response.choices[0].message.content"
   ]
  },
  {
   "cell_type": "code",
   "execution_count": null,
   "id": "7e3bcab4-4190-4ac2-9b16-b5cf710a6c6a",
   "metadata": {},
   "outputs": [],
   "source": [
    "# Round 2\n",
    "# messages.append({'role': 'assistant', 'content': content})\n",
    "# messages.append({'role': 'user', 'content': \"How many Rs are there in the word 'strawberry'?\"})\n",
    "# response = client.chat.completions.create(\n",
    "#     model=\"deepseek-reasoner\",\n",
    "#     messages=messages\n",
    "# )\n",
    "# print(messages)"
   ]
  },
  {
   "cell_type": "code",
   "execution_count": null,
   "id": "d1c6ae6e-35d1-45e2-bb21-f1795b1cd39e",
   "metadata": {},
   "outputs": [],
   "source": []
  },
  {
   "cell_type": "code",
   "execution_count": null,
   "id": "fc89729c-edbc-4651-8577-1eb355ff2366",
   "metadata": {},
   "outputs": [],
   "source": []
  },
  {
   "cell_type": "code",
   "execution_count": 7,
   "id": "3d12cd49-272d-42a7-8aaa-9d31a75e0cb3",
   "metadata": {},
   "outputs": [
    {
     "name": "stdout",
     "output_type": "stream",
     "text": [
      "1\n"
     ]
    }
   ],
   "source": [
    "a = 1\n",
    "print(a)"
   ]
  },
  {
   "cell_type": "code",
   "execution_count": null,
   "id": "6beb2f27-8de3-45c4-a7e1-cec108b82fc8",
   "metadata": {},
   "outputs": [],
   "source": []
  },
  {
   "cell_type": "code",
   "execution_count": null,
   "id": "5efb0a03-4cd8-4280-ba19-92e92ea086f7",
   "metadata": {},
   "outputs": [],
   "source": []
  },
  {
   "cell_type": "code",
   "execution_count": null,
   "id": "8fa3a49a-a2ab-46fc-95d2-5b1c436c71e2",
   "metadata": {},
   "outputs": [],
   "source": []
  },
  {
   "cell_type": "code",
   "execution_count": null,
   "id": "8883b47e-e0d8-464a-af99-1c2fd1cda874",
   "metadata": {},
   "outputs": [],
   "source": []
  },
  {
   "cell_type": "code",
   "execution_count": null,
   "id": "e11514ef-bd8f-4fa3-a3d4-911230337067",
   "metadata": {},
   "outputs": [],
   "source": []
  },
  {
   "cell_type": "code",
   "execution_count": null,
   "id": "dc1bbfa7-3c18-4e8e-aa17-3f1f034b60ff",
   "metadata": {},
   "outputs": [],
   "source": []
  },
  {
   "cell_type": "code",
   "execution_count": null,
   "id": "2807be02-0a21-4389-8c78-d1810736a16c",
   "metadata": {},
   "outputs": [],
   "source": []
  },
  {
   "cell_type": "code",
   "execution_count": 8,
   "id": "cb80c5e5-0794-4a70-af8c-e1832f8c8dc4",
   "metadata": {},
   "outputs": [],
   "source": [
    "a = 100"
   ]
  }
 ],
 "metadata": {
  "kernelspec": {
   "display_name": "Python 3 (ipykernel)",
   "language": "python",
   "name": "python3"
  },
  "language_info": {
   "codemirror_mode": {
    "name": "ipython",
    "version": 3
   },
   "file_extension": ".py",
   "mimetype": "text/x-python",
   "name": "python",
   "nbconvert_exporter": "python",
   "pygments_lexer": "ipython3",
   "version": "3.10.15"
  }
 },
 "nbformat": 4,
 "nbformat_minor": 5
}
