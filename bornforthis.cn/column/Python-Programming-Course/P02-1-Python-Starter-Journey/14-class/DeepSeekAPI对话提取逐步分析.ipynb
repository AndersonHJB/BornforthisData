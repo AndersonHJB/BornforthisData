{
 "cells": [
  {
   "cell_type": "code",
   "execution_count": 1,
   "id": "da289c3c-a8c4-4b7f-b0c5-a65e2fda7612",
   "metadata": {
    "scrolled": true
   },
   "outputs": [
    {
     "name": "stdout",
     "output_type": "stream",
     "text": [
      "Looking in indexes: https://mirrors.aliyun.com/pypi/simple/\n",
      "Requirement already satisfied: openai in /Users/huangjiabao/GitHub/iMac/Pycharm/.venv/lib/python3.9/site-packages (1.109.1)\n",
      "Requirement already satisfied: anyio<5,>=3.5.0 in /Users/huangjiabao/GitHub/iMac/Pycharm/.venv/lib/python3.9/site-packages (from openai) (4.9.0)\n",
      "Requirement already satisfied: distro<2,>=1.7.0 in /Users/huangjiabao/GitHub/iMac/Pycharm/.venv/lib/python3.9/site-packages (from openai) (1.9.0)\n",
      "Requirement already satisfied: httpx<1,>=0.23.0 in /Users/huangjiabao/GitHub/iMac/Pycharm/.venv/lib/python3.9/site-packages (from openai) (0.28.1)\n",
      "Requirement already satisfied: jiter<1,>=0.4.0 in /Users/huangjiabao/GitHub/iMac/Pycharm/.venv/lib/python3.9/site-packages (from openai) (0.9.0)\n",
      "Requirement already satisfied: pydantic<3,>=1.9.0 in /Users/huangjiabao/GitHub/iMac/Pycharm/.venv/lib/python3.9/site-packages (from openai) (2.11.4)\n",
      "Requirement already satisfied: sniffio in /Users/huangjiabao/GitHub/iMac/Pycharm/.venv/lib/python3.9/site-packages (from openai) (1.3.1)\n",
      "Requirement already satisfied: tqdm>4 in /Users/huangjiabao/GitHub/iMac/Pycharm/.venv/lib/python3.9/site-packages (from openai) (4.67.1)\n",
      "Collecting typing-extensions<5,>=4.11 (from openai)\n",
      "  Downloading https://mirrors.aliyun.com/pypi/packages/18/67/36e9267722cc04a6b9f15c7f3441c2363321a3ea07da7ae0c0707beb2a9c/typing_extensions-4.15.0-py3-none-any.whl (44 kB)\n",
      "Requirement already satisfied: exceptiongroup>=1.0.2 in /Users/huangjiabao/GitHub/iMac/Pycharm/.venv/lib/python3.9/site-packages (from anyio<5,>=3.5.0->openai) (1.3.0)\n",
      "Requirement already satisfied: idna>=2.8 in /Users/huangjiabao/GitHub/iMac/Pycharm/.venv/lib/python3.9/site-packages (from anyio<5,>=3.5.0->openai) (3.10)\n",
      "Requirement already satisfied: certifi in /Users/huangjiabao/GitHub/iMac/Pycharm/.venv/lib/python3.9/site-packages (from httpx<1,>=0.23.0->openai) (2025.4.26)\n",
      "Requirement already satisfied: httpcore==1.* in /Users/huangjiabao/GitHub/iMac/Pycharm/.venv/lib/python3.9/site-packages (from httpx<1,>=0.23.0->openai) (1.0.9)\n",
      "Requirement already satisfied: h11>=0.16 in /Users/huangjiabao/GitHub/iMac/Pycharm/.venv/lib/python3.9/site-packages (from httpcore==1.*->httpx<1,>=0.23.0->openai) (0.16.0)\n",
      "Requirement already satisfied: annotated-types>=0.6.0 in /Users/huangjiabao/GitHub/iMac/Pycharm/.venv/lib/python3.9/site-packages (from pydantic<3,>=1.9.0->openai) (0.7.0)\n",
      "Requirement already satisfied: pydantic-core==2.33.2 in /Users/huangjiabao/GitHub/iMac/Pycharm/.venv/lib/python3.9/site-packages (from pydantic<3,>=1.9.0->openai) (2.33.2)\n",
      "Requirement already satisfied: typing-inspection>=0.4.0 in /Users/huangjiabao/GitHub/iMac/Pycharm/.venv/lib/python3.9/site-packages (from pydantic<3,>=1.9.0->openai) (0.4.0)\n",
      "Installing collected packages: typing-extensions\n",
      "  Attempting uninstall: typing-extensions\n",
      "    Found existing installation: typing_extensions 4.5.0\n",
      "    Uninstalling typing_extensions-4.5.0:\n",
      "      Successfully uninstalled typing_extensions-4.5.0\n",
      "\u001b[31mERROR: pip's dependency resolver does not currently take into account all the packages that are installed. This behaviour is the source of the following dependency conflicts.\n",
      "tensorflow-macos 2.13.1 requires typing-extensions<4.6.0,>=3.6.6, but you have typing-extensions 4.15.0 which is incompatible.\u001b[0m\u001b[31m\n",
      "\u001b[0mSuccessfully installed typing-extensions-4.15.0\n"
     ]
    }
   ],
   "source": [
    "!pip install openai"
   ]
  },
  {
   "cell_type": "code",
   "execution_count": null,
   "id": "e2a668f7-592a-47da-8162-c3cb967c1f9c",
   "metadata": {},
   "outputs": [],
   "source": [
    "from openai import OpenAI\n",
    "\n",
    "client = OpenAI(api_key=\"sk-cd6890b8ac624127af85f7094d7c534d\", base_url=\"https://api.deepseek.com\")"
   ]
  },
  {
   "cell_type": "code",
   "execution_count": null,
   "id": "5d9f236e-88aa-453b-8441-5743eca7afa5",
   "metadata": {},
   "outputs": [],
   "source": [
    "# Round 1\n",
    "messages = [{\"role\": \"user\", \"content\": \"9.11 和 9.8，哪个更大？\"}]\n",
    "response = client.chat.completions.create(\n",
    "    model=\"deepseek-reasoner\",\n",
    "    messages=messages\n",
    ")"
   ]
  },
  {
   "cell_type": "code",
   "execution_count": null,
   "id": "cea143eb-5628-4673-9331-df8477b92c93",
   "metadata": {},
   "outputs": [],
   "source": [
    "response"
   ]
  },
  {
   "cell_type": "markdown",
   "id": "5f7d356c-0c93-4e97-be91-6ab4bbefd2c5",
   "metadata": {},
   "source": [
    "## 方法一：直接使用强制转换方法"
   ]
  },
  {
   "cell_type": "code",
   "execution_count": null,
   "id": "39c83ccf-d0eb-4f46-8399-c0485caca77b",
   "metadata": {},
   "outputs": [],
   "source": [
    "response_to_list = list(response)\n",
    "response_to_list\n",
    "select1 = response_to_list[1][1]\n",
    "print(select1)"
   ]
  },
  {
   "cell_type": "code",
   "execution_count": null,
   "id": "5f253b64-86bf-4677-b4d7-018fc5951f1d",
   "metadata": {},
   "outputs": [],
   "source": [
    "msg = select1[0].message\n",
    "content = msg.content\n",
    "print(f\"content: {content}\")\n",
    "print(\"-*-\" * 50)\n",
    "reasoning_content = msg.reasoning_content\n",
    "print(f\"reasoning_content: {reasoning_content}\")"
   ]
  },
  {
   "cell_type": "markdown",
   "id": "5a1ea927-9273-414a-b377-b22320ba921d",
   "metadata": {},
   "source": [
    "## 方法二：点「.」提取方法"
   ]
  },
  {
   "cell_type": "code",
   "execution_count": null,
   "id": "6844982a-8fe5-4c65-9324-0baf202e5bfd",
   "metadata": {},
   "outputs": [],
   "source": [
    "response"
   ]
  },
  {
   "cell_type": "code",
   "execution_count": null,
   "id": "f13fde2e-142c-49a8-a230-862c2ec57e12",
   "metadata": {},
   "outputs": [],
   "source": [
    "response.choices"
   ]
  },
  {
   "cell_type": "code",
   "execution_count": null,
   "id": "3365ee65-0ee7-4423-91fe-ae42c486faf9",
   "metadata": {},
   "outputs": [],
   "source": [
    "response.choices[0]"
   ]
  },
  {
   "cell_type": "code",
   "execution_count": null,
   "id": "83162376-990e-4b52-a545-1ccde46cd3f8",
   "metadata": {},
   "outputs": [],
   "source": [
    "response.choices[0].message"
   ]
  },
  {
   "cell_type": "code",
   "execution_count": null,
   "id": "557ab410-6006-4a28-9358-3469cba35e81",
   "metadata": {},
   "outputs": [],
   "source": [
    "msg = response.choices[0].message\n",
    "content = msg.content\n",
    "print(f\"content: {content}\")\n",
    "print(\"-*-\" * 10)\n",
    "\n",
    "reasoning_content = msg.reasoning_content\n",
    "print(f\"reasoning_content: {reasoning_content}\")"
   ]
  },
  {
   "cell_type": "code",
   "execution_count": null,
   "id": "7e3bcab4-4190-4ac2-9b16-b5cf710a6c6a",
   "metadata": {},
   "outputs": [],
   "source": [
    "# Round 2\n",
    "messages.append({'role': 'assistant', 'content': content})  # 把大模型的回答，添加到 messages\n",
    "# messages.append({'role': 'user', 'content': \"How many Rs are there in the word 'strawberry'?\"})\n",
    "# messages.append({'role': 'user', 'content': \"我上一个问题是什么？原问题回答我！\"})\n",
    "messages.append({'role': 'user', 'content': \"我的第一个问题是什么？原问题回答我！\"})\n",
    "response = client.chat.completions.create(\n",
    "    model=\"deepseek-reasoner\",\n",
    "    messages=messages\n",
    ")\n",
    "print(messages)"
   ]
  },
  {
   "cell_type": "code",
   "execution_count": null,
   "id": "d1c6ae6e-35d1-45e2-bb21-f1795b1cd39e",
   "metadata": {},
   "outputs": [],
   "source": [
    "from pprint import pprint\n",
    "\n",
    "pprint(messages)"
   ]
  },
  {
   "cell_type": "code",
   "execution_count": null,
   "id": "fc89729c-edbc-4651-8577-1eb355ff2366",
   "metadata": {},
   "outputs": [],
   "source": [
    "response"
   ]
  },
  {
   "cell_type": "markdown",
   "id": "6ebbcc36-80c0-40d6-8439-a796f54fe49c",
   "metadata": {},
   "source": [
    "import notebook\n",
    "print(notebook.__version__)"
   ]
  },
  {
   "cell_type": "code",
   "execution_count": null,
   "id": "6beb2f27-8de3-45c4-a7e1-cec108b82fc8",
   "metadata": {},
   "outputs": [],
   "source": [
    "import openai\n",
    "print(openai.__version__)"
   ]
  },
  {
   "cell_type": "code",
   "execution_count": null,
   "id": "5efb0a03-4cd8-4280-ba19-92e92ea086f7",
   "metadata": {
    "scrolled": true
   },
   "outputs": [],
   "source": [
    "a = 1\n",
    "a"
   ]
  },
  {
   "cell_type": "code",
   "execution_count": null,
   "id": "8fa3a49a-a2ab-46fc-95d2-5b1c436c71e2",
   "metadata": {},
   "outputs": [],
   "source": [
    "# Round 1\n",
    "messages = [{\"role\": \"user\", \"content\": \"9.11 和 9.8，哪个更大？\"}]\n",
    "response = client.chat.completions.create(\n",
    "    model=\"deepseek-reasoner\",\n",
    "    messages=messages,\n",
    "    stream=True\n",
    ")"
   ]
  },
  {
   "cell_type": "markdown",
   "id": "410aeaa8-3fd3-4091-b377-ebfb4117483a",
   "metadata": {},
   "source": [
    "# 方法一：\n",
    "\n",
    "```python\n",
    "# Round 1\n",
    "messages = [{\"role\": \"user\", \"content\": \"9.11 和 9.8，哪个更大？\"}]\n",
    "response = client.chat.completions.create(\n",
    "    model=\"deepseek-reasoner\",\n",
    "    messages=messages,\n",
    "    stream=True\n",
    ")\n",
    "for chunk in response:\n",
    "    print(chunk.choices)\n",
    "```"
   ]
  },
  {
   "cell_type": "code",
   "execution_count": null,
   "id": "3ff42b84-8944-4a12-9dba-2185dc5f9b51",
   "metadata": {},
   "outputs": [],
   "source": [
    "# # 方法二：\n",
    "# from copy import deepcopy\n",
    "# copy_response = response\n",
    "# for chunk in response:\n",
    "#     print(chunk.choices)"
   ]
  },
  {
   "cell_type": "code",
   "execution_count": null,
   "id": "5e60a8be-21c6-4b3c-a8ee-fed0c820eb43",
   "metadata": {},
   "outputs": [],
   "source": [
    "reasoning_content = \"\"\n",
    "content = \"\"\n",
    "\n",
    "for chunk in response:\n",
    "    if chunk.choices[0].delta.reasoning_content:\n",
    "        reasoning_content += chunk.choices[0].delta.reasoning_content\n",
    "    else:\n",
    "        content += chunk.choices[0].delta.content"
   ]
  },
  {
   "cell_type": "code",
   "execution_count": null,
   "id": "8883b47e-e0d8-464a-af99-1c2fd1cda874",
   "metadata": {},
   "outputs": [],
   "source": [
    "\n",
    "\n",
    "# # Round 2\n",
    "# messages.append({\"role\": \"assistant\", \"content\": content})\n",
    "# messages.append({'role': 'user', 'content': \"How many Rs are there in the word 'strawberry'?\"})\n",
    "# response = client.chat.completions.create(\n",
    "#     model=\"deepseek-reasoner\",\n",
    "#     messages=messages,\n",
    "#     stream=True\n",
    "# )"
   ]
  },
  {
   "cell_type": "markdown",
   "id": "01bd5c1b-a163-40e6-8daf-751c0d219a12",
   "metadata": {},
   "source": [
    "## 使用 API 实现多轮对话，并且拥有记忆功能。"
   ]
  },
  {
   "cell_type": "code",
   "execution_count": null,
   "id": "dc1bbfa7-3c18-4e8e-aa17-3f1f034b60ff",
   "metadata": {},
   "outputs": [],
   "source": [
    "from openai import OpenAI\n",
    "client = OpenAI(api_key=\"sk-cd6890b8ac624127af85f7094d7c534d\", base_url=\"https://api.deepseek.com\")"
   ]
  },
  {
   "cell_type": "code",
   "execution_count": null,
   "id": "2807be02-0a21-4389-8c78-d1810736a16c",
   "metadata": {},
   "outputs": [],
   "source": [
    "messages = [] # 用来存储历史对话，后期学完文件读取，可以考虑持久化存储！"
   ]
  },
  {
   "cell_type": "code",
   "execution_count": null,
   "id": "3f37b7c5-c5b7-4cd7-b2ab-8ff27daca327",
   "metadata": {},
   "outputs": [],
   "source": [
    "while True:\n",
    "    prompt = input(\"Enter your prompt: \")\n",
    "    if prompt.lower() in ['quit', 'q', 'exit', '退出']:\n",
    "        break\n",
    "    messages.append({'role': 'user', 'content': prompt})\n",
    "    response = client.chat.completions.create(\n",
    "        model=\"deepseek-chat\",\n",
    "        messages=messages\n",
    "    )\n",
    "    assistant_content = response.choices[0].message.content\n",
    "    messages.append({\"role\": \"assistant\", \"content\": assistant_content})\n",
    "    print(f\"Message: {assistant_content}\")\n",
    "    "
   ]
  },
  {
   "cell_type": "code",
   "execution_count": null,
   "id": "cb80c5e5-0794-4a70-af8c-e1832f8c8dc4",
   "metadata": {},
   "outputs": [],
   "source": [
    "# 「可选」：角色设定\n",
    "system_setting1 = {\n",
    "    \"role\": \"system\", \n",
    "    \"content\": \"用户如果问你使用的是什么大模型，你就回答：AI悦创编程1v1大模型（bornforthis）\"\n",
    "}\n",
    "system_setting2 = {\n",
    "    \"role\": \"system\", \n",
    "    \"content\": \"全部回答的末尾都附上：欢迎跟随AI悦创学习编程！\\n微信：Jiabcdefh\\n网站：bornforthis.cn。注意：只需要在回答的末尾加上即可！\"\n",
    "}\n",
    "\n",
    "messages.append(system_setting1)\n",
    "messages.append(system_setting2)\n",
    "while True:\n",
    "    prompt = input(\"Enter your prompt: \")\n",
    "    if prompt.lower() in ['quit', 'q', 'exit']:\n",
    "        break\n",
    "    messages.append({'role': 'user', 'content': prompt})\n",
    "    response = client.chat.completions.create(\n",
    "        model=\"deepseek-chat\",\n",
    "        messages=messages\n",
    "    )\n",
    "    assistant_content = response.choices[0].message.content\n",
    "    messages.append({\"role\": \"assistant\", \"content\": assistant_content})\n",
    "    print(f\"Messages: {assistant_content}\")"
   ]
  },
  {
   "cell_type": "code",
   "execution_count": null,
   "id": "4b95baa1-8814-4456-86e2-f124565481c6",
   "metadata": {},
   "outputs": [],
   "source": [
    "code_string = '''import random\n",
    "from faker import Faker\n",
    "\n",
    "\n",
    "# —— 简单无色进度条（纯 ASCII，跨平台）——\n",
    "def hp_bar(cur: int, maxv: int, width: int = 20) -> str:\n",
    "    \"\"\"返回形如：[##########----------] 50%  5g0/100 的进度条文本\"\"\"\n",
    "    if maxv <= 0:\n",
    "        maxv = 1\n",
    "    cur = max(0, min(cur, maxv))\n",
    "    ratio = cur / maxv\n",
    "    filled = int(ratio * width + 0.5)  # 四舍五入\n",
    "    bar = \"#\" * filled + \"-\" * (width - filled)\n",
    "    return f\"[{bar}] {int(ratio * 100):3d}%  {cur}/{maxv}\"\n",
    "\n",
    "\n",
    "class Creature:\n",
    "    def __init__(self, hp, name):\n",
    "        self.hp = int(hp)\n",
    "        self.max_hp = int(hp)  # 记录初始满血\n",
    "        self.name = name\n",
    "\n",
    "    def attack(self):\n",
    "        return random.randint(0, 50)\n",
    "\n",
    "    def not_dead(self):\n",
    "        return self.hp > 0\n",
    "\n",
    "    def being_attack(self, dmg: float):\n",
    "        \"\"\"受到伤害（向下取整以避免浮点 HP），并保证 HP 不会掉到负数以下\"\"\"\n",
    "        self.hp = max(0, int(self.hp - dmg))\n",
    "\n",
    "    def heal_full(self):\n",
    "        \"\"\"直接回到初始满血\"\"\"\n",
    "        self.hp = self.max_hp\n",
    "\n",
    "    def show_status(self):\n",
    "        print(f\"{self.name}'s HP → {hp_bar(self.hp, self.max_hp)}\")\n",
    "\n",
    "fk = Faker(locale='zh_CN')\n",
    "player = Creature(100, \"AI悦创\")\n",
    "enemy = Creature(80, fk.name())\n",
    "\n",
    "heal_used = False  # 治疗仅限一次\n",
    "heal_penalty_active = False  # 是否已触发“敌人攻击翻倍”的惩罚\n",
    "\n",
    "while player.not_dead() and enemy.not_dead():\n",
    "    player.show_status()\n",
    "    enemy.show_status()\n",
    "\n",
    "    # 是否出现治疗提示：仅当当前 HP < 初始 HP 的 50% 且尚未使用\n",
    "    can_heal_now = (not heal_used) and (player.hp < player.max_hp * 0.5)\n",
    "\n",
    "    if can_heal_now:\n",
    "        prompt = 'Attack or Defence or Heal (A/D/H)：'\n",
    "        valid_inputs = {\"A\", \"D\", \"H\"}\n",
    "        print('（提示：你现在可以按 H 回满血，仅此一次）')\n",
    "    else:\n",
    "        prompt = 'Attack or Defence (A/D)：'\n",
    "        valid_inputs = {\"A\", \"D\"}\n",
    "\n",
    "    if heal_penalty_active:\n",
    "        print('【警告】治疗代价生效中：敌人对你的伤害 ×2！')\n",
    "\n",
    "    user_input = input(prompt).strip().upper()\n",
    "    while user_input not in valid_inputs:\n",
    "        user_input = input(\"输入无效，请重新输入：\" + prompt).strip().upper()\n",
    "\n",
    "    # 敌人选择（对 A/D 有影响；若玩家选择 H，我们让敌人本回合直接攻击）\n",
    "    enemy_status = ['Attack', 'Defence']\n",
    "    enemy_choice = random.choices(enemy_status, weights=[0.7, 0.3], k=1)[0]  # 敌人更倾向于攻击\n",
    "\n",
    "\n",
    "    # 当前敌人伤害倍率（是否翻倍）\n",
    "    def enemy_mul():\n",
    "        return 2.0 if heal_penalty_active else 1.0\n",
    "\n",
    "\n",
    "    if user_input == \"H\":\n",
    "        # 只有在 can_heal_now 为 True 时才会进入到这里\n",
    "        print(\"你使用了治疗技能！血量已回满。\")\n",
    "        player.heal_full()\n",
    "        heal_used = True\n",
    "\n",
    "        # 触发治疗代价：从现在起敌人攻击翻倍（包含本回合的随后的敌人攻击）\n",
    "        heal_penalty_active = True\n",
    "\n",
    "        # 敌人回合：直接攻击（先治再挨打）\n",
    "        raw_enemy_attack_value = enemy.attack()\n",
    "        damage = raw_enemy_attack_value * enemy_mul()\n",
    "        print(f\"{enemy.name} 攻击了你，造成 {int(damage)} 点伤害！（原始{int(raw_enemy_attack_value)} × 倍率{enemy_mul():.0f}）\")\n",
    "        player.being_attack(damage)\n",
    "\n",
    "    elif user_input == \"A\":\n",
    "        player_attack_coefficient = 1\n",
    "        if enemy_choice == \"Defence\":\n",
    "            print(f\"{enemy.name} chose to defend!\")\n",
    "            player_attack_coefficient = 0.5\n",
    "        else:\n",
    "            print(f\"{enemy.name} chose to attack!\")\n",
    "            raw_enemy_attack_value = enemy.attack()\n",
    "            damage = raw_enemy_attack_value * enemy_mul()\n",
    "            print(f\"{enemy.name} 对你造成 {int(damage)} 点伤害！（原始{int(raw_enemy_attack_value)} × 倍率{enemy_mul():.0f}）\")\n",
    "            player.being_attack(damage)\n",
    "\n",
    "        player_attack_value = player.attack()\n",
    "        enemy.being_attack(player_attack_value * player_attack_coefficient)\n",
    "\n",
    "    elif user_input == \"D\":\n",
    "        # 防御：敌人攻击减伤为 90%，然后再应用翻倍倍率\n",
    "        raw_enemy_attack_value = enemy.attack()\n",
    "        damage = raw_enemy_attack_value * 0.1 * enemy_mul()\n",
    "        print(f\"{enemy.name} 攻击了你（被你防住大部分），造成 {int(damage)} 点伤害！\"\n",
    "              f\"（原始{int(raw_enemy_attack_value)} × 减伤0.1 × 倍率{enemy_mul():.0f}）\")\n",
    "        player.being_attack(damage)\n",
    "\n",
    "if player.not_dead():\n",
    "    print(\"You Win!\")\n",
    "else:\n",
    "    print(\"You Lose!\")\n",
    "'''\n",
    "\n",
    "while True:\n",
    "    prompt = input(\"Enter your prompt: \")\n",
    "    if prompt.lower() in ['quit', 'q', 'exit']:\n",
    "        break\n",
    "    messages.append({'role': 'user', 'content': prompt})\n",
    "    response = client.chat.completions.create(\n",
    "        model=\"deepseek-chat\",\n",
    "        messages=messages\n",
    "    )\n",
    "    assistant_content = response.choices[0].message.content\n",
    "    messages.append({\"role\": \"assistant\", \"content\": assistant_content})\n",
    "    print(f\"Messages: {assistant_content}\")"
   ]
  }
 ],
 "metadata": {
  "kernelspec": {
   "display_name": "Python 3 (ipykernel)",
   "language": "python",
   "name": "python3"
  },
  "language_info": {
   "codemirror_mode": {
    "name": "ipython",
    "version": 3
   },
   "file_extension": ".py",
   "mimetype": "text/x-python",
   "name": "python",
   "nbconvert_exporter": "python",
   "pygments_lexer": "ipython3",
   "version": "3.9.6"
  }
 },
 "nbformat": 4,
 "nbformat_minor": 5
}
