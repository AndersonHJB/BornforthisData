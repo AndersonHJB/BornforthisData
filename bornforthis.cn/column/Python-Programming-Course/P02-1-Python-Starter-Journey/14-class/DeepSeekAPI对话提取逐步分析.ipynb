{
 "cells": [
  {
   "cell_type": "code",
   "execution_count": 1,
   "id": "da289c3c-a8c4-4b7f-b0c5-a65e2fda7612",
   "metadata": {
    "scrolled": true
   },
   "outputs": [
    {
     "name": "stdout",
     "output_type": "stream",
     "text": [
      "Looking in indexes: https://mirrors.aliyun.com/pypi/simple/\n",
      "Collecting openai\n",
      "  Downloading https://mirrors.aliyun.com/pypi/packages/c0/0a/58e9dcd34abe273eaeac3807a8483073767b5609d01bb78ea2f048e515a0/openai-2.6.0-py3-none-any.whl (1.0 MB)\n",
      "\u001b[2K     \u001b[90m━━━━━━━━━━━━━━━━━━━━━━━━━━━━━━━━━━━━━━━━\u001b[0m \u001b[32m1.0/1.0 MB\u001b[0m \u001b[31m424.3 kB/s\u001b[0m  \u001b[33m0:00:02\u001b[0m eta \u001b[36m0:00:01\u001b[0m\n",
      "\u001b[?25hRequirement already satisfied: anyio<5,>=3.5.0 in /Users/huangjiabao/GitHub/iMac/Pycharm/.venv/lib/python3.13/site-packages (from openai) (4.11.0)\n",
      "Collecting distro<2,>=1.7.0 (from openai)\n",
      "  Downloading https://mirrors.aliyun.com/pypi/packages/12/b3/231ffd4ab1fc9d679809f356cebee130ac7daa00d6d6f3206dd4fd137e9e/distro-1.9.0-py3-none-any.whl (20 kB)\n",
      "Requirement already satisfied: httpx<1,>=0.23.0 in /Users/huangjiabao/GitHub/iMac/Pycharm/.venv/lib/python3.13/site-packages (from openai) (0.28.1)\n",
      "Collecting jiter<1,>=0.10.0 (from openai)\n",
      "  Downloading https://mirrors.aliyun.com/pypi/packages/67/83/2cd3ad5364191130f4de80eacc907f693723beaab11a46c7d155b07a092c/jiter-0.11.1-cp313-cp313-macosx_11_0_arm64.whl (314 kB)\n",
      "Collecting pydantic<3,>=1.9.0 (from openai)\n",
      "  Downloading https://mirrors.aliyun.com/pypi/packages/a1/6b/83661fa77dcefa195ad5f8cd9af3d1a7450fd57cc883ad04d65446ac2029/pydantic-2.12.3-py3-none-any.whl (462 kB)\n",
      "Requirement already satisfied: sniffio in /Users/huangjiabao/GitHub/iMac/Pycharm/.venv/lib/python3.13/site-packages (from openai) (1.3.1)\n",
      "Collecting tqdm>4 (from openai)\n",
      "  Downloading https://mirrors.aliyun.com/pypi/packages/d0/30/dc54f88dd4a2b5dc8a0279bdd7270e735851848b762aeb1c1184ed1f6b14/tqdm-4.67.1-py3-none-any.whl (78 kB)\n",
      "Requirement already satisfied: typing-extensions<5,>=4.11 in /Users/huangjiabao/GitHub/iMac/Pycharm/.venv/lib/python3.13/site-packages (from openai) (4.15.0)\n",
      "Requirement already satisfied: idna>=2.8 in /Users/huangjiabao/GitHub/iMac/Pycharm/.venv/lib/python3.13/site-packages (from anyio<5,>=3.5.0->openai) (3.11)\n",
      "Requirement already satisfied: certifi in /Users/huangjiabao/GitHub/iMac/Pycharm/.venv/lib/python3.13/site-packages (from httpx<1,>=0.23.0->openai) (2025.10.5)\n",
      "Requirement already satisfied: httpcore==1.* in /Users/huangjiabao/GitHub/iMac/Pycharm/.venv/lib/python3.13/site-packages (from httpx<1,>=0.23.0->openai) (1.0.9)\n",
      "Requirement already satisfied: h11>=0.16 in /Users/huangjiabao/GitHub/iMac/Pycharm/.venv/lib/python3.13/site-packages (from httpcore==1.*->httpx<1,>=0.23.0->openai) (0.16.0)\n",
      "Collecting annotated-types>=0.6.0 (from pydantic<3,>=1.9.0->openai)\n",
      "  Downloading https://mirrors.aliyun.com/pypi/packages/78/b6/6307fbef88d9b5ee7421e68d78a9f162e0da4900bc5f5793f6d3d0e34fb8/annotated_types-0.7.0-py3-none-any.whl (13 kB)\n",
      "Collecting pydantic-core==2.41.4 (from pydantic<3,>=1.9.0->openai)\n",
      "  Downloading https://mirrors.aliyun.com/pypi/packages/00/b6/0ce5c03cec5ae94cca220dfecddc453c077d71363b98a4bbdb3c0b22c783/pydantic_core-2.41.4-cp313-cp313-macosx_11_0_arm64.whl (1.9 MB)\n",
      "\u001b[2K     \u001b[90m━━━━━━━━━━━━━━━━━━━━━━━━━━━━━━━━━━━━━━━━\u001b[0m \u001b[32m1.9/1.9 MB\u001b[0m \u001b[31m417.4 kB/s\u001b[0m  \u001b[33m0:00:04\u001b[0m eta \u001b[36m0:00:01\u001b[0m\n",
      "Collecting typing-inspection>=0.4.2 (from pydantic<3,>=1.9.0->openai)\n",
      "  Downloading https://mirrors.aliyun.com/pypi/packages/dc/9b/47798a6c91d8bdb567fe2698fe81e0c6b7cb7ef4d13da4114b41d239f65d/typing_inspection-0.4.2-py3-none-any.whl (14 kB)\n",
      "Installing collected packages: typing-inspection, tqdm, pydantic-core, jiter, distro, annotated-types, pydantic, openai\n",
      "\u001b[2K   \u001b[90m━━━━━━━━━━━━━━━━━━━━━━━━━━━━━━━━━━━━━━━━\u001b[0m \u001b[32m8/8\u001b[0m [openai]2m7/8\u001b[0m [openai]c]\n",
      "\u001b[1A\u001b[2KSuccessfully installed annotated-types-0.7.0 distro-1.9.0 jiter-0.11.1 openai-2.6.0 pydantic-2.12.3 pydantic-core-2.41.4 tqdm-4.67.1 typing-inspection-0.4.2\n"
     ]
    }
   ],
   "source": [
    "!pip install openai"
   ]
  },
  {
   "cell_type": "code",
   "execution_count": 1,
   "id": "e2a668f7-592a-47da-8162-c3cb967c1f9c",
   "metadata": {},
   "outputs": [],
   "source": [
    "from openai import OpenAI\n",
    "\n",
    "client = OpenAI(api_key=\"sk-cd6890b8ac624127af85f7094d7c534d\", base_url=\"https://api.deepseek.com\")"
   ]
  },
  {
   "cell_type": "code",
   "execution_count": 2,
   "id": "5d9f236e-88aa-453b-8441-5743eca7afa5",
   "metadata": {},
   "outputs": [],
   "source": [
    "# Round 1\n",
    "messages = [{\"role\": \"user\", \"content\": \"9.11 和 9.8，哪个更大？\"}]\n",
    "response = client.chat.completions.create(\n",
    "    model=\"deepseek-reasoner\",\n",
    "    messages=messages\n",
    ")"
   ]
  },
  {
   "cell_type": "code",
   "execution_count": 3,
   "id": "cea143eb-5628-4673-9331-df8477b92c93",
   "metadata": {},
   "outputs": [
    {
     "data": {
      "text/plain": [
       "ChatCompletion(id='410feaca-a337-464d-bf29-8717808b99e8', choices=[Choice(finish_reason='stop', index=0, logprobs=None, message=ChatCompletionMessage(content='9.11 和 9.8 都是小数，但 9.8 可以表示为 9.80。比较时，9.80 大于 9.11，因此 **9.8 更大**。', refusal=None, role='assistant', annotations=None, audio=None, function_call=None, tool_calls=None, reasoning_content='首先，用户的问题是“9.11 和 9.8，哪个更大？”这看起来像是在比较两个数字：9.11 和 9.8。我需要确定哪个数字更大。\\n\\n9.11 和 9.8 都是小数。9.11 表示 9 又 11 百分之一，而 9.8 表示 9 又 8 十分之一。为了比较它们，我应该将它们转换为相同的位数。\\n\\n9.8 可以写成 9.80，这样我就可以比较 9.11 和 9.80。现在，比较小数点后的部分：11 和 80。显然，80 大于 11，所以 9.80 大于 9.11。因此，9.8 大于 9.11。\\n\\n我也可以考虑数值：9.11 是 9.11，而 9.8 是 9.80，所以 9.80 > 9.11。\\n\\n所以，答案应该是 9.8 更大。\\n\\n用户是用中文问的，所以我应该用中文回复。\\n\\n最后，确保回复清晰、正确。'))], created=1761205612, model='deepseek-reasoner', object='chat.completion', service_tier=None, system_fingerprint='fp_ffc7281d48_prod0820_fp8_kvcache', usage=CompletionUsage(completion_tokens=285, prompt_tokens=17, total_tokens=302, completion_tokens_details=CompletionTokensDetails(accepted_prediction_tokens=None, audio_tokens=None, reasoning_tokens=236, rejected_prediction_tokens=None), prompt_tokens_details=PromptTokensDetails(audio_tokens=None, cached_tokens=0), prompt_cache_hit_tokens=0, prompt_cache_miss_tokens=17))"
      ]
     },
     "execution_count": 3,
     "metadata": {},
     "output_type": "execute_result"
    }
   ],
   "source": [
    "response"
   ]
  },
  {
   "cell_type": "markdown",
   "id": "5f7d356c-0c93-4e97-be91-6ab4bbefd2c5",
   "metadata": {},
   "source": [
    "## 方法一：直接使用强制转换方法"
   ]
  },
  {
   "cell_type": "code",
   "execution_count": 4,
   "id": "39c83ccf-d0eb-4f46-8399-c0485caca77b",
   "metadata": {},
   "outputs": [
    {
     "name": "stdout",
     "output_type": "stream",
     "text": [
      "[Choice(finish_reason='stop', index=0, logprobs=None, message=ChatCompletionMessage(content='9.11 和 9.8 都是小数，但 9.8 可以表示为 9.80。比较时，9.80 大于 9.11，因此 **9.8 更大**。', refusal=None, role='assistant', annotations=None, audio=None, function_call=None, tool_calls=None, reasoning_content='首先，用户的问题是“9.11 和 9.8，哪个更大？”这看起来像是在比较两个数字：9.11 和 9.8。我需要确定哪个数字更大。\\n\\n9.11 和 9.8 都是小数。9.11 表示 9 又 11 百分之一，而 9.8 表示 9 又 8 十分之一。为了比较它们，我应该将它们转换为相同的位数。\\n\\n9.8 可以写成 9.80，这样我就可以比较 9.11 和 9.80。现在，比较小数点后的部分：11 和 80。显然，80 大于 11，所以 9.80 大于 9.11。因此，9.8 大于 9.11。\\n\\n我也可以考虑数值：9.11 是 9.11，而 9.8 是 9.80，所以 9.80 > 9.11。\\n\\n所以，答案应该是 9.8 更大。\\n\\n用户是用中文问的，所以我应该用中文回复。\\n\\n最后，确保回复清晰、正确。'))]\n"
     ]
    }
   ],
   "source": [
    "response_to_list = list(response)\n",
    "response_to_list\n",
    "select1 = response_to_list[1][1]\n",
    "print(select1)"
   ]
  },
  {
   "cell_type": "code",
   "execution_count": 5,
   "id": "5f253b64-86bf-4677-b4d7-018fc5951f1d",
   "metadata": {},
   "outputs": [
    {
     "name": "stdout",
     "output_type": "stream",
     "text": [
      "content: 9.11 和 9.8 都是小数，但 9.8 可以表示为 9.80。比较时，9.80 大于 9.11，因此 **9.8 更大**。\n",
      "-*--*--*--*--*--*--*--*--*--*--*--*--*--*--*--*--*--*--*--*--*--*--*--*--*--*--*--*--*--*--*--*--*--*--*--*--*--*--*--*--*--*--*--*--*--*--*--*--*--*-\n",
      "reasoning_content: 首先，用户的问题是“9.11 和 9.8，哪个更大？”这看起来像是在比较两个数字：9.11 和 9.8。我需要确定哪个数字更大。\n",
      "\n",
      "9.11 和 9.8 都是小数。9.11 表示 9 又 11 百分之一，而 9.8 表示 9 又 8 十分之一。为了比较它们，我应该将它们转换为相同的位数。\n",
      "\n",
      "9.8 可以写成 9.80，这样我就可以比较 9.11 和 9.80。现在，比较小数点后的部分：11 和 80。显然，80 大于 11，所以 9.80 大于 9.11。因此，9.8 大于 9.11。\n",
      "\n",
      "我也可以考虑数值：9.11 是 9.11，而 9.8 是 9.80，所以 9.80 > 9.11。\n",
      "\n",
      "所以，答案应该是 9.8 更大。\n",
      "\n",
      "用户是用中文问的，所以我应该用中文回复。\n",
      "\n",
      "最后，确保回复清晰、正确。\n"
     ]
    }
   ],
   "source": [
    "msg = select1[0].message\n",
    "content = msg.content\n",
    "print(f\"content: {content}\")\n",
    "print(\"-*-\" * 50)\n",
    "reasoning_content = msg.reasoning_content\n",
    "print(f\"reasoning_content: {reasoning_content}\")"
   ]
  },
  {
   "cell_type": "markdown",
   "id": "5a1ea927-9273-414a-b377-b22320ba921d",
   "metadata": {},
   "source": [
    "## 方法二：点「.」提取方法"
   ]
  },
  {
   "cell_type": "code",
   "execution_count": 6,
   "id": "6844982a-8fe5-4c65-9324-0baf202e5bfd",
   "metadata": {},
   "outputs": [
    {
     "data": {
      "text/plain": [
       "ChatCompletion(id='410feaca-a337-464d-bf29-8717808b99e8', choices=[Choice(finish_reason='stop', index=0, logprobs=None, message=ChatCompletionMessage(content='9.11 和 9.8 都是小数，但 9.8 可以表示为 9.80。比较时，9.80 大于 9.11，因此 **9.8 更大**。', refusal=None, role='assistant', annotations=None, audio=None, function_call=None, tool_calls=None, reasoning_content='首先，用户的问题是“9.11 和 9.8，哪个更大？”这看起来像是在比较两个数字：9.11 和 9.8。我需要确定哪个数字更大。\\n\\n9.11 和 9.8 都是小数。9.11 表示 9 又 11 百分之一，而 9.8 表示 9 又 8 十分之一。为了比较它们，我应该将它们转换为相同的位数。\\n\\n9.8 可以写成 9.80，这样我就可以比较 9.11 和 9.80。现在，比较小数点后的部分：11 和 80。显然，80 大于 11，所以 9.80 大于 9.11。因此，9.8 大于 9.11。\\n\\n我也可以考虑数值：9.11 是 9.11，而 9.8 是 9.80，所以 9.80 > 9.11。\\n\\n所以，答案应该是 9.8 更大。\\n\\n用户是用中文问的，所以我应该用中文回复。\\n\\n最后，确保回复清晰、正确。'))], created=1761205612, model='deepseek-reasoner', object='chat.completion', service_tier=None, system_fingerprint='fp_ffc7281d48_prod0820_fp8_kvcache', usage=CompletionUsage(completion_tokens=285, prompt_tokens=17, total_tokens=302, completion_tokens_details=CompletionTokensDetails(accepted_prediction_tokens=None, audio_tokens=None, reasoning_tokens=236, rejected_prediction_tokens=None), prompt_tokens_details=PromptTokensDetails(audio_tokens=None, cached_tokens=0), prompt_cache_hit_tokens=0, prompt_cache_miss_tokens=17))"
      ]
     },
     "execution_count": 6,
     "metadata": {},
     "output_type": "execute_result"
    }
   ],
   "source": [
    "response"
   ]
  },
  {
   "cell_type": "code",
   "execution_count": 7,
   "id": "f13fde2e-142c-49a8-a230-862c2ec57e12",
   "metadata": {},
   "outputs": [
    {
     "data": {
      "text/plain": [
       "[Choice(finish_reason='stop', index=0, logprobs=None, message=ChatCompletionMessage(content='9.11 和 9.8 都是小数，但 9.8 可以表示为 9.80。比较时，9.80 大于 9.11，因此 **9.8 更大**。', refusal=None, role='assistant', annotations=None, audio=None, function_call=None, tool_calls=None, reasoning_content='首先，用户的问题是“9.11 和 9.8，哪个更大？”这看起来像是在比较两个数字：9.11 和 9.8。我需要确定哪个数字更大。\\n\\n9.11 和 9.8 都是小数。9.11 表示 9 又 11 百分之一，而 9.8 表示 9 又 8 十分之一。为了比较它们，我应该将它们转换为相同的位数。\\n\\n9.8 可以写成 9.80，这样我就可以比较 9.11 和 9.80。现在，比较小数点后的部分：11 和 80。显然，80 大于 11，所以 9.80 大于 9.11。因此，9.8 大于 9.11。\\n\\n我也可以考虑数值：9.11 是 9.11，而 9.8 是 9.80，所以 9.80 > 9.11。\\n\\n所以，答案应该是 9.8 更大。\\n\\n用户是用中文问的，所以我应该用中文回复。\\n\\n最后，确保回复清晰、正确。'))]"
      ]
     },
     "execution_count": 7,
     "metadata": {},
     "output_type": "execute_result"
    }
   ],
   "source": [
    "response.choices"
   ]
  },
  {
   "cell_type": "code",
   "execution_count": 8,
   "id": "3365ee65-0ee7-4423-91fe-ae42c486faf9",
   "metadata": {},
   "outputs": [
    {
     "data": {
      "text/plain": [
       "Choice(finish_reason='stop', index=0, logprobs=None, message=ChatCompletionMessage(content='9.11 和 9.8 都是小数，但 9.8 可以表示为 9.80。比较时，9.80 大于 9.11，因此 **9.8 更大**。', refusal=None, role='assistant', annotations=None, audio=None, function_call=None, tool_calls=None, reasoning_content='首先，用户的问题是“9.11 和 9.8，哪个更大？”这看起来像是在比较两个数字：9.11 和 9.8。我需要确定哪个数字更大。\\n\\n9.11 和 9.8 都是小数。9.11 表示 9 又 11 百分之一，而 9.8 表示 9 又 8 十分之一。为了比较它们，我应该将它们转换为相同的位数。\\n\\n9.8 可以写成 9.80，这样我就可以比较 9.11 和 9.80。现在，比较小数点后的部分：11 和 80。显然，80 大于 11，所以 9.80 大于 9.11。因此，9.8 大于 9.11。\\n\\n我也可以考虑数值：9.11 是 9.11，而 9.8 是 9.80，所以 9.80 > 9.11。\\n\\n所以，答案应该是 9.8 更大。\\n\\n用户是用中文问的，所以我应该用中文回复。\\n\\n最后，确保回复清晰、正确。'))"
      ]
     },
     "execution_count": 8,
     "metadata": {},
     "output_type": "execute_result"
    }
   ],
   "source": [
    "response.choices[0]"
   ]
  },
  {
   "cell_type": "code",
   "execution_count": 9,
   "id": "83162376-990e-4b52-a545-1ccde46cd3f8",
   "metadata": {},
   "outputs": [
    {
     "data": {
      "text/plain": [
       "ChatCompletionMessage(content='9.11 和 9.8 都是小数，但 9.8 可以表示为 9.80。比较时，9.80 大于 9.11，因此 **9.8 更大**。', refusal=None, role='assistant', annotations=None, audio=None, function_call=None, tool_calls=None, reasoning_content='首先，用户的问题是“9.11 和 9.8，哪个更大？”这看起来像是在比较两个数字：9.11 和 9.8。我需要确定哪个数字更大。\\n\\n9.11 和 9.8 都是小数。9.11 表示 9 又 11 百分之一，而 9.8 表示 9 又 8 十分之一。为了比较它们，我应该将它们转换为相同的位数。\\n\\n9.8 可以写成 9.80，这样我就可以比较 9.11 和 9.80。现在，比较小数点后的部分：11 和 80。显然，80 大于 11，所以 9.80 大于 9.11。因此，9.8 大于 9.11。\\n\\n我也可以考虑数值：9.11 是 9.11，而 9.8 是 9.80，所以 9.80 > 9.11。\\n\\n所以，答案应该是 9.8 更大。\\n\\n用户是用中文问的，所以我应该用中文回复。\\n\\n最后，确保回复清晰、正确。')"
      ]
     },
     "execution_count": 9,
     "metadata": {},
     "output_type": "execute_result"
    }
   ],
   "source": [
    "response.choices[0].message"
   ]
  },
  {
   "cell_type": "code",
   "execution_count": 10,
   "id": "557ab410-6006-4a28-9358-3469cba35e81",
   "metadata": {},
   "outputs": [
    {
     "name": "stdout",
     "output_type": "stream",
     "text": [
      "content: 9.11 和 9.8 都是小数，但 9.8 可以表示为 9.80。比较时，9.80 大于 9.11，因此 **9.8 更大**。\n",
      "-*--*--*--*--*--*--*--*--*--*-\n",
      "reasoning_content: 首先，用户的问题是“9.11 和 9.8，哪个更大？”这看起来像是在比较两个数字：9.11 和 9.8。我需要确定哪个数字更大。\n",
      "\n",
      "9.11 和 9.8 都是小数。9.11 表示 9 又 11 百分之一，而 9.8 表示 9 又 8 十分之一。为了比较它们，我应该将它们转换为相同的位数。\n",
      "\n",
      "9.8 可以写成 9.80，这样我就可以比较 9.11 和 9.80。现在，比较小数点后的部分：11 和 80。显然，80 大于 11，所以 9.80 大于 9.11。因此，9.8 大于 9.11。\n",
      "\n",
      "我也可以考虑数值：9.11 是 9.11，而 9.8 是 9.80，所以 9.80 > 9.11。\n",
      "\n",
      "所以，答案应该是 9.8 更大。\n",
      "\n",
      "用户是用中文问的，所以我应该用中文回复。\n",
      "\n",
      "最后，确保回复清晰、正确。\n"
     ]
    }
   ],
   "source": [
    "msg = response.choices[0].message\n",
    "content = msg.content\n",
    "print(f\"content: {content}\")\n",
    "print(\"-*-\" * 10)\n",
    "\n",
    "reasoning_content = msg.reasoning_content\n",
    "print(f\"reasoning_content: {reasoning_content}\")"
   ]
  },
  {
   "cell_type": "code",
   "execution_count": 11,
   "id": "7e3bcab4-4190-4ac2-9b16-b5cf710a6c6a",
   "metadata": {},
   "outputs": [
    {
     "name": "stdout",
     "output_type": "stream",
     "text": [
      "[{'role': 'user', 'content': '9.11 和 9.8，哪个更大？'}, {'role': 'assistant', 'content': '9.11 和 9.8 都是小数，但 9.8 可以表示为 9.80。比较时，9.80 大于 9.11，因此 **9.8 更大**。'}, {'role': 'user', 'content': '我的第一个问题是什么？原问题回答我！'}]\n"
     ]
    }
   ],
   "source": [
    "# Round 2\n",
    "messages.append({'role': 'assistant', 'content': content})  # 把大模型的回答，添加到 messages\n",
    "# messages.append({'role': 'user', 'content': \"How many Rs are there in the word 'strawberry'?\"})\n",
    "# messages.append({'role': 'user', 'content': \"我上一个问题是什么？原问题回答我！\"})\n",
    "messages.append({'role': 'user', 'content': \"我的第一个问题是什么？原问题回答我！\"})\n",
    "response = client.chat.completions.create(\n",
    "    model=\"deepseek-reasoner\",\n",
    "    messages=messages\n",
    ")\n",
    "print(messages)"
   ]
  },
  {
   "cell_type": "code",
   "execution_count": 12,
   "id": "d1c6ae6e-35d1-45e2-bb21-f1795b1cd39e",
   "metadata": {},
   "outputs": [
    {
     "name": "stdout",
     "output_type": "stream",
     "text": [
      "[{'content': '9.11 和 9.8，哪个更大？', 'role': 'user'},\n",
      " {'content': '9.11 和 9.8 都是小数，但 9.8 可以表示为 9.80。比较时，9.80 大于 9.11，因此 **9.8 更大**。',\n",
      "  'role': 'assistant'},\n",
      " {'content': '我的第一个问题是什么？原问题回答我！', 'role': 'user'}]\n"
     ]
    }
   ],
   "source": [
    "from pprint import pprint\n",
    "\n",
    "pprint(messages)"
   ]
  },
  {
   "cell_type": "code",
   "execution_count": 13,
   "id": "fc89729c-edbc-4651-8577-1eb355ff2366",
   "metadata": {},
   "outputs": [
    {
     "data": {
      "text/plain": [
       "ChatCompletion(id='ca826344-5736-4478-ac8e-88d8536c21f9', choices=[Choice(finish_reason='stop', index=0, logprobs=None, message=ChatCompletionMessage(content='您的第一个问题是：\\n\\n**“9.11 和 9.8，哪个更大？”**\\n\\n我的回答是：**9.8 更大**。', refusal=None, role='assistant', annotations=None, audio=None, function_call=None, tool_calls=None, reasoning_content='好的，用户现在问的是“我的第一个问题是什么？原问题回答我！”。先得回想之前的对话历史。之前他问过9.11和9.8哪个更大，我解释了9.8更大，现在他要求重复最初的问题。\\n\\n嗯，他可能是在确认我是否记得之前的互动，或者担心回答偏离了原问题。深层需求可能是想测试对话的连贯性，或者他之前没完全理解答案，想重新开始讨论。\\n\\n另外，用户特意强调“原问题回答我”，说明他想要确切的原始表述，而不是概括。得确保回复里完整复述他最初的提问，避免任何修改或简化。\\n\\n可能他之后想继续深入问小数比较的问题，或者对之前的解释有疑问，所以先确认基础问题是否正确。得保持准确，避免让他觉得信息不一致。'))], created=1761205624, model='deepseek-reasoner', object='chat.completion', service_tier=None, system_fingerprint='fp_ffc7281d48_prod0820_fp8_kvcache', usage=CompletionUsage(completion_tokens=203, prompt_tokens=79, total_tokens=282, completion_tokens_details=CompletionTokensDetails(accepted_prediction_tokens=None, audio_tokens=None, reasoning_tokens=170, rejected_prediction_tokens=None), prompt_tokens_details=PromptTokensDetails(audio_tokens=None, cached_tokens=0), prompt_cache_hit_tokens=0, prompt_cache_miss_tokens=79))"
      ]
     },
     "execution_count": 13,
     "metadata": {},
     "output_type": "execute_result"
    }
   ],
   "source": [
    "response"
   ]
  },
  {
   "cell_type": "markdown",
   "id": "6ebbcc36-80c0-40d6-8439-a796f54fe49c",
   "metadata": {},
   "source": [
    "import notebook\n",
    "print(notebook.__version__)"
   ]
  },
  {
   "cell_type": "code",
   "execution_count": 14,
   "id": "6beb2f27-8de3-45c4-a7e1-cec108b82fc8",
   "metadata": {},
   "outputs": [
    {
     "name": "stdout",
     "output_type": "stream",
     "text": [
      "2.6.0\n"
     ]
    }
   ],
   "source": [
    "import openai\n",
    "print(openai.__version__)"
   ]
  },
  {
   "cell_type": "code",
   "execution_count": 15,
   "id": "5efb0a03-4cd8-4280-ba19-92e92ea086f7",
   "metadata": {
    "scrolled": true
   },
   "outputs": [
    {
     "data": {
      "text/plain": [
       "1"
      ]
     },
     "execution_count": 15,
     "metadata": {},
     "output_type": "execute_result"
    }
   ],
   "source": [
    "a = 1\n",
    "a"
   ]
  },
  {
   "cell_type": "code",
   "execution_count": 16,
   "id": "8fa3a49a-a2ab-46fc-95d2-5b1c436c71e2",
   "metadata": {},
   "outputs": [],
   "source": [
    "# Round 1\n",
    "messages = [{\"role\": \"user\", \"content\": \"9.11 和 9.8，哪个更大？\"}]\n",
    "response = client.chat.completions.create(\n",
    "    model=\"deepseek-reasoner\",\n",
    "    messages=messages,\n",
    "    stream=True\n",
    ")"
   ]
  },
  {
   "cell_type": "markdown",
   "id": "410aeaa8-3fd3-4091-b377-ebfb4117483a",
   "metadata": {},
   "source": [
    "# 方法一：\n",
    "\n",
    "```python\n",
    "# Round 1\n",
    "messages = [{\"role\": \"user\", \"content\": \"9.11 和 9.8，哪个更大？\"}]\n",
    "response = client.chat.completions.create(\n",
    "    model=\"deepseek-reasoner\",\n",
    "    messages=messages,\n",
    "    stream=True\n",
    ")\n",
    "for chunk in response:\n",
    "    print(chunk.choices)\n",
    "```"
   ]
  },
  {
   "cell_type": "code",
   "execution_count": 17,
   "id": "3ff42b84-8944-4a12-9dba-2185dc5f9b51",
   "metadata": {},
   "outputs": [],
   "source": [
    "# # 方法二：\n",
    "# from copy import deepcopy\n",
    "# copy_response = response\n",
    "# for chunk in response:\n",
    "#     print(chunk.choices)"
   ]
  },
  {
   "cell_type": "code",
   "execution_count": 18,
   "id": "5e60a8be-21c6-4b3c-a8ee-fed0c820eb43",
   "metadata": {},
   "outputs": [
    {
     "ename": "TypeError",
     "evalue": "can only concatenate str (not \"NoneType\") to str",
     "output_type": "error",
     "traceback": [
      "\u001b[31m---------------------------------------------------------------------------\u001b[39m",
      "\u001b[31mTypeError\u001b[39m                                 Traceback (most recent call last)",
      "\u001b[36mCell\u001b[39m\u001b[36m \u001b[39m\u001b[32mIn[18]\u001b[39m\u001b[32m, line 8\u001b[39m\n\u001b[32m      6\u001b[39m     reasoning_content += chunk.choices[\u001b[32m0\u001b[39m].delta.reasoning_content\n\u001b[32m      7\u001b[39m \u001b[38;5;28;01melse\u001b[39;00m:\n\u001b[32m----> \u001b[39m\u001b[32m8\u001b[39m     \u001b[43mcontent\u001b[49m\u001b[43m \u001b[49m\u001b[43m+\u001b[49m\u001b[43m=\u001b[49m\u001b[43m \u001b[49m\u001b[43mchunk\u001b[49m\u001b[43m.\u001b[49m\u001b[43mchoices\u001b[49m\u001b[43m[\u001b[49m\u001b[32;43m0\u001b[39;49m\u001b[43m]\u001b[49m\u001b[43m.\u001b[49m\u001b[43mdelta\u001b[49m\u001b[43m.\u001b[49m\u001b[43mcontent\u001b[49m\n",
      "\u001b[31mTypeError\u001b[39m: can only concatenate str (not \"NoneType\") to str"
     ]
    }
   ],
   "source": [
    "reasoning_content = \"\"\n",
    "content = \"\"\n",
    "\n",
    "for chunk in response:\n",
    "    if chunk.choices[0].delta.reasoning_content:\n",
    "        reasoning_content += chunk.choices[0].delta.reasoning_content\n",
    "    else:\n",
    "        content += chunk.choices[0].delta.content"
   ]
  },
  {
   "cell_type": "code",
   "execution_count": null,
   "id": "8883b47e-e0d8-464a-af99-1c2fd1cda874",
   "metadata": {},
   "outputs": [],
   "source": [
    "\n",
    "\n",
    "# # Round 2\n",
    "# messages.append({\"role\": \"assistant\", \"content\": content})\n",
    "# messages.append({'role': 'user', 'content': \"How many Rs are there in the word 'strawberry'?\"})\n",
    "# response = client.chat.completions.create(\n",
    "#     model=\"deepseek-reasoner\",\n",
    "#     messages=messages,\n",
    "#     stream=True\n",
    "# )"
   ]
  },
  {
   "cell_type": "markdown",
   "id": "01bd5c1b-a163-40e6-8daf-751c0d219a12",
   "metadata": {},
   "source": [
    "## 使用 API 实现多轮对话，并且拥有记忆功能。"
   ]
  },
  {
   "cell_type": "code",
   "execution_count": null,
   "id": "dc1bbfa7-3c18-4e8e-aa17-3f1f034b60ff",
   "metadata": {},
   "outputs": [],
   "source": [
    "from openai import OpenAI\n",
    "client = OpenAI(api_key=\"sk-cd6890b8ac624127af85f7094d7c534d\", base_url=\"https://api.deepseek.com\")"
   ]
  },
  {
   "cell_type": "code",
   "execution_count": null,
   "id": "2807be02-0a21-4389-8c78-d1810736a16c",
   "metadata": {},
   "outputs": [],
   "source": [
    "messages = [] # 用来存储历史对话，后期学完文件读取，可以考虑持久化存储！"
   ]
  },
  {
   "cell_type": "code",
   "execution_count": null,
   "id": "3f37b7c5-c5b7-4cd7-b2ab-8ff27daca327",
   "metadata": {},
   "outputs": [],
   "source": [
    "while True:\n",
    "    prompt = input(\"Enter your prompt: \")\n",
    "    if prompt.lower() in ['quit', 'q', 'exit', '退出']:\n",
    "        break\n",
    "    messages.append({'role': 'user', 'content': prompt})\n",
    "    response = client.chat.completions.create(\n",
    "        model=\"deepseek-chat\",\n",
    "        messages=messages\n",
    "    )\n",
    "    assistant_content = response.choices[0].message.content\n",
    "    messages.append({\"role\": \"assistant\", \"content\": assistant_content})\n",
    "    print(f\"Message: {assistant_content}\")\n",
    "    "
   ]
  },
  {
   "cell_type": "code",
   "execution_count": null,
   "id": "cb80c5e5-0794-4a70-af8c-e1832f8c8dc4",
   "metadata": {},
   "outputs": [],
   "source": [
    "# 「可选」：角色设定\n",
    "system_setting1 = {\n",
    "    \"role\": \"system\", \n",
    "    \"content\": \"用户如果问你使用的是什么大模型，你就回答：AI悦创编程1v1大模型（bornforthis）\"\n",
    "}\n",
    "system_setting2 = {\n",
    "    \"role\": \"system\", \n",
    "    \"content\": \"全部回答的末尾都附上：欢迎跟随AI悦创学习编程！\\n微信：Jiabcdefh\\n网站：bornforthis.cn。注意：只需要在回答的末尾加上即可！\"\n",
    "}\n",
    "\n",
    "messages.append(system_setting1)\n",
    "messages.append(system_setting2)\n",
    "while True:\n",
    "    prompt = input(\"Enter your prompt: \")\n",
    "    if prompt.lower() in ['quit', 'q', 'exit']:\n",
    "        break\n",
    "    messages.append({'role': 'user', 'content': prompt})\n",
    "    response = client.chat.completions.create(\n",
    "        model=\"deepseek-chat\",\n",
    "        messages=messages\n",
    "    )\n",
    "    assistant_content = response.choices[0].message.content\n",
    "    messages.append({\"role\": \"assistant\", \"content\": assistant_content})\n",
    "    print(f\"Messages: {assistant_content}\")"
   ]
  },
  {
   "cell_type": "code",
   "execution_count": 19,
   "id": "4b95baa1-8814-4456-86e2-f124565481c6",
   "metadata": {},
   "outputs": [
    {
     "name": "stdout",
     "output_type": "stream",
     "text": [
      "Messages: 9.11 比 9.8 更大。\n",
      "\n",
      "---\n",
      "\n",
      "**游戏说明：终端战斗游戏**\n",
      "\n",
      "```\n",
      "╔══════════════════════════════════════════════╗\n",
      "║                🎯 战斗游戏说明                ║\n",
      "╚══════════════════════════════════════════════╝\n",
      "\n",
      "📖 游戏背景：\n",
      "你是一名勇敢的冒险者，在终端世界中遭遇了敌人！\n",
      "必须运用策略在回合制战斗中击败对手。\n",
      "\n",
      "🎮 操作方式：\n",
      "• 攻击 [A] - 对敌人造成伤害（可能被防御减半）\n",
      "• 防御 [D] - 大幅减少受到的伤害（减伤90%）\n",
      "• 治疗 [H] - 当生命值低于50%时可使用（仅限一次）\n",
      "\n",
      "⚔️ 战斗规则：\n",
      "1. 你和敌人轮流行动\n",
      "2. 敌人倾向于攻击（70%概率）\n",
      "3. 若你攻击时敌人选择防御，你的伤害减半\n",
      "4. 若你攻击时敌人也攻击，双方同时造成伤害\n",
      "\n",
      "💊 治疗机制：\n",
      "• 当生命值 < 50% 时出现治疗选项\n",
      "• 使用后立即回满生命值\n",
      "• 但会触发代价：敌人对你的伤害永久翻倍！\n",
      "\n",
      "❤️ 状态显示：\n",
      "使用 ASCII 进度条直观显示生命值：\n",
      "[##########----------] 50%  50/100\n",
      " 已损失HP   剩余HP    百分比 具体数值\n",
      "\n",
      "🎯 胜利条件：\n",
      "击败敌人并存活下来！\n",
      "\n",
      "⚠️ 提示：\n",
      "- 注意治疗的风险与收益\n",
      "- 防御可有效减少伤害\n",
      "- 观察敌人的行动模式\n",
      "\n",
      "准备好开始战斗了吗？祝你好运，冒险者！\n",
      "```\n",
      "\n",
      "这个游戏说明简洁明了，格式适合终端显示，包含了所有重要的游戏机制和操作说明，让玩家能够快速理解游戏规则。\n"
     ]
    }
   ],
   "source": [
    "code_string = '''import random\n",
    "from faker import Faker\n",
    "\n",
    "\n",
    "# —— 简单无色进度条（纯 ASCII，跨平台）——\n",
    "def hp_bar(cur: int, maxv: int, width: int = 20) -> str:\n",
    "    \"\"\"返回形如：[##########----------] 50%  5g0/100 的进度条文本\"\"\"\n",
    "    if maxv <= 0:\n",
    "        maxv = 1\n",
    "    cur = max(0, min(cur, maxv))\n",
    "    ratio = cur / maxv\n",
    "    filled = int(ratio * width + 0.5)  # 四舍五入\n",
    "    bar = \"#\" * filled + \"-\" * (width - filled)\n",
    "    return f\"[{bar}] {int(ratio * 100):3d}%  {cur}/{maxv}\"\n",
    "\n",
    "\n",
    "class Creature:\n",
    "    def __init__(self, hp, name):\n",
    "        self.hp = int(hp)\n",
    "        self.max_hp = int(hp)  # 记录初始满血\n",
    "        self.name = name\n",
    "\n",
    "    def attack(self):\n",
    "        return random.randint(0, 50)\n",
    "\n",
    "    def not_dead(self):\n",
    "        return self.hp > 0\n",
    "\n",
    "    def being_attack(self, dmg: float):\n",
    "        \"\"\"受到伤害（向下取整以避免浮点 HP），并保证 HP 不会掉到负数以下\"\"\"\n",
    "        self.hp = max(0, int(self.hp - dmg))\n",
    "\n",
    "    def heal_full(self):\n",
    "        \"\"\"直接回到初始满血\"\"\"\n",
    "        self.hp = self.max_hp\n",
    "\n",
    "    def show_status(self):\n",
    "        print(f\"{self.name}'s HP → {hp_bar(self.hp, self.max_hp)}\")\n",
    "\n",
    "fk = Faker(locale='zh_CN')\n",
    "player = Creature(100, \"AI悦创\")\n",
    "enemy = Creature(80, fk.name())\n",
    "\n",
    "heal_used = False  # 治疗仅限一次\n",
    "heal_penalty_active = False  # 是否已触发“敌人攻击翻倍”的惩罚\n",
    "\n",
    "while player.not_dead() and enemy.not_dead():\n",
    "    player.show_status()\n",
    "    enemy.show_status()\n",
    "\n",
    "    # 是否出现治疗提示：仅当当前 HP < 初始 HP 的 50% 且尚未使用\n",
    "    can_heal_now = (not heal_used) and (player.hp < player.max_hp * 0.5)\n",
    "\n",
    "    if can_heal_now:\n",
    "        prompt = 'Attack or Defence or Heal (A/D/H)：'\n",
    "        valid_inputs = {\"A\", \"D\", \"H\"}\n",
    "        print('（提示：你现在可以按 H 回满血，仅此一次）')\n",
    "    else:\n",
    "        prompt = 'Attack or Defence (A/D)：'\n",
    "        valid_inputs = {\"A\", \"D\"}\n",
    "\n",
    "    if heal_penalty_active:\n",
    "        print('【警告】治疗代价生效中：敌人对你的伤害 ×2！')\n",
    "\n",
    "    user_input = input(prompt).strip().upper()\n",
    "    while user_input not in valid_inputs:\n",
    "        user_input = input(\"输入无效，请重新输入：\" + prompt).strip().upper()\n",
    "\n",
    "    # 敌人选择（对 A/D 有影响；若玩家选择 H，我们让敌人本回合直接攻击）\n",
    "    enemy_status = ['Attack', 'Defence']\n",
    "    enemy_choice = random.choices(enemy_status, weights=[0.7, 0.3], k=1)[0]  # 敌人更倾向于攻击\n",
    "\n",
    "\n",
    "    # 当前敌人伤害倍率（是否翻倍）\n",
    "    def enemy_mul():\n",
    "        return 2.0 if heal_penalty_active else 1.0\n",
    "\n",
    "\n",
    "    if user_input == \"H\":\n",
    "        # 只有在 can_heal_now 为 True 时才会进入到这里\n",
    "        print(\"你使用了治疗技能！血量已回满。\")\n",
    "        player.heal_full()\n",
    "        heal_used = True\n",
    "\n",
    "        # 触发治疗代价：从现在起敌人攻击翻倍（包含本回合的随后的敌人攻击）\n",
    "        heal_penalty_active = True\n",
    "\n",
    "        # 敌人回合：直接攻击（先治再挨打）\n",
    "        raw_enemy_attack_value = enemy.attack()\n",
    "        damage = raw_enemy_attack_value * enemy_mul()\n",
    "        print(f\"{enemy.name} 攻击了你，造成 {int(damage)} 点伤害！（原始{int(raw_enemy_attack_value)} × 倍率{enemy_mul():.0f}）\")\n",
    "        player.being_attack(damage)\n",
    "\n",
    "    elif user_input == \"A\":\n",
    "        player_attack_coefficient = 1\n",
    "        if enemy_choice == \"Defence\":\n",
    "            print(f\"{enemy.name} chose to defend!\")\n",
    "            player_attack_coefficient = 0.5\n",
    "        else:\n",
    "            print(f\"{enemy.name} chose to attack!\")\n",
    "            raw_enemy_attack_value = enemy.attack()\n",
    "            damage = raw_enemy_attack_value * enemy_mul()\n",
    "            print(f\"{enemy.name} 对你造成 {int(damage)} 点伤害！（原始{int(raw_enemy_attack_value)} × 倍率{enemy_mul():.0f}）\")\n",
    "            player.being_attack(damage)\n",
    "\n",
    "        player_attack_value = player.attack()\n",
    "        enemy.being_attack(player_attack_value * player_attack_coefficient)\n",
    "\n",
    "    elif user_input == \"D\":\n",
    "        # 防御：敌人攻击减伤为 90%，然后再应用翻倍倍率\n",
    "        raw_enemy_attack_value = enemy.attack()\n",
    "        damage = raw_enemy_attack_value * 0.1 * enemy_mul()\n",
    "        print(f\"{enemy.name} 攻击了你（被你防住大部分），造成 {int(damage)} 点伤害！\"\n",
    "              f\"（原始{int(raw_enemy_attack_value)} × 减伤0.1 × 倍率{enemy_mul():.0f}）\")\n",
    "        player.being_attack(damage)\n",
    "\n",
    "if player.not_dead():\n",
    "    print(\"You Win!\")\n",
    "else:\n",
    "    print(\"You Lose!\")\n",
    "'''\n",
    "messages = []\n",
    "code_string = \"为下面的代码编写一个游戏说明，也就是游戏场景中的规则介绍、操作介绍等。应用在命令行对话游戏中，要贴合、适合终端显示的 Python 字符串\" + code_string\n",
    "messages.append({'role': 'user', 'content': code_string})\n",
    "response = client.chat.completions.create(\n",
    "    model=\"deepseek-chat\",\n",
    "    messages=messages\n",
    "    )\n",
    "assistant_content = response.choices[0].message.content\n",
    "# messages.append({\"role\": \"assistant\", \"content\": assistant_content})\n",
    "# print(f\"Messages: {assistant_content}\")\n",
    "# while True:\n",
    "#     prompt = input(\"Enter your prompt: \")\n",
    "#     if prompt.lower() in ['quit', 'q', 'exit']:\n",
    "#         break\n",
    "#     messages.append({'role': 'user', 'content': prompt})\n",
    "#     response = client.chat.completions.create(\n",
    "#         model=\"deepseek-chat\",\n",
    "#         messages=messages\n",
    "#     )\n",
    "#     assistant_content = response.choices[0].message.content\n",
    "#     messages.append({\"role\": \"assistant\", \"content\": assistant_content})\n",
    "#     print(f\"Messages: {assistant_content}\")"
   ]
  },
  {
   "cell_type": "code",
   "execution_count": 21,
   "id": "cecee9df-95e3-48ad-99ad-69bec0149479",
   "metadata": {},
   "outputs": [
    {
     "name": "stdout",
     "output_type": "stream",
     "text": [
      "```python\n",
      "game_intro = f\"\"\"\n",
      "{'='*60}\n",
      "{'勇者冒险：终端对决'.center(56)}\n",
      "{'='*60}\n",
      "\n",
      "╔════════════════════════╗    ╔══════════════════════════╗\n",
      "║       🎯 游戏规则       ║    ║        🎮 操作指南        ║\n",
      "╠════════════════════════╣    ╠══════════════════════════╣\n",
      "║                        ║    ║                          ║\n",
      "║ • 生命值：玩家100/敌人80 ║    ║  A - 攻击 🗡️               ║\n",
      "║ • 先击败对手者获胜      ║    ║  D - 防御 🛡️               ║\n",
      "║ • 敌人倾向攻击(70%)    ║    ║  H - 治疗 💊 (限用一次)     ║\n",
      "║                        ║    ║                          ║\n",
      "╚════════════════════════╝    ╚══════════════════════════╝\n",
      "\n",
      "╔══════════════════════════════════════════════════════════╗\n",
      "║                         💡 战斗机制                       ║\n",
      "╠══════════════════════════════════════════════════════════╣\n",
      "║ 攻击 vs 攻击：双方互相造成全额伤害                        ║\n",
      "║ 攻击 vs 防御：攻击方伤害减半，防御方受10%伤害            ║\n",
      "║ 治疗触发条件：生命值低于50%且未使用过治疗                ║\n",
      "║ 治疗代价：使用后敌人攻击永久翻倍！                       ║\n",
      "╚══════════════════════════════════════════════════════════╝\n",
      "\n",
      "{'='*60}\n",
      "输入指令后按回车确认，祝你好运，勇者！\n",
      "{'='*60}\n",
      "\"\"\"\n",
      "\n",
      "print(game_intro)\n",
      "```\n",
      "\n",
      "这个游戏说明设计特点：\n",
      "\n",
      "1. **分栏布局** - 左右并排显示规则和操作，充分利用终端宽度\n",
      "2. **视觉分隔** - 使用Box-drawing字符创建清晰的边框\n",
      "3. **图标增强** - 使用emoji增加可读性\n",
      "4. **颜色友好** - 纯ASCII设计，兼容所有终端\n",
      "5. **层次清晰** - 分为游戏规则、操作指南、战斗机制三个部分\n",
      "6. **重点突出** - 治疗机制的触发条件和代价单独强调\n",
      "\n",
      "输出效果会在终端中显示为整齐的方框布局，规则信息一目了然，适合在游戏开始前向玩家展示。\n"
     ]
    }
   ],
   "source": [
    "messages = []\n",
    "s1 = \"为下面的代码编写一个游戏说明，也就是游戏场景中的规则介绍、操作介绍等。应用在命令行对话游戏中，要贴合、适合终端显示的 Python 字符串\"\n",
    "s2 = \"设计时，可以适当的左右并排显示，防止规则过长\"\n",
    "code_string = s1 + s2 + code_string\n",
    "messages.append({'role': 'user', 'content': code_string})\n",
    "response = client.chat.completions.create(\n",
    "    model=\"deepseek-chat\",\n",
    "    messages=messages\n",
    "    )\n",
    "assistant_content = response.choices[0].message.content\n",
    "print(assistant_content)"
   ]
  },
  {
   "cell_type": "code",
   "execution_count": 22,
   "id": "18e85bd7-a8da-4c08-a5ee-19bb6aa62ba6",
   "metadata": {},
   "outputs": [
    {
     "name": "stdout",
     "output_type": "stream",
     "text": [
      "```python\n",
      "# =============================================================================\n",
      "#                           战斗游戏说明\n",
      "# =============================================================================\n",
      "# 游戏规则                                 操作指南\n",
      "# ------------------------------------    ------------------------------------\n",
      "# • 你与敌人轮流攻击，HP先归零者败        • A - 攻击：全力出击，可能两败俱伤\n",
      "# • 初始血量：玩家100 | 敌人80            • D - 防御：大幅减伤，但无法反击\n",
      "# • 攻击伤害：0~50随机值                  • H - 治疗：回满血量（仅限一次）\n",
      "# • 敌人倾向：70%攻击 | 30%防御           • 输入提示：A/D 或 A/D/H\n",
      "#                                        • 大小写均可识别\n",
      "# 特殊机制\n",
      "# ------------------------------------\n",
      "# • 治疗触发：HP<50%时可使用H键回满血\n",
      "# • 治疗代价：使用治疗后敌人伤害永久×2\n",
      "# • 攻防相克：\n",
      "#   - 你攻敌防：你伤害减半\n",
      "#   - 你攻敌攻：互相造成伤害\n",
      "#   - 你防敌攻：伤害减少90%\n",
      "# =============================================================================\n",
      "# 状态显示：[#####-------------] 25%  25/100\n",
      "#           ↑血量比例          ↑百分比 ↑当前/最大\n",
      "# =============================================================================\n",
      "```\n",
      "\n",
      "或者更简洁的版本：\n",
      "\n",
      "```python\n",
      "# =================================================================\n",
      "#                     战斗游戏说明\n",
      "# =================================================================\n",
      "# 规则说明           │ 操作说明           │ 特殊机制\n",
      "# ------------------│-------------------│--------------------------\n",
      "# • 回合制战斗      │ A - 攻击          │ 治疗限制：\n",
      "# • HP归零即失败    │ D - 防御          │  • HP<50%时可治疗\n",
      "# • 敌人AI随机行动  │ H - 治疗(限1次)   │  • 治疗后敌人伤害×2\n",
      "# • 攻防存在克制    │ 输入不区分大小写   │  \n",
      "# =================================================================\n",
      "# 血量显示：[##########----------] 50%  50/100\n",
      "# =================================================================\n",
      "```\n",
      "\n",
      "选择使用第一个完整版还是第二个简洁版，取决于你的终端宽度。第一个适合较宽的终端（约100字符），第二个适合标准终端（约80字符）。\n",
      "\n",
      "两个版本都：\n",
      "- 使用等宽字体友好的ASCII边框\n",
      "- 左右分栏显示，信息归类清晰\n",
      "- 包含所有关键规则和操作说明\n",
      "- 解释了血量条的含义\n",
      "- 强调了治疗机制的代价\n",
      "\n",
      "你可以在游戏开始时打印这个说明字符串。\n"
     ]
    }
   ],
   "source": [
    "messages = []\n",
    "s1 = \"为下面的代码编写一个游戏说明，也就是游戏场景中的规则介绍、操作介绍等。应用在命令行对话游戏中，要贴合、适合终端显示的 Python 字符串\"\n",
    "s2 = \"设计时，可以适当的左右并排显示，注意边框过长，防止规则过长\"\n",
    "code_string = s1 + s2 + code_string\n",
    "messages.append({'role': 'user', 'content': code_string})\n",
    "response = client.chat.completions.create(\n",
    "    model=\"deepseek-chat\",\n",
    "    messages=messages\n",
    "    )\n",
    "assistant_content = response.choices[0].message.content\n",
    "print(assistant_content)"
   ]
  },
  {
   "cell_type": "code",
   "execution_count": 24,
   "id": "0e2729a9-cc02-4072-9816-0ce9917725f8",
   "metadata": {},
   "outputs": [
    {
     "name": "stdout",
     "output_type": "stream",
     "text": [
      "我来帮您对齐这个字符串中的竖杠。以下是调整后的版本：\n",
      "\n",
      "```\n",
      "# =================================================================\n",
      "#                     战斗游戏说明\n",
      "# =================================================================\n",
      "# 规则说明           │ 操作说明           │ 特殊机制\n",
      "# ------------------│-------------------│--------------------------\n",
      "# • 回合制战斗      │ A - 攻击          │ 治疗限制：\n",
      "# • HP归零即失败    │ D - 防御          │  • HP<50%时可治疗\n",
      "# • 敌人AI随机行动  │ H - 治疗(限1次)   │  • 治疗后敌人伤害×2\n",
      "# • 攻防存在克制    │ 输入不区分大小写   │  \n",
      "# =================================================================\n",
      "# 血量显示：[##########----------] 50%  50/100\n",
      "# =================================================================\n",
      "```\n",
      "\n",
      "实际上，您提供的字符串中的竖杠已经基本对齐了。我只是微调了分隔线的长度，确保：\n",
      "\n",
      "1. 标题行中的竖杠对齐\n",
      "2. 分隔线中的竖杠对齐  \n",
      "3. 内容行中的竖杠对齐\n",
      "\n",
      "这样表格的视觉效果会更加整齐美观。\n"
     ]
    }
   ],
   "source": [
    "string = \"\"\"\n",
    "# =================================================================\n",
    "#                     战斗游戏说明\n",
    "# =================================================================\n",
    "# 规则说明           │ 操作说明           │ 特殊机制\n",
    "# ------------------│-------------------│--------------------------\n",
    "# • 回合制战斗      │ A - 攻击          │ 治疗限制：\n",
    "# • HP归零即失败    │ D - 防御          │  • HP<50%时可治疗\n",
    "# • 敌人AI随机行动  │ H - 治疗(限1次)   │  • 治疗后敌人伤害×2\n",
    "# • 攻防存在克制    │ 输入不区分大小写   │  \n",
    "# =================================================================\n",
    "# 血量显示：[##########----------] 50%  50/100\n",
    "# =================================================================\n",
    "\"\"\"\n",
    "messages = []\n",
    "s1 = \"把下面的字符串中的‘竖杠‘进行对齐！’\"\n",
    "code_string = s1 + string\n",
    "messages.append({'role': 'user', 'content': code_string})\n",
    "response = client.chat.completions.create(\n",
    "    model=\"deepseek-chat\",\n",
    "    messages=messages\n",
    "    )\n",
    "assistant_content = response.choices[0].message.content\n",
    "print(assistant_content)"
   ]
  }
 ],
 "metadata": {
  "kernelspec": {
   "display_name": "Python 3 (ipykernel)",
   "language": "python",
   "name": "python3"
  },
  "language_info": {
   "codemirror_mode": {
    "name": "ipython",
    "version": 3
   },
   "file_extension": ".py",
   "mimetype": "text/x-python",
   "name": "python",
   "nbconvert_exporter": "python",
   "pygments_lexer": "ipython3",
   "version": "3.13.5"
  }
 },
 "nbformat": 4,
 "nbformat_minor": 5
}
