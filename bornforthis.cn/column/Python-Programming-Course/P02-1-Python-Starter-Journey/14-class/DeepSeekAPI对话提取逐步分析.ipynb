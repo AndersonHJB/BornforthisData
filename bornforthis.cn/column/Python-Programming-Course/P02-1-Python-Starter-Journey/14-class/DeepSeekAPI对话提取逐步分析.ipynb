{
 "cells": [
  {
   "cell_type": "code",
   "execution_count": 19,
   "id": "da289c3c-a8c4-4b7f-b0c5-a65e2fda7612",
   "metadata": {
    "scrolled": true
   },
   "outputs": [
    {
     "name": "stdout",
     "output_type": "stream",
     "text": [
      "Looking in indexes: https://mirrors.aliyun.com/pypi/simple/\n",
      "Requirement already satisfied: openai in /Users/huangjiabao/GitHub/iMac/Pycharm/.venv/lib/python3.9/site-packages (1.109.1)\n",
      "Requirement already satisfied: anyio<5,>=3.5.0 in /Users/huangjiabao/GitHub/iMac/Pycharm/.venv/lib/python3.9/site-packages (from openai) (4.9.0)\n",
      "Requirement already satisfied: distro<2,>=1.7.0 in /Users/huangjiabao/GitHub/iMac/Pycharm/.venv/lib/python3.9/site-packages (from openai) (1.9.0)\n",
      "Requirement already satisfied: httpx<1,>=0.23.0 in /Users/huangjiabao/GitHub/iMac/Pycharm/.venv/lib/python3.9/site-packages (from openai) (0.28.1)\n",
      "Requirement already satisfied: jiter<1,>=0.4.0 in /Users/huangjiabao/GitHub/iMac/Pycharm/.venv/lib/python3.9/site-packages (from openai) (0.9.0)\n",
      "Requirement already satisfied: pydantic<3,>=1.9.0 in /Users/huangjiabao/GitHub/iMac/Pycharm/.venv/lib/python3.9/site-packages (from openai) (2.11.4)\n",
      "Requirement already satisfied: sniffio in /Users/huangjiabao/GitHub/iMac/Pycharm/.venv/lib/python3.9/site-packages (from openai) (1.3.1)\n",
      "Requirement already satisfied: tqdm>4 in /Users/huangjiabao/GitHub/iMac/Pycharm/.venv/lib/python3.9/site-packages (from openai) (4.67.1)\n",
      "Requirement already satisfied: typing-extensions<5,>=4.11 in /Users/huangjiabao/GitHub/iMac/Pycharm/.venv/lib/python3.9/site-packages (from openai) (4.13.2)\n",
      "Requirement already satisfied: exceptiongroup>=1.0.2 in /Users/huangjiabao/GitHub/iMac/Pycharm/.venv/lib/python3.9/site-packages (from anyio<5,>=3.5.0->openai) (1.3.0)\n",
      "Requirement already satisfied: idna>=2.8 in /Users/huangjiabao/GitHub/iMac/Pycharm/.venv/lib/python3.9/site-packages (from anyio<5,>=3.5.0->openai) (3.10)\n",
      "Requirement already satisfied: certifi in /Users/huangjiabao/GitHub/iMac/Pycharm/.venv/lib/python3.9/site-packages (from httpx<1,>=0.23.0->openai) (2025.4.26)\n",
      "Requirement already satisfied: httpcore==1.* in /Users/huangjiabao/GitHub/iMac/Pycharm/.venv/lib/python3.9/site-packages (from httpx<1,>=0.23.0->openai) (1.0.9)\n",
      "Requirement already satisfied: h11>=0.16 in /Users/huangjiabao/GitHub/iMac/Pycharm/.venv/lib/python3.9/site-packages (from httpcore==1.*->httpx<1,>=0.23.0->openai) (0.16.0)\n",
      "Requirement already satisfied: annotated-types>=0.6.0 in /Users/huangjiabao/GitHub/iMac/Pycharm/.venv/lib/python3.9/site-packages (from pydantic<3,>=1.9.0->openai) (0.7.0)\n",
      "Requirement already satisfied: pydantic-core==2.33.2 in /Users/huangjiabao/GitHub/iMac/Pycharm/.venv/lib/python3.9/site-packages (from pydantic<3,>=1.9.0->openai) (2.33.2)\n",
      "Requirement already satisfied: typing-inspection>=0.4.0 in /Users/huangjiabao/GitHub/iMac/Pycharm/.venv/lib/python3.9/site-packages (from pydantic<3,>=1.9.0->openai) (0.4.0)\n"
     ]
    }
   ],
   "source": [
    "!pip install openai"
   ]
  },
  {
   "cell_type": "code",
   "execution_count": 20,
   "id": "e2a668f7-592a-47da-8162-c3cb967c1f9c",
   "metadata": {},
   "outputs": [],
   "source": [
    "from openai import OpenAI\n",
    "\n",
    "client = OpenAI(api_key=\"sk-cd6890b8ac624127af85f7094d7c534d\", base_url=\"https://api.deepseek.com\")"
   ]
  },
  {
   "cell_type": "code",
   "execution_count": 21,
   "id": "5d9f236e-88aa-453b-8441-5743eca7afa5",
   "metadata": {},
   "outputs": [],
   "source": [
    "# Round 1\n",
    "messages = [{\"role\": \"user\", \"content\": \"9.11 和 9.8，哪个更大？\"}]\n",
    "response = client.chat.completions.create(\n",
    "    model=\"deepseek-reasoner\",\n",
    "    messages=messages\n",
    ")"
   ]
  },
  {
   "cell_type": "code",
   "execution_count": 22,
   "id": "cea143eb-5628-4673-9331-df8477b92c93",
   "metadata": {},
   "outputs": [
    {
     "data": {
      "text/plain": [
       "ChatCompletion(id='336b2383-9fea-40dd-84e9-2add29e957cd', choices=[Choice(finish_reason='stop', index=0, logprobs=None, message=ChatCompletionMessage(content='9.8 和 9.11 都是小数，比较它们的大小时，需要看小数点后的位数。\\n\\n- 9.8 可以看作 9.80（因为 9.8 = 9.80）。\\n- 比较 9.80 和 9.11：小数点后第一位，9.80 是 8，9.11 是 1，8 > 1，所以 9.80 > 9.11。\\n\\n因此，**9.8 更大**。\\n\\n另一种方法：将小数转换为分数比较：\\n- 9.11 = 911/100\\n- 9.8 = 98/10 = 980/100\\n- 980/100 > 911/100，所以 9.8 > 9.11。\\n\\n总之，**9.8 大于 9.11**。', refusal=None, role='assistant', annotations=None, audio=None, function_call=None, tool_calls=None, reasoning_content='首先，用户的问题是：“9.11 和 9.8，哪个更大？”这看起来像是在比较两个数字：9.11 和 9.8。我需要确定哪个数字更大。\\n\\n9.11 和 9.8 都是小数。9.11 表示 9 又 11 百分之一，而 9.8 表示 9 又 8 十分之一。为了比较它们，我应该将它们转换为相同的单位。\\n\\n9.8 可以写成 9.80，这样我就可以直接比较 9.11 和 9.80。现在，比较小数点后的部分：11 和 80。显然，80 大于 11，所以 9.80 大于 9.11。因此，9.8 大于 9.11。\\n\\n我也可以将这两个数字视为分数：9.11 = 911/100，而 9.8 = 98/10 = 980/100。现在比较 911/100 和 980/100，显然 980/100 更大。\\n\\n所以，无论哪种方法，9.8 都大于 9.11。\\n\\n用户可能是在测试我是否会被 9.11 中的 “11” 迷惑，因为 11 大于 8，但在小数中，第一位是十分位，第二位是百分位。9.8 的十分位是 8，而 9.11 的十分位是 1，所以 9.8 更大。\\n\\n因此，我的回答应该是 9.8 更大。'))], created=1759992963, model='deepseek-reasoner', object='chat.completion', service_tier=None, system_fingerprint='fp_ffc7281d48_prod0820_fp8_kvcache', usage=CompletionUsage(completion_tokens=504, prompt_tokens=17, total_tokens=521, completion_tokens_details=CompletionTokensDetails(accepted_prediction_tokens=None, audio_tokens=None, reasoning_tokens=323, rejected_prediction_tokens=None), prompt_tokens_details=PromptTokensDetails(audio_tokens=None, cached_tokens=0), prompt_cache_hit_tokens=0, prompt_cache_miss_tokens=17))"
      ]
     },
     "execution_count": 22,
     "metadata": {},
     "output_type": "execute_result"
    }
   ],
   "source": [
    "response"
   ]
  },
  {
   "cell_type": "markdown",
   "id": "5f7d356c-0c93-4e97-be91-6ab4bbefd2c5",
   "metadata": {},
   "source": [
    "## 方法一：直接使用强制转换方法"
   ]
  },
  {
   "cell_type": "code",
   "execution_count": 23,
   "id": "39c83ccf-d0eb-4f46-8399-c0485caca77b",
   "metadata": {},
   "outputs": [
    {
     "name": "stdout",
     "output_type": "stream",
     "text": [
      "[Choice(finish_reason='stop', index=0, logprobs=None, message=ChatCompletionMessage(content='9.8 和 9.11 都是小数，比较它们的大小时，需要看小数点后的位数。\\n\\n- 9.8 可以看作 9.80（因为 9.8 = 9.80）。\\n- 比较 9.80 和 9.11：小数点后第一位，9.80 是 8，9.11 是 1，8 > 1，所以 9.80 > 9.11。\\n\\n因此，**9.8 更大**。\\n\\n另一种方法：将小数转换为分数比较：\\n- 9.11 = 911/100\\n- 9.8 = 98/10 = 980/100\\n- 980/100 > 911/100，所以 9.8 > 9.11。\\n\\n总之，**9.8 大于 9.11**。', refusal=None, role='assistant', annotations=None, audio=None, function_call=None, tool_calls=None, reasoning_content='首先，用户的问题是：“9.11 和 9.8，哪个更大？”这看起来像是在比较两个数字：9.11 和 9.8。我需要确定哪个数字更大。\\n\\n9.11 和 9.8 都是小数。9.11 表示 9 又 11 百分之一，而 9.8 表示 9 又 8 十分之一。为了比较它们，我应该将它们转换为相同的单位。\\n\\n9.8 可以写成 9.80，这样我就可以直接比较 9.11 和 9.80。现在，比较小数点后的部分：11 和 80。显然，80 大于 11，所以 9.80 大于 9.11。因此，9.8 大于 9.11。\\n\\n我也可以将这两个数字视为分数：9.11 = 911/100，而 9.8 = 98/10 = 980/100。现在比较 911/100 和 980/100，显然 980/100 更大。\\n\\n所以，无论哪种方法，9.8 都大于 9.11。\\n\\n用户可能是在测试我是否会被 9.11 中的 “11” 迷惑，因为 11 大于 8，但在小数中，第一位是十分位，第二位是百分位。9.8 的十分位是 8，而 9.11 的十分位是 1，所以 9.8 更大。\\n\\n因此，我的回答应该是 9.8 更大。'))]\n"
     ]
    }
   ],
   "source": [
    "response_to_list = list(response)\n",
    "response_to_list\n",
    "select1 = response_to_list[1][1]\n",
    "print(select1)"
   ]
  },
  {
   "cell_type": "code",
   "execution_count": 24,
   "id": "5f253b64-86bf-4677-b4d7-018fc5951f1d",
   "metadata": {},
   "outputs": [
    {
     "name": "stdout",
     "output_type": "stream",
     "text": [
      "content: 9.8 和 9.11 都是小数，比较它们的大小时，需要看小数点后的位数。\n",
      "\n",
      "- 9.8 可以看作 9.80（因为 9.8 = 9.80）。\n",
      "- 比较 9.80 和 9.11：小数点后第一位，9.80 是 8，9.11 是 1，8 > 1，所以 9.80 > 9.11。\n",
      "\n",
      "因此，**9.8 更大**。\n",
      "\n",
      "另一种方法：将小数转换为分数比较：\n",
      "- 9.11 = 911/100\n",
      "- 9.8 = 98/10 = 980/100\n",
      "- 980/100 > 911/100，所以 9.8 > 9.11。\n",
      "\n",
      "总之，**9.8 大于 9.11**。\n",
      "-*--*--*--*--*--*--*--*--*--*--*--*--*--*--*--*--*--*--*--*--*--*--*--*--*--*--*--*--*--*--*--*--*--*--*--*--*--*--*--*--*--*--*--*--*--*--*--*--*--*-\n",
      "reasoning_content: 首先，用户的问题是：“9.11 和 9.8，哪个更大？”这看起来像是在比较两个数字：9.11 和 9.8。我需要确定哪个数字更大。\n",
      "\n",
      "9.11 和 9.8 都是小数。9.11 表示 9 又 11 百分之一，而 9.8 表示 9 又 8 十分之一。为了比较它们，我应该将它们转换为相同的单位。\n",
      "\n",
      "9.8 可以写成 9.80，这样我就可以直接比较 9.11 和 9.80。现在，比较小数点后的部分：11 和 80。显然，80 大于 11，所以 9.80 大于 9.11。因此，9.8 大于 9.11。\n",
      "\n",
      "我也可以将这两个数字视为分数：9.11 = 911/100，而 9.8 = 98/10 = 980/100。现在比较 911/100 和 980/100，显然 980/100 更大。\n",
      "\n",
      "所以，无论哪种方法，9.8 都大于 9.11。\n",
      "\n",
      "用户可能是在测试我是否会被 9.11 中的 “11” 迷惑，因为 11 大于 8，但在小数中，第一位是十分位，第二位是百分位。9.8 的十分位是 8，而 9.11 的十分位是 1，所以 9.8 更大。\n",
      "\n",
      "因此，我的回答应该是 9.8 更大。\n"
     ]
    }
   ],
   "source": [
    "msg = select1[0].message\n",
    "content = msg.content\n",
    "print(f\"content: {content}\")\n",
    "print(\"-*-\" * 50)\n",
    "reasoning_content = msg.reasoning_content\n",
    "print(f\"reasoning_content: {reasoning_content}\")"
   ]
  },
  {
   "cell_type": "markdown",
   "id": "5a1ea927-9273-414a-b377-b22320ba921d",
   "metadata": {},
   "source": [
    "## 方法二：点「.」提取方法"
   ]
  },
  {
   "cell_type": "code",
   "execution_count": 25,
   "id": "6844982a-8fe5-4c65-9324-0baf202e5bfd",
   "metadata": {},
   "outputs": [
    {
     "data": {
      "text/plain": [
       "ChatCompletion(id='336b2383-9fea-40dd-84e9-2add29e957cd', choices=[Choice(finish_reason='stop', index=0, logprobs=None, message=ChatCompletionMessage(content='9.8 和 9.11 都是小数，比较它们的大小时，需要看小数点后的位数。\\n\\n- 9.8 可以看作 9.80（因为 9.8 = 9.80）。\\n- 比较 9.80 和 9.11：小数点后第一位，9.80 是 8，9.11 是 1，8 > 1，所以 9.80 > 9.11。\\n\\n因此，**9.8 更大**。\\n\\n另一种方法：将小数转换为分数比较：\\n- 9.11 = 911/100\\n- 9.8 = 98/10 = 980/100\\n- 980/100 > 911/100，所以 9.8 > 9.11。\\n\\n总之，**9.8 大于 9.11**。', refusal=None, role='assistant', annotations=None, audio=None, function_call=None, tool_calls=None, reasoning_content='首先，用户的问题是：“9.11 和 9.8，哪个更大？”这看起来像是在比较两个数字：9.11 和 9.8。我需要确定哪个数字更大。\\n\\n9.11 和 9.8 都是小数。9.11 表示 9 又 11 百分之一，而 9.8 表示 9 又 8 十分之一。为了比较它们，我应该将它们转换为相同的单位。\\n\\n9.8 可以写成 9.80，这样我就可以直接比较 9.11 和 9.80。现在，比较小数点后的部分：11 和 80。显然，80 大于 11，所以 9.80 大于 9.11。因此，9.8 大于 9.11。\\n\\n我也可以将这两个数字视为分数：9.11 = 911/100，而 9.8 = 98/10 = 980/100。现在比较 911/100 和 980/100，显然 980/100 更大。\\n\\n所以，无论哪种方法，9.8 都大于 9.11。\\n\\n用户可能是在测试我是否会被 9.11 中的 “11” 迷惑，因为 11 大于 8，但在小数中，第一位是十分位，第二位是百分位。9.8 的十分位是 8，而 9.11 的十分位是 1，所以 9.8 更大。\\n\\n因此，我的回答应该是 9.8 更大。'))], created=1759992963, model='deepseek-reasoner', object='chat.completion', service_tier=None, system_fingerprint='fp_ffc7281d48_prod0820_fp8_kvcache', usage=CompletionUsage(completion_tokens=504, prompt_tokens=17, total_tokens=521, completion_tokens_details=CompletionTokensDetails(accepted_prediction_tokens=None, audio_tokens=None, reasoning_tokens=323, rejected_prediction_tokens=None), prompt_tokens_details=PromptTokensDetails(audio_tokens=None, cached_tokens=0), prompt_cache_hit_tokens=0, prompt_cache_miss_tokens=17))"
      ]
     },
     "execution_count": 25,
     "metadata": {},
     "output_type": "execute_result"
    }
   ],
   "source": [
    "response"
   ]
  },
  {
   "cell_type": "code",
   "execution_count": 26,
   "id": "f13fde2e-142c-49a8-a230-862c2ec57e12",
   "metadata": {},
   "outputs": [
    {
     "data": {
      "text/plain": [
       "[Choice(finish_reason='stop', index=0, logprobs=None, message=ChatCompletionMessage(content='9.8 和 9.11 都是小数，比较它们的大小时，需要看小数点后的位数。\\n\\n- 9.8 可以看作 9.80（因为 9.8 = 9.80）。\\n- 比较 9.80 和 9.11：小数点后第一位，9.80 是 8，9.11 是 1，8 > 1，所以 9.80 > 9.11。\\n\\n因此，**9.8 更大**。\\n\\n另一种方法：将小数转换为分数比较：\\n- 9.11 = 911/100\\n- 9.8 = 98/10 = 980/100\\n- 980/100 > 911/100，所以 9.8 > 9.11。\\n\\n总之，**9.8 大于 9.11**。', refusal=None, role='assistant', annotations=None, audio=None, function_call=None, tool_calls=None, reasoning_content='首先，用户的问题是：“9.11 和 9.8，哪个更大？”这看起来像是在比较两个数字：9.11 和 9.8。我需要确定哪个数字更大。\\n\\n9.11 和 9.8 都是小数。9.11 表示 9 又 11 百分之一，而 9.8 表示 9 又 8 十分之一。为了比较它们，我应该将它们转换为相同的单位。\\n\\n9.8 可以写成 9.80，这样我就可以直接比较 9.11 和 9.80。现在，比较小数点后的部分：11 和 80。显然，80 大于 11，所以 9.80 大于 9.11。因此，9.8 大于 9.11。\\n\\n我也可以将这两个数字视为分数：9.11 = 911/100，而 9.8 = 98/10 = 980/100。现在比较 911/100 和 980/100，显然 980/100 更大。\\n\\n所以，无论哪种方法，9.8 都大于 9.11。\\n\\n用户可能是在测试我是否会被 9.11 中的 “11” 迷惑，因为 11 大于 8，但在小数中，第一位是十分位，第二位是百分位。9.8 的十分位是 8，而 9.11 的十分位是 1，所以 9.8 更大。\\n\\n因此，我的回答应该是 9.8 更大。'))]"
      ]
     },
     "execution_count": 26,
     "metadata": {},
     "output_type": "execute_result"
    }
   ],
   "source": [
    "response.choices"
   ]
  },
  {
   "cell_type": "code",
   "execution_count": 27,
   "id": "3365ee65-0ee7-4423-91fe-ae42c486faf9",
   "metadata": {},
   "outputs": [
    {
     "data": {
      "text/plain": [
       "Choice(finish_reason='stop', index=0, logprobs=None, message=ChatCompletionMessage(content='9.8 和 9.11 都是小数，比较它们的大小时，需要看小数点后的位数。\\n\\n- 9.8 可以看作 9.80（因为 9.8 = 9.80）。\\n- 比较 9.80 和 9.11：小数点后第一位，9.80 是 8，9.11 是 1，8 > 1，所以 9.80 > 9.11。\\n\\n因此，**9.8 更大**。\\n\\n另一种方法：将小数转换为分数比较：\\n- 9.11 = 911/100\\n- 9.8 = 98/10 = 980/100\\n- 980/100 > 911/100，所以 9.8 > 9.11。\\n\\n总之，**9.8 大于 9.11**。', refusal=None, role='assistant', annotations=None, audio=None, function_call=None, tool_calls=None, reasoning_content='首先，用户的问题是：“9.11 和 9.8，哪个更大？”这看起来像是在比较两个数字：9.11 和 9.8。我需要确定哪个数字更大。\\n\\n9.11 和 9.8 都是小数。9.11 表示 9 又 11 百分之一，而 9.8 表示 9 又 8 十分之一。为了比较它们，我应该将它们转换为相同的单位。\\n\\n9.8 可以写成 9.80，这样我就可以直接比较 9.11 和 9.80。现在，比较小数点后的部分：11 和 80。显然，80 大于 11，所以 9.80 大于 9.11。因此，9.8 大于 9.11。\\n\\n我也可以将这两个数字视为分数：9.11 = 911/100，而 9.8 = 98/10 = 980/100。现在比较 911/100 和 980/100，显然 980/100 更大。\\n\\n所以，无论哪种方法，9.8 都大于 9.11。\\n\\n用户可能是在测试我是否会被 9.11 中的 “11” 迷惑，因为 11 大于 8，但在小数中，第一位是十分位，第二位是百分位。9.8 的十分位是 8，而 9.11 的十分位是 1，所以 9.8 更大。\\n\\n因此，我的回答应该是 9.8 更大。'))"
      ]
     },
     "execution_count": 27,
     "metadata": {},
     "output_type": "execute_result"
    }
   ],
   "source": [
    "response.choices[0]"
   ]
  },
  {
   "cell_type": "code",
   "execution_count": 28,
   "id": "83162376-990e-4b52-a545-1ccde46cd3f8",
   "metadata": {},
   "outputs": [
    {
     "data": {
      "text/plain": [
       "ChatCompletionMessage(content='9.8 和 9.11 都是小数，比较它们的大小时，需要看小数点后的位数。\\n\\n- 9.8 可以看作 9.80（因为 9.8 = 9.80）。\\n- 比较 9.80 和 9.11：小数点后第一位，9.80 是 8，9.11 是 1，8 > 1，所以 9.80 > 9.11。\\n\\n因此，**9.8 更大**。\\n\\n另一种方法：将小数转换为分数比较：\\n- 9.11 = 911/100\\n- 9.8 = 98/10 = 980/100\\n- 980/100 > 911/100，所以 9.8 > 9.11。\\n\\n总之，**9.8 大于 9.11**。', refusal=None, role='assistant', annotations=None, audio=None, function_call=None, tool_calls=None, reasoning_content='首先，用户的问题是：“9.11 和 9.8，哪个更大？”这看起来像是在比较两个数字：9.11 和 9.8。我需要确定哪个数字更大。\\n\\n9.11 和 9.8 都是小数。9.11 表示 9 又 11 百分之一，而 9.8 表示 9 又 8 十分之一。为了比较它们，我应该将它们转换为相同的单位。\\n\\n9.8 可以写成 9.80，这样我就可以直接比较 9.11 和 9.80。现在，比较小数点后的部分：11 和 80。显然，80 大于 11，所以 9.80 大于 9.11。因此，9.8 大于 9.11。\\n\\n我也可以将这两个数字视为分数：9.11 = 911/100，而 9.8 = 98/10 = 980/100。现在比较 911/100 和 980/100，显然 980/100 更大。\\n\\n所以，无论哪种方法，9.8 都大于 9.11。\\n\\n用户可能是在测试我是否会被 9.11 中的 “11” 迷惑，因为 11 大于 8，但在小数中，第一位是十分位，第二位是百分位。9.8 的十分位是 8，而 9.11 的十分位是 1，所以 9.8 更大。\\n\\n因此，我的回答应该是 9.8 更大。')"
      ]
     },
     "execution_count": 28,
     "metadata": {},
     "output_type": "execute_result"
    }
   ],
   "source": [
    "response.choices[0].message"
   ]
  },
  {
   "cell_type": "code",
   "execution_count": 29,
   "id": "557ab410-6006-4a28-9358-3469cba35e81",
   "metadata": {},
   "outputs": [
    {
     "name": "stdout",
     "output_type": "stream",
     "text": [
      "content: 9.8 和 9.11 都是小数，比较它们的大小时，需要看小数点后的位数。\n",
      "\n",
      "- 9.8 可以看作 9.80（因为 9.8 = 9.80）。\n",
      "- 比较 9.80 和 9.11：小数点后第一位，9.80 是 8，9.11 是 1，8 > 1，所以 9.80 > 9.11。\n",
      "\n",
      "因此，**9.8 更大**。\n",
      "\n",
      "另一种方法：将小数转换为分数比较：\n",
      "- 9.11 = 911/100\n",
      "- 9.8 = 98/10 = 980/100\n",
      "- 980/100 > 911/100，所以 9.8 > 9.11。\n",
      "\n",
      "总之，**9.8 大于 9.11**。\n",
      "-*--*--*--*--*--*--*--*--*--*-\n",
      "reasoning_content: 首先，用户的问题是：“9.11 和 9.8，哪个更大？”这看起来像是在比较两个数字：9.11 和 9.8。我需要确定哪个数字更大。\n",
      "\n",
      "9.11 和 9.8 都是小数。9.11 表示 9 又 11 百分之一，而 9.8 表示 9 又 8 十分之一。为了比较它们，我应该将它们转换为相同的单位。\n",
      "\n",
      "9.8 可以写成 9.80，这样我就可以直接比较 9.11 和 9.80。现在，比较小数点后的部分：11 和 80。显然，80 大于 11，所以 9.80 大于 9.11。因此，9.8 大于 9.11。\n",
      "\n",
      "我也可以将这两个数字视为分数：9.11 = 911/100，而 9.8 = 98/10 = 980/100。现在比较 911/100 和 980/100，显然 980/100 更大。\n",
      "\n",
      "所以，无论哪种方法，9.8 都大于 9.11。\n",
      "\n",
      "用户可能是在测试我是否会被 9.11 中的 “11” 迷惑，因为 11 大于 8，但在小数中，第一位是十分位，第二位是百分位。9.8 的十分位是 8，而 9.11 的十分位是 1，所以 9.8 更大。\n",
      "\n",
      "因此，我的回答应该是 9.8 更大。\n"
     ]
    }
   ],
   "source": [
    "msg = response.choices[0].message\n",
    "content = msg.content\n",
    "print(f\"content: {content}\")\n",
    "print(\"-*-\" * 10)\n",
    "\n",
    "reasoning_content = msg.reasoning_content\n",
    "print(f\"reasoning_content: {reasoning_content}\")"
   ]
  },
  {
   "cell_type": "code",
   "execution_count": 38,
   "id": "7e3bcab4-4190-4ac2-9b16-b5cf710a6c6a",
   "metadata": {},
   "outputs": [
    {
     "name": "stdout",
     "output_type": "stream",
     "text": [
      "[{'role': 'user', 'content': '9.11 和 9.8，哪个更大？'}, {'role': 'assistant', 'content': '9.8 和 9.11 都是小数，比较它们的大小时，需要看小数点后的位数。\\n\\n- 9.8 可以看作 9.80（因为 9.8 = 9.80）。\\n- 比较 9.80 和 9.11：小数点后第一位，9.80 是 8，9.11 是 1，8 > 1，所以 9.80 > 9.11。\\n\\n因此，**9.8 更大**。\\n\\n另一种方法：将小数转换为分数比较：\\n- 9.11 = 911/100\\n- 9.8 = 98/10 = 980/100\\n- 980/100 > 911/100，所以 9.8 > 9.11。\\n\\n总之，**9.8 大于 9.11**。'}, {'role': 'user', 'content': \"How many Rs are there in the word 'strawberry'?\"}, {'role': 'assistant', 'content': '9.8 和 9.11 都是小数，比较它们的大小时，需要看小数点后的位数。\\n\\n- 9.8 可以看作 9.80（因为 9.8 = 9.80）。\\n- 比较 9.80 和 9.11：小数点后第一位，9.80 是 8，9.11 是 1，8 > 1，所以 9.80 > 9.11。\\n\\n因此，**9.8 更大**。\\n\\n另一种方法：将小数转换为分数比较：\\n- 9.11 = 911/100\\n- 9.8 = 98/10 = 980/100\\n- 980/100 > 911/100，所以 9.8 > 9.11。\\n\\n总之，**9.8 大于 9.11**。'}, {'role': 'user', 'content': '我上一个问题是什么？原问题回答我！'}, {'role': 'assistant', 'content': '9.8 和 9.11 都是小数，比较它们的大小时，需要看小数点后的位数。\\n\\n- 9.8 可以看作 9.80（因为 9.8 = 9.80）。\\n- 比较 9.80 和 9.11：小数点后第一位，9.80 是 8，9.11 是 1，8 > 1，所以 9.80 > 9.11。\\n\\n因此，**9.8 更大**。\\n\\n另一种方法：将小数转换为分数比较：\\n- 9.11 = 911/100\\n- 9.8 = 98/10 = 980/100\\n- 980/100 > 911/100，所以 9.8 > 9.11。\\n\\n总之，**9.8 大于 9.11**。'}, {'role': 'user', 'content': '我的第一个问题是什么？原问题回答我！'}]\n"
     ]
    }
   ],
   "source": [
    "# Round 2\n",
    "messages.append({'role': 'assistant', 'content': content})  # 把大模型的回答，添加到 messages\n",
    "# messages.append({'role': 'user', 'content': \"How many Rs are there in the word 'strawberry'?\"})\n",
    "# messages.append({'role': 'user', 'content': \"我上一个问题是什么？原问题回答我！\"})\n",
    "messages.append({'role': 'user', 'content': \"我的第一个问题是什么？原问题回答我！\"})\n",
    "response = client.chat.completions.create(\n",
    "    model=\"deepseek-reasoner\",\n",
    "    messages=messages\n",
    ")\n",
    "print(messages)"
   ]
  },
  {
   "cell_type": "code",
   "execution_count": 39,
   "id": "d1c6ae6e-35d1-45e2-bb21-f1795b1cd39e",
   "metadata": {},
   "outputs": [
    {
     "name": "stdout",
     "output_type": "stream",
     "text": [
      "[{'content': '9.11 和 9.8，哪个更大？', 'role': 'user'},\n",
      " {'content': '9.8 和 9.11 都是小数，比较它们的大小时，需要看小数点后的位数。\\n'\n",
      "             '\\n'\n",
      "             '- 9.8 可以看作 9.80（因为 9.8 = 9.80）。\\n'\n",
      "             '- 比较 9.80 和 9.11：小数点后第一位，9.80 是 8，9.11 是 1，8 > 1，所以 9.80 > '\n",
      "             '9.11。\\n'\n",
      "             '\\n'\n",
      "             '因此，**9.8 更大**。\\n'\n",
      "             '\\n'\n",
      "             '另一种方法：将小数转换为分数比较：\\n'\n",
      "             '- 9.11 = 911/100\\n'\n",
      "             '- 9.8 = 98/10 = 980/100\\n'\n",
      "             '- 980/100 > 911/100，所以 9.8 > 9.11。\\n'\n",
      "             '\\n'\n",
      "             '总之，**9.8 大于 9.11**。',\n",
      "  'role': 'assistant'},\n",
      " {'content': \"How many Rs are there in the word 'strawberry'?\", 'role': 'user'},\n",
      " {'content': '9.8 和 9.11 都是小数，比较它们的大小时，需要看小数点后的位数。\\n'\n",
      "             '\\n'\n",
      "             '- 9.8 可以看作 9.80（因为 9.8 = 9.80）。\\n'\n",
      "             '- 比较 9.80 和 9.11：小数点后第一位，9.80 是 8，9.11 是 1，8 > 1，所以 9.80 > '\n",
      "             '9.11。\\n'\n",
      "             '\\n'\n",
      "             '因此，**9.8 更大**。\\n'\n",
      "             '\\n'\n",
      "             '另一种方法：将小数转换为分数比较：\\n'\n",
      "             '- 9.11 = 911/100\\n'\n",
      "             '- 9.8 = 98/10 = 980/100\\n'\n",
      "             '- 980/100 > 911/100，所以 9.8 > 9.11。\\n'\n",
      "             '\\n'\n",
      "             '总之，**9.8 大于 9.11**。',\n",
      "  'role': 'assistant'},\n",
      " {'content': '我上一个问题是什么？原问题回答我！', 'role': 'user'},\n",
      " {'content': '9.8 和 9.11 都是小数，比较它们的大小时，需要看小数点后的位数。\\n'\n",
      "             '\\n'\n",
      "             '- 9.8 可以看作 9.80（因为 9.8 = 9.80）。\\n'\n",
      "             '- 比较 9.80 和 9.11：小数点后第一位，9.80 是 8，9.11 是 1，8 > 1，所以 9.80 > '\n",
      "             '9.11。\\n'\n",
      "             '\\n'\n",
      "             '因此，**9.8 更大**。\\n'\n",
      "             '\\n'\n",
      "             '另一种方法：将小数转换为分数比较：\\n'\n",
      "             '- 9.11 = 911/100\\n'\n",
      "             '- 9.8 = 98/10 = 980/100\\n'\n",
      "             '- 980/100 > 911/100，所以 9.8 > 9.11。\\n'\n",
      "             '\\n'\n",
      "             '总之，**9.8 大于 9.11**。',\n",
      "  'role': 'assistant'},\n",
      " {'content': '我的第一个问题是什么？原问题回答我！', 'role': 'user'}]\n"
     ]
    }
   ],
   "source": [
    "from pprint import pprint\n",
    "\n",
    "pprint(messages)"
   ]
  },
  {
   "cell_type": "code",
   "execution_count": 40,
   "id": "fc89729c-edbc-4651-8577-1eb355ff2366",
   "metadata": {},
   "outputs": [
    {
     "data": {
      "text/plain": [
       "ChatCompletion(id='595ba864-9b75-4a92-9259-ceeefec8f38c', choices=[Choice(finish_reason='stop', index=0, logprobs=None, message=ChatCompletionMessage(content='您的第一个问题是：\\n\\n**\"How many Rs are there in the word \\'strawberry\\'?\"** (单词 \\'strawberry\\' 中有几个字母 R？)\\n\\n**答案是：3个。**\\n\\n单词 \"strawberry\" 的拼写是：S-T-R-A-W-B-E-R-R-Y。\\n字母 R 出现在第3、第8和第9个位置。', refusal=None, role='assistant', annotations=None, audio=None, function_call=None, tool_calls=None, reasoning_content=\"嗯，用户这次问的是“我的第一个问题是什么？原问题回答我！”。首先需要确认对话历史。之前用户提到过9.11和9.8的比较，但可能那并不是最初的问题。\\n\\n看最早的记录，用户确实先问了“9.11 和 9.8，哪个更大？”，然后突然转到关于“strawberry”中字母R的数量。接着用户两次追问之前的原问题，但助理一直重复回答9.8和9.11的比较，这可能让用户感到困惑。\\n\\n现在用户明确要第一个问题的原问题，需要回溯到对话开头。发现用户最初的问题其实是关于“strawberry”这个词里有多少个R，而助理之前错误地持续回答数字比较的问题。这说明用户可能注意到回答不一致，想要纠正。\\n\\n所以用户真正的第一个问题是“How many Rs are there in the word 'strawberry'？”，而助理之前忽略了，现在需要纠正并给出正确答案。\"))], created=1759994022, model='deepseek-reasoner', object='chat.completion', service_tier=None, system_fingerprint='fp_ffc7281d48_prod0820_fp8_kvcache', usage=CompletionUsage(completion_tokens=274, prompt_tokens=603, total_tokens=877, completion_tokens_details=CompletionTokensDetails(accepted_prediction_tokens=None, audio_tokens=None, reasoning_tokens=195, rejected_prediction_tokens=None), prompt_tokens_details=PromptTokensDetails(audio_tokens=None, cached_tokens=384), prompt_cache_hit_tokens=384, prompt_cache_miss_tokens=219))"
      ]
     },
     "execution_count": 40,
     "metadata": {},
     "output_type": "execute_result"
    }
   ],
   "source": [
    "response"
   ]
  },
  {
   "cell_type": "code",
   "execution_count": null,
   "id": "3d12cd49-272d-42a7-8aaa-9d31a75e0cb3",
   "metadata": {},
   "outputs": [],
   "source": []
  },
  {
   "cell_type": "code",
   "execution_count": null,
   "id": "6beb2f27-8de3-45c4-a7e1-cec108b82fc8",
   "metadata": {},
   "outputs": [],
   "source": []
  },
  {
   "cell_type": "code",
   "execution_count": null,
   "id": "5efb0a03-4cd8-4280-ba19-92e92ea086f7",
   "metadata": {},
   "outputs": [],
   "source": []
  },
  {
   "cell_type": "code",
   "execution_count": null,
   "id": "8fa3a49a-a2ab-46fc-95d2-5b1c436c71e2",
   "metadata": {},
   "outputs": [],
   "source": []
  },
  {
   "cell_type": "code",
   "execution_count": null,
   "id": "8883b47e-e0d8-464a-af99-1c2fd1cda874",
   "metadata": {},
   "outputs": [],
   "source": []
  },
  {
   "cell_type": "code",
   "execution_count": null,
   "id": "e11514ef-bd8f-4fa3-a3d4-911230337067",
   "metadata": {},
   "outputs": [],
   "source": []
  },
  {
   "cell_type": "code",
   "execution_count": null,
   "id": "dc1bbfa7-3c18-4e8e-aa17-3f1f034b60ff",
   "metadata": {},
   "outputs": [],
   "source": []
  },
  {
   "cell_type": "code",
   "execution_count": null,
   "id": "2807be02-0a21-4389-8c78-d1810736a16c",
   "metadata": {},
   "outputs": [],
   "source": []
  },
  {
   "cell_type": "code",
   "execution_count": 32,
   "id": "cb80c5e5-0794-4a70-af8c-e1832f8c8dc4",
   "metadata": {},
   "outputs": [],
   "source": [
    "a = 100"
   ]
  }
 ],
 "metadata": {
  "kernelspec": {
   "display_name": "Python 3 (ipykernel)",
   "language": "python",
   "name": "python3"
  },
  "language_info": {
   "codemirror_mode": {
    "name": "ipython",
    "version": 3
   },
   "file_extension": ".py",
   "mimetype": "text/x-python",
   "name": "python",
   "nbconvert_exporter": "python",
   "pygments_lexer": "ipython3",
   "version": "3.9.6"
  }
 },
 "nbformat": 4,
 "nbformat_minor": 5
}
