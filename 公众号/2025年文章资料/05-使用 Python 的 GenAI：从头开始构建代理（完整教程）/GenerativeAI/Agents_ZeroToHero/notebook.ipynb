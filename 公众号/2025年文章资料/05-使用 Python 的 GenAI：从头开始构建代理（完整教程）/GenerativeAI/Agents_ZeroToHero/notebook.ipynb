{
 "cells": [
  {
   "cell_type": "markdown",
   "id": "71590195-26e8-4a46-b5db-2711a0ba60eb",
   "metadata": {},
   "source": [
    "# GenAI with Python: AI Agents from Zero to Hero"
   ]
  },
  {
   "cell_type": "markdown",
   "id": "3fe894cc-597f-412d-ae45-22f41fde27d3",
   "metadata": {},
   "source": [
    "###### [Article (Part 1): TowardsDataScience]()"
   ]
  },
  {
   "cell_type": "markdown",
   "id": "6350285e-3ef5-419f-9097-002d29055f97",
   "metadata": {
    "jp-MarkdownHeadingCollapsed": true
   },
   "source": [
    "## 0 - Setup"
   ]
  },
  {
   "cell_type": "code",
   "execution_count": 1,
   "id": "4af83654-f402-4f13-8169-cb337574df70",
   "metadata": {},
   "outputs": [],
   "source": [
    "#pip install ollama==0.4.7\n",
    "import ollama\n",
    "llm = \"qwen2.5\" "
   ]
  },
  {
   "cell_type": "code",
   "execution_count": 68,
   "id": "6a97c3d7-7ca0-4076-9d7d-0ee776433f39",
   "metadata": {},
   "outputs": [
    {
     "name": "stdout",
     "output_type": "stream",
     "text": [
      "To provide you with the current time, I would need to know your location or timezone since \"time\" can refer to different times in different parts of the world. Could you please tell me which timezone you're interested in? If you just want a general idea, you can check your device's clock for the current time."
     ]
    }
   ],
   "source": [
    "stream = ollama.generate(model=llm, prompt='''what time is it?''', stream=True)\n",
    "for chunk in stream:\n",
    "    print(chunk['response'], end='', flush=True)"
   ]
  },
  {
   "cell_type": "markdown",
   "id": "9658e4f0-385c-4836-bad1-9536edb044f4",
   "metadata": {},
   "source": [
    "## 1 - Single Agent"
   ]
  },
  {
   "cell_type": "markdown",
   "id": "e42a4703-4a2a-49ef-b28f-c4977f6b3338",
   "metadata": {
    "jp-MarkdownHeadingCollapsed": true
   },
   "source": [
    "### 1.1 - Simple (WebSearch)"
   ]
  },
  {
   "cell_type": "code",
   "execution_count": 3,
   "id": "7851b23f-4365-47a2-89a1-08e3dcb9e243",
   "metadata": {},
   "outputs": [
    {
     "data": {
      "text/plain": [
       "\"snippet: Trump officials are probing whether China's DeepSeek bought advanced Nvidia semiconductors through third parties in Singapore., title: Singapore buys only small amount of Nvidia chips, official says, link: https://www.msn.com/en-us/money/other/singapore-buys-only-small-amount-of-nvidia-chips-official-says/ar-AA1zgsRV, date: 2025-02-18T11:43:00+00:00, source: Bloomberg on MSN.com, snippet: Nvidia's stock took a major hit last month with the debut of Chinese AI chatbot DeepSeek. Its makers claimed it could do the work of American chatbots but for a much smaller price, title: Nvidia shocks investors, buys and sells popular AI stocks, link: https://www.msn.com/en-us/money/companies/nvidia-shocks-investors-buys-and-sells-popular-ai-stocks/ar-AA1zdSYr, date: 2025-02-17T16:07:00+00:00, source: TheStreet on MSN.com, snippet: Nvidia (NVDA 2.63%) shares have advanced 180% since January 2024 amid incredible demand for its artificial intelligence platforms. But billionaire Israel Englander, CEO of hedge f, title: Billionaire Israel Englander Sells Nvidia Stock and Buys an AI Stock Up 1,180% Since Early 2024, link: https://www.msn.com/en-us/technology/tech-companies/billionaire-israel-englander-sells-nvidia-stock-and-buys-an-ai-stock-up-1-180-since-early-2024/ar-AA1zgMRM, date: 2025-02-18T09:48:00+00:00, source: The Motley Fool on MSN.com, snippet: Nvidia may be close to resolving some of its delay issues and getting the RTX 5090 GPUs ready for consumers in at least a month, with a fortunate workaround. Online leakers noted on X that the shortage began due to scalpers over-purchasing components,, title: RTX 5090 GPU shortage could soon end if Nvidia adopts this strategy, link: https://www.msn.com/en-us/news/technology/rtx-5090-gpu-shortage-could-soon-end-if-nvidia-adopts-this-strategy/ar-AA1zeFNa, date: 2025-02-17T19:53:01+00:00, source: Digital Trends on MSN.com\""
      ]
     },
     "execution_count": 3,
     "metadata": {},
     "output_type": "execute_result"
    }
   ],
   "source": [
    "#pip install langchain-community==0.3.17\n",
    "#pip install duckduckgo_search==6.3.5\n",
    "from langchain_community.tools import DuckDuckGoSearchResults \n",
    "\n",
    "def search_web(query: str) -> str:\n",
    "  return DuckDuckGoSearchResults(backend=\"news\").run(query)\n",
    "\n",
    "tool_search_web = {'type':'function', 'function':{\n",
    "  'name': 'search_web',\n",
    "  'description': 'Search the web',\n",
    "  'parameters': {'type': 'object', \n",
    "                 'required': ['query'],\n",
    "                 'properties': {\n",
    "                    'query': {'type':'str', 'description':'the topic or subject to search on the web'},\n",
    "}}}}\n",
    "## test\n",
    "search_web(query=\"nvidia\")"
   ]
  },
  {
   "cell_type": "code",
   "execution_count": 4,
   "id": "93d6a0c7-c44f-4066-bd40-37c155712a72",
   "metadata": {},
   "outputs": [
    {
     "data": {
      "text/plain": [
       "'snippet: We recently compiled a list of the Jim Cramer Discusses These 11 Stocks & Finds Few Reasons To Sell. In this article, we are going to take a look at where NVIDIA Corporation (NASDAQ:NVDA) stands against the other stocks., title: Jim Cramer on NVIDIA (NVDA): \\'I Think You Have To Wait To See What The Numbers Are Because The Company\\'s In Quiet Period\\', link: https://finance.yahoo.com/news/jim-cramer-nvidia-nvda-think-115144647.html, date: 2025-02-18T11:51:00+00:00, source: YAHOO!Finance, snippet: To be specific, Meta is preparing to spend up to $65 billion in AI infrastructure this year -- representing a 65% increase year over year. Given the company works closely with Nvi, title: Did Meta Platforms Just Say \"Checkmate\" to Nvidia?, link: https://finance.yahoo.com/news/did-meta-platforms-just-checkmate-120000327.html, date: 2025-02-18T12:00:00+00:00, source: YAHOO!Finance, snippet: Nvidia (NASDAQ: NVDA) shares have advanced 180% since January 2024 amid incredible demand for its artificial intelligence platforms. Englander sold 1.1 million shares of Nvidia, reducing his position by 10%., title: Billionaire Israel Englander Sells Nvidia Stock and Buys an AI Stock Up 1,180% Since Early 2024, link: https://finance.yahoo.com/news/billionaire-israel-englander-sells-nvidia-094800757.html, date: 2025-02-18T09:48:00+00:00, source: YAHOO!Finance, snippet: The latest investor updates on stocks that are trending on Tuesday., title: Trending tickers: Nvidia, Tesla, Oatly, BHP and BT, link: https://finance.yahoo.com/news/nvidia-tesla-oatly-bhp-and-bt-trending-tickers-113700116.html, date: 2025-02-18T11:36:00+00:00, source: YAHOO!Finance'"
      ]
     },
     "execution_count": 4,
     "metadata": {},
     "output_type": "execute_result"
    }
   ],
   "source": [
    "def search_yf(query: str) -> str:\n",
    "  return DuckDuckGoSearchResults(backend=\"news\").run(f\"site:finance.yahoo.com {query}\")\n",
    "\n",
    "tool_search_yf = {'type':'function', 'function':{\n",
    "  'name': 'search_yf',\n",
    "  'description': 'Search for specific financial news',\n",
    "  'parameters': {'type': 'object', \n",
    "                 'required': ['query'],\n",
    "                 'properties': {\n",
    "                    'query': {'type':'str', 'description':'the financial topic or subject to search'},\n",
    "}}}}\n",
    "## test\n",
    "search_yf(query=\"nvidia\")"
   ]
  },
  {
   "cell_type": "code",
   "execution_count": 19,
   "id": "6cc63bb7-5c14-4273-a2f1-5d6608f15898",
   "metadata": {},
   "outputs": [
    {
     "name": "stdin",
     "output_type": "stream",
     "text": [
      "🙂 > hi\n"
     ]
    },
    {
     "name": "stdout",
     "output_type": "stream",
     "text": [
      "👽 > \u001b[1;30mHello! How can I assist you today?\u001b[0m\n"
     ]
    },
    {
     "name": "stdin",
     "output_type": "stream",
     "text": [
      "🙂 > tell me about Powell\n"
     ]
    },
    {
     "name": "stdout",
     "output_type": "stream",
     "text": [
      "🔧 > \u001b[1;31msearch_web -> Inputs: {'query': 'Powell'}\u001b[0m\n",
      "snippet: Norman Powell scored a season-high 41 points and James Harden added 32 to lift the Los Angeles Clippers to a 120-116 overtime victory over the Utah Jazz on Thursday night. Harden also had 10 rebounds,, title: Powell scores 41 points, Harden has 32 to rally Clippers to 120-116 OT victory over Jazz, link: https://www.msn.com/en-us/sports/other/powell-scores-41-points-harden-has-32-to-rally-clippers-to-120-116-ot-victory-over-jazz/ar-AA1z1Avi, date: 2025-02-14T05:07:00+00:00, source: MSN, snippet: Federal Reserve Chair Jerome Powell said the latest consumer price data show that while the central bank has made substantial progress toward taming inflation, there is still more work to do., title: Powell Says New Inflation Data Show Fed Has More Work to Do, link: https://www.bloomberg.com/news/articles/2025-02-12/powell-says-latest-inflation-data-show-fed-has-more-work-to-do, date: 2025-02-12T16:26:00+00:00, source: Bloomberg L.P., snippet: U.S. Federal Reserve Chair Jerome Powell testifies before a Senate Banking, Housing and Urban Affairs Committee hearing on \"The Semiannual Monetary Policy Report to the Congress,\" at Capitol Hill in Washington, U.S., February 11, 2025. REUTERS/Craig Hudson, title: Powell Says He Does Not Believe Musk or His Team Have Tried to Access Fed Systems, link: https://www.usnews.com/news/top-news/articles/2025-02-11/powell-says-he-does-not-believe-musk-or-his-team-have-tried-to-access-fed-systems, date: 2025-02-11T17:01:00+00:00, source: U.S. News & World Report, snippet: Higher inflation readings left Fed officials telling lawmakers, business executives and the public that they may be waiting longer than they had thought for relief from high interest rates., title: US inflation jump puts Fed officials on notice as Powell testifies, link: https://www.reuters.com/markets/us/feds-powell-heads-back-congress-data-shows-inflation-jump-january-2025-02-12/, date: 2025-02-12T19:06:00+00:00, source: Reuters\n",
      "👽 > \u001b[1;30mThe snippets provide information about Jerome Powell's statements and actions in February 2025:\n",
      "\n",
      "1. Norman Powell scored 41 points, James Harden added 32, helping the Los Angeles Clippers defeat the Utah Jazz in overtime.\n",
      "\n",
      "2. Jerome Powell stated that while significant progress has been made in taming inflation, more work is needed based on recent consumer price data.\n",
      "\n",
      "3. Powell testified before a Senate committee about monetary policy and denied any attempts by Elon Musk or his team to access Fed systems.\n",
      "\n",
      "4. Higher inflation readings led to Powell informing lawmakers, business executives, and the public that they might need to wait longer for relief from high interest rates.\u001b[0m\n"
     ]
    },
    {
     "name": "stdin",
     "output_type": "stream",
     "text": [
      "🙂 > be more specific about the rate cut\n"
     ]
    },
    {
     "name": "stdout",
     "output_type": "stream",
     "text": [
      "🔧 > \u001b[1;31msearch_yf -> Inputs: {'query': 'Jerome Powell rate cut'}\u001b[0m\n",
      "snippet: Federal Reserve Chair Jerome Powell will tell the Senate banking committee the Fed isn't \"in a hurry\" to resume its interest rate cutting campaign., title: Powell says Fed not 'in a hurry' to cut interest rates with 'economy remaining strong', link: https://finance.yahoo.com/news/powell-says-fed-not-hurry-150310004.html, date: 2025-02-11T15:03:00+00:00, source: YAHOO!Finance, snippet: Treasuries fell as traders anticipate that Federal Reserve Chair Jerome Powell will reiterate that US interest rates are on hold in congressional testimony Tuesday. Most Read from BloombergSaudi Arabia's Neom Signs $5 Billion Deal for AI Data CenterNice Airport,, title: Treasuries Fall as Fed's Powell Affirms Patience on Rate Cuts, link: https://finance.yahoo.com/news/treasuries-slip-tariffs-dominating-powell-111714559.html, date: 2025-02-11T14:18:00+00:00, source: YAHOO!Finance, snippet: Just before the release of Wednesday's monthly consumer price report, President Donald Trump called for lower interest rates in a post on his Truth Social platform., title: Trump wants interest rate cuts. The market isn't buying it., link: https://finance.yahoo.com/news/trump-wants-interest-rate-cuts-190909740.html, date: 2025-02-12T19:09:00+00:00, source: YAHOO!Finance, snippet: The US central bank is in no rush to slash interest rates any time soon, Federal Reserve Chair Jerome Powell told lawmakers Tuesday., title: Fed Chair Powell says officials are in no hurry to cut interest rates, link: https://finance.yahoo.com/news/fed-chair-powell-says-officials-154318539.html?fr=sycsrp_catchall, date: 2025-02-11T15:42:00+00:00, source: YAHOO!Finance\n",
      "👽 > \u001b[1;30mFederal Reserve Chair Jerome Powell indicates no hurry to cut interest rates, despite calls from President Trump for lower rates. The Fed remains patient, suggesting rates will stay on hold.\u001b[0m\n"
     ]
    },
    {
     "name": "stdin",
     "output_type": "stream",
     "text": [
      "🙂 > quit\n"
     ]
    }
   ],
   "source": [
    "prompt = '''You are an assistant with access to tools, you must decide when to use tools to answer user message.''' \n",
    "messages = [{\"role\":\"system\", \"content\":prompt}]\n",
    "\n",
    "while True:\n",
    "    ## user input\n",
    "    try:\n",
    "        q = input('🙂 >')\n",
    "    except EOFError:\n",
    "        break\n",
    "    if q == \"quit\":\n",
    "        break\n",
    "    if q.strip() == \"\":\n",
    "        continue\n",
    "    messages.append( {\"role\":\"user\", \"content\":q} )\n",
    "    \n",
    "    ## model\n",
    "    agent_res = ollama.chat(\n",
    "        model=llm,\n",
    "        #format=\"json\", #or schema\n",
    "        stream=False,\n",
    "        tools=[tool_search_web, tool_search_yf],\n",
    "        messages=messages)\n",
    "  \n",
    "    ## response\n",
    "    dic_tools = {'search_web':search_web, 'search_yf':search_yf}\n",
    "\n",
    "    if \"tool_calls\" in agent_res[\"message\"].keys():\n",
    "        for tool in agent_res[\"message\"][\"tool_calls\"]:\n",
    "            t_name, t_inputs = tool[\"function\"][\"name\"], tool[\"function\"][\"arguments\"]\n",
    "            if f := dic_tools.get(t_name):\n",
    "                ### calling tool\n",
    "                print('🔧 >', f\"\\x1b[1;31m{t_name} -> Inputs: {t_inputs}\\x1b[0m\")\n",
    "                messages.append( {\"role\":\"user\", \"content\":\"use tool '\"+t_name+\"' with inputs: \"+str(t_inputs)} )\n",
    "                ### tool output\n",
    "                t_output = f(**tool[\"function\"][\"arguments\"])\n",
    "                print(t_output)\n",
    "                ### final res\n",
    "                p = f'''Summarize this to answer user question, be as concise as possible: {t_output}'''\n",
    "                res = ollama.generate(model=llm, prompt=q+\". \"+p)[\"response\"]\n",
    "            else:\n",
    "                print('🤬 >', f\"\\x1b[1;31m{t_name} -> NotFound\\x1b[0m\")\n",
    "  \n",
    "    if agent_res['message']['content'] != '':\n",
    "        res = agent_res[\"message\"][\"content\"]\n",
    "      \n",
    "    print(\"👽 >\", f\"\\x1b[1;30m{res}\\x1b[0m\")\n",
    "    messages.append( {\"role\":\"assistant\", \"content\":res} )"
   ]
  },
  {
   "cell_type": "code",
   "execution_count": 20,
   "id": "d0568261-dd52-4fff-b821-580171cc22ec",
   "metadata": {},
   "outputs": [
    {
     "data": {
      "text/plain": [
       "[{'role': 'system',\n",
       "  'content': 'You are an assistant with access to tools, you must decide when to use tools to answer user message.'},\n",
       " {'role': 'user', 'content': 'hi'},\n",
       " {'role': 'assistant', 'content': 'Hello! How can I assist you today?'},\n",
       " {'role': 'user', 'content': 'tell me about Powell'},\n",
       " {'role': 'assistant',\n",
       "  'content': \"The snippets provide information about Jerome Powell's statements and actions in February 2025:\\n\\n1. Norman Powell scored 41 points, James Harden added 32, helping the Los Angeles Clippers defeat the Utah Jazz in overtime.\\n\\n2. Jerome Powell stated that while significant progress has been made in taming inflation, more work is needed based on recent consumer price data.\\n\\n3. Powell testified before a Senate committee about monetary policy and denied any attempts by Elon Musk or his team to access Fed systems.\\n\\n4. Higher inflation readings led to Powell informing lawmakers, business executives, and the public that they might need to wait longer for relief from high interest rates.\"},\n",
       " {'role': 'assistant',\n",
       "  'content': \"The snippets provide information about Jerome Powell's statements and actions in February 2025:\\n\\n1. Norman Powell scored 41 points, James Harden added 32, helping the Los Angeles Clippers defeat the Utah Jazz in overtime.\\n\\n2. Jerome Powell stated that while significant progress has been made in taming inflation, more work is needed based on recent consumer price data.\\n\\n3. Powell testified before a Senate committee about monetary policy and denied any attempts by Elon Musk or his team to access Fed systems.\\n\\n4. Higher inflation readings led to Powell informing lawmakers, business executives, and the public that they might need to wait longer for relief from high interest rates.\"},\n",
       " {'role': 'user', 'content': 'be more specific about the rate cut'},\n",
       " {'role': 'assistant',\n",
       "  'content': 'Federal Reserve Chair Jerome Powell indicates no hurry to cut interest rates, despite calls from President Trump for lower rates. The Fed remains patient, suggesting rates will stay on hold.'},\n",
       " {'role': 'assistant',\n",
       "  'content': 'Federal Reserve Chair Jerome Powell indicates no hurry to cut interest rates, despite calls from President Trump for lower rates. The Fed remains patient, suggesting rates will stay on hold.'}]"
      ]
     },
     "execution_count": 20,
     "metadata": {},
     "output_type": "execute_result"
    }
   ],
   "source": [
    "messages"
   ]
  },
  {
   "cell_type": "code",
   "execution_count": 21,
   "id": "b17a3992-ff42-4b09-9fe7-e7dae4f9e66b",
   "metadata": {},
   "outputs": [
    {
     "data": {
      "text/plain": [
       "{'model': 'qwen2.5',\n",
       " 'created_at': '2025-02-14T12:56:42.282608Z',\n",
       " 'message': {'role': 'assistant',\n",
       "  'content': '',\n",
       "  'tool_calls': [{'function': {'name': 'search_yf',\n",
       "     'arguments': {'query': 'Jerome Powell rate cut'}}}]},\n",
       " 'done_reason': 'stop',\n",
       " 'done': True,\n",
       " 'total_duration': 47726659663,\n",
       " 'load_duration': 30518855,\n",
       " 'prompt_eval_count': 525,\n",
       " 'prompt_eval_duration': 39558000000,\n",
       " 'eval_count': 59,\n",
       " 'eval_duration': 8102000000}"
      ]
     },
     "execution_count": 21,
     "metadata": {},
     "output_type": "execute_result"
    }
   ],
   "source": [
    "agent_res"
   ]
  },
  {
   "cell_type": "markdown",
   "id": "0dcaa0f0-5335-425a-a0dc-d4d163b38e3e",
   "metadata": {
    "jp-MarkdownHeadingCollapsed": true
   },
   "source": [
    "### 1.2 - Advanced (Coding)"
   ]
  },
  {
   "cell_type": "markdown",
   "id": "87081322-767e-43c0-bfd3-2123b276bba9",
   "metadata": {},
   "source": [
    "###### What I want"
   ]
  },
  {
   "cell_type": "code",
   "execution_count": 6,
   "id": "4510eec6-aec0-4278-97f9-a3747b114764",
   "metadata": {},
   "outputs": [
    {
     "data": {
      "text/html": [
       "<div>\n",
       "<style scoped>\n",
       "    .dataframe tbody tr th:only-of-type {\n",
       "        vertical-align: middle;\n",
       "    }\n",
       "\n",
       "    .dataframe tbody tr th {\n",
       "        vertical-align: top;\n",
       "    }\n",
       "\n",
       "    .dataframe thead th {\n",
       "        text-align: right;\n",
       "    }\n",
       "</style>\n",
       "<table border=\"1\" class=\"dataframe\">\n",
       "  <thead>\n",
       "    <tr style=\"text-align: right;\">\n",
       "      <th></th>\n",
       "      <th>PassengerId</th>\n",
       "      <th>Survived</th>\n",
       "      <th>Pclass</th>\n",
       "      <th>Name</th>\n",
       "      <th>Sex</th>\n",
       "      <th>Age</th>\n",
       "      <th>SibSp</th>\n",
       "      <th>Parch</th>\n",
       "      <th>Ticket</th>\n",
       "      <th>Fare</th>\n",
       "      <th>Cabin</th>\n",
       "      <th>Embarked</th>\n",
       "    </tr>\n",
       "  </thead>\n",
       "  <tbody>\n",
       "    <tr>\n",
       "      <th>0</th>\n",
       "      <td>1</td>\n",
       "      <td>0</td>\n",
       "      <td>3</td>\n",
       "      <td>Braund, Mr. Owen Harris</td>\n",
       "      <td>male</td>\n",
       "      <td>22.0</td>\n",
       "      <td>1</td>\n",
       "      <td>0</td>\n",
       "      <td>A/5 21171</td>\n",
       "      <td>7.2500</td>\n",
       "      <td>NaN</td>\n",
       "      <td>S</td>\n",
       "    </tr>\n",
       "    <tr>\n",
       "      <th>1</th>\n",
       "      <td>2</td>\n",
       "      <td>1</td>\n",
       "      <td>1</td>\n",
       "      <td>Cumings, Mrs. John Bradley (Florence Briggs Th...</td>\n",
       "      <td>female</td>\n",
       "      <td>38.0</td>\n",
       "      <td>1</td>\n",
       "      <td>0</td>\n",
       "      <td>PC 17599</td>\n",
       "      <td>71.2833</td>\n",
       "      <td>C85</td>\n",
       "      <td>C</td>\n",
       "    </tr>\n",
       "    <tr>\n",
       "      <th>2</th>\n",
       "      <td>3</td>\n",
       "      <td>1</td>\n",
       "      <td>3</td>\n",
       "      <td>Heikkinen, Miss. Laina</td>\n",
       "      <td>female</td>\n",
       "      <td>26.0</td>\n",
       "      <td>0</td>\n",
       "      <td>0</td>\n",
       "      <td>STON/O2. 3101282</td>\n",
       "      <td>7.9250</td>\n",
       "      <td>NaN</td>\n",
       "      <td>S</td>\n",
       "    </tr>\n",
       "  </tbody>\n",
       "</table>\n",
       "</div>"
      ],
      "text/plain": [
       "   PassengerId  Survived  Pclass  \\\n",
       "0            1         0       3   \n",
       "1            2         1       1   \n",
       "2            3         1       3   \n",
       "\n",
       "                                                Name     Sex   Age  SibSp  \\\n",
       "0                            Braund, Mr. Owen Harris    male  22.0      1   \n",
       "1  Cumings, Mrs. John Bradley (Florence Briggs Th...  female  38.0      1   \n",
       "2                             Heikkinen, Miss. Laina  female  26.0      0   \n",
       "\n",
       "   Parch            Ticket     Fare Cabin Embarked  \n",
       "0      0         A/5 21171   7.2500   NaN        S  \n",
       "1      0          PC 17599  71.2833   C85        C  \n",
       "2      0  STON/O2. 3101282   7.9250   NaN        S  "
      ]
     },
     "execution_count": 6,
     "metadata": {},
     "output_type": "execute_result"
    }
   ],
   "source": [
    "import pandas as pd\n",
    "\n",
    "dtf = pd.read_csv('http://bit.ly/kaggletrain')\n",
    "dtf.head(3)"
   ]
  },
  {
   "cell_type": "code",
   "execution_count": 8,
   "id": "77d7f3d9-6301-42a7-9542-5807b96b0acd",
   "metadata": {},
   "outputs": [
    {
     "data": {
      "image/png": "[encoded data removed]",
      "text/plain": [
       "<Figure size 640x480 with 1 Axes>"
      ]
     },
     "metadata": {},
     "output_type": "display_data"
    }
   ],
   "source": [
    "import seaborn as sns\n",
    "import matplotlib.pyplot as plt\n",
    "\n",
    "sns.boxplot(data=dtf, x=\"Sex\", y=\"Age\", hue=\"Survived\")\n",
    "plt.show()"
   ]
  },
  {
   "cell_type": "markdown",
   "id": "fb9bf38e-ea85-4c92-91da-ecaf12eeefa9",
   "metadata": {},
   "source": [
    "###### Model"
   ]
  },
  {
   "cell_type": "code",
   "execution_count": 75,
   "id": "35447556-d61c-44d1-a1ab-899b10f0c62f",
   "metadata": {},
   "outputs": [
    {
     "data": {
      "text/plain": [
       "'2\\n'"
      ]
     },
     "execution_count": 75,
     "metadata": {},
     "output_type": "execute_result"
    }
   ],
   "source": [
    "import io\n",
    "import contextlib\n",
    "\n",
    "def code_exec(code: str) -> str:\n",
    "    output = io.StringIO()\n",
    "    with contextlib.redirect_stdout(output):\n",
    "        try:\n",
    "            exec(code)\n",
    "        except Exception as e:\n",
    "            print(f\"Error: {e}\")\n",
    "    return output.getvalue()\n",
    "\n",
    "tool_code_exec = {'type':'function', 'function':{\n",
    "  'name': 'code_exec',\n",
    "  'description': 'execute python code',\n",
    "  'parameters': {'type': 'object', \n",
    "                 'required': ['code'],\n",
    "                 'properties': {\n",
    "                    'code': {'type':'str', 'description':'code to execute'},\n",
    "}}}}\n",
    "\n",
    "code_exec(\"a=1+1; print(a)\")"
   ]
  },
  {
   "cell_type": "code",
   "execution_count": 68,
   "id": "0c91bc7c-d943-4122-9b5f-575da03cb726",
   "metadata": {},
   "outputs": [
    {
     "name": "stdin",
     "output_type": "stream",
     "text": [
      "📁 Provide a CSV path > http://bit.ly/kaggletrain\n"
     ]
    },
    {
     "name": "stdout",
     "output_type": "stream",
     "text": [
      "🔧 > \u001b[1;31mcode_exec -> Inputs: {'code': 'import pandas as pd; df=pd.read_csv(\"http://bit.ly/kaggletrain\"); print(df.head())'}\u001b[0m\n",
      "👽 > \u001b[1;30m   PassengerId  Survived  Pclass  \\\n",
      "0            1         0       3   \n",
      "1            2         1       1   \n",
      "2            3         1       3   \n",
      "3            4         1       1   \n",
      "4            5         0       3   \n",
      "\n",
      "                                                Name     Sex   Age  SibSp  \\\n",
      "0                            Braund, Mr. Owen Harris    male  22.0      1   \n",
      "1  Cumings, Mrs. John Bradley (Florence Briggs Th...  female  38.0      1   \n",
      "2                             Heikkinen, Miss. Laina  female  26.0      0   \n",
      "3       Futrelle, Mrs. Jacques Heath (Lily May Peel)  female  35.0      1   \n",
      "4                           Allen, Mr. William Henry    male  35.0      0   \n",
      "\n",
      "   Parch            Ticket     Fare Cabin Embarked  \n",
      "0      0         A/5 21171   7.2500   NaN        S  \n",
      "1      0          PC 17599  71.2833   C85        C  \n",
      "2      0  STON/O2. 3101282   7.9250   NaN        S  \n",
      "3      0            113803  53.1000  C123        S  \n",
      "4      0            373450   8.0500   NaN        S  \n",
      "\u001b[0m\n"
     ]
    },
    {
     "name": "stdin",
     "output_type": "stream",
     "text": [
      "🙂 > create a boxplot with the columns 'Sex' and 'Age' and use the column 'Survived' for color\n"
     ]
    },
    {
     "name": "stdout",
     "output_type": "stream",
     "text": [
      "🔧 > \u001b[1;31mcode_exec -> Inputs: {'code': 'import matplotlib.pyplot as plt; import seaborn as sns; import pandas as pd; df = pd.read_csv(\"http://bit.ly/kaggletrain\"); sns.boxplot(x=df[\\'Sex\\'], y=df[\\'Age\\'], hue=df[\\'Survived\\']); plt.show()'}\u001b[0m\n"
     ]
    },
    {
     "data": {
      "image/png": "[encoded data removed]",
      "text/plain": [
       "<Figure size 640x480 with 1 Axes>"
      ]
     },
     "metadata": {},
     "output_type": "display_data"
    },
    {
     "name": "stdout",
     "output_type": "stream",
     "text": [
      "👽 > \u001b[1;30m\u001b[0m\n"
     ]
    },
    {
     "name": "stdin",
     "output_type": "stream",
     "text": [
      "🙂 > quit\n"
     ]
    }
   ],
   "source": [
    "prompt = '''You are an expert data scientist, and you have tools to execute python code.\n",
    "First of all, execute the following code exactly as it is: 'df=pd.read_csv(path); print(df.head())'\n",
    "If you create a plot, ALWAYS add 'plt.show()' at the end.\n",
    "'''\n",
    "messages = [{\"role\":\"system\", \"content\":prompt}]\n",
    "memory = '''Use the dataframe 'df'.'''\n",
    "start = True\n",
    "\n",
    "while True:\n",
    "    ## user input\n",
    "    try:\n",
    "        if start is True:\n",
    "            path = input('📁 Provide a CSV path >')\n",
    "            q = \"path = \"+path\n",
    "        else:\n",
    "            q = input('🙂 >')\n",
    "    except EOFError:\n",
    "        break\n",
    "    if q == \"quit\":\n",
    "        break\n",
    "    if q.strip() == \"\":\n",
    "        continue\n",
    "    \n",
    "    ## memory\n",
    "    if start is False:\n",
    "        q = memory+\"\\n\"+q\n",
    "    messages.append( {\"role\":\"user\", \"content\":q} )\n",
    "\n",
    "    ## model\n",
    "    agent_res = ollama.chat(\n",
    "        model=llm,\n",
    "        #format=\"json\", #or schema\n",
    "        stream=False,\n",
    "        tools=[tool_code_exec],\n",
    "        messages=messages)\n",
    "  \n",
    "    ## response\n",
    "    dic_tools = {'code_exec':code_exec}\n",
    "    \n",
    "    if \"tool_calls\" in agent_res[\"message\"].keys():\n",
    "        for tool in agent_res[\"message\"][\"tool_calls\"]:\n",
    "            t_name, t_inputs = tool[\"function\"][\"name\"], tool[\"function\"][\"arguments\"]\n",
    "            if f := dic_tools.get(t_name):\n",
    "                ### calling tool\n",
    "                print('🔧 >', f\"\\x1b[1;31m{t_name} -> Inputs: {t_inputs}\\x1b[0m\")\n",
    "                messages.append( {\"role\":\"user\", \"content\":\"use tool '\"+t_name+\"' with inputs: \"+str(t_inputs)} )\n",
    "                ### tool output\n",
    "                t_output = f(**tool[\"function\"][\"arguments\"])\n",
    "                ### final res\n",
    "                res = t_output\n",
    "            else:\n",
    "                print('🤬 >', f\"\\x1b[1;31m{t_name} -> NotFound\\x1b[0m\")\n",
    "  \n",
    "    if agent_res['message']['content'] != '':\n",
    "        res = agent_res[\"message\"][\"content\"]\n",
    "      \n",
    "    print(\"👽 >\", f\"\\x1b[1;30m{res}\\x1b[0m\")\n",
    "    messages.append( {\"role\":\"assistant\", \"content\":res} )\n",
    "    start = False"
   ]
  },
  {
   "cell_type": "code",
   "execution_count": 69,
   "id": "5df0ab4b-4df2-46b8-a02a-43c34c2a9eeb",
   "metadata": {},
   "outputs": [
    {
     "data": {
      "text/plain": [
       "[{'role': 'system',\n",
       "  'content': \"You are an expert data scientist, and you have tools to write and execute python code.\\nFirst of all, use the tool to execute the following code exactly like this: 'df=pd.read_csv(path); print(df.head())'\\nRight after you use the tool to generate code, you MUST ALWAYS use also the tool to execute the code you generated.\\n\"},\n",
       " {'role': 'user', 'content': 'path = http://bit.ly/kaggletrain'},\n",
       " {'role': 'user',\n",
       "  'content': 'use tool \\'code_exec\\' with inputs: {\\'code\\': \\'import pandas as pd; df=pd.read_csv(\"http://bit.ly/kaggletrain\"); print(df.head())\\'}'},\n",
       " {'role': 'assistant',\n",
       "  'content': '   PassengerId  Survived  Pclass  \\\\\\n0            1         0       3   \\n1            2         1       1   \\n2            3         1       3   \\n3            4         1       1   \\n4            5         0       3   \\n\\n                                                Name     Sex   Age  SibSp  \\\\\\n0                            Braund, Mr. Owen Harris    male  22.0      1   \\n1  Cumings, Mrs. John Bradley (Florence Briggs Th...  female  38.0      1   \\n2                             Heikkinen, Miss. Laina  female  26.0      0   \\n3       Futrelle, Mrs. Jacques Heath (Lily May Peel)  female  35.0      1   \\n4                           Allen, Mr. William Henry    male  35.0      0   \\n\\n   Parch            Ticket     Fare Cabin Embarked  \\n0      0         A/5 21171   7.2500   NaN        S  \\n1      0          PC 17599  71.2833   C85        C  \\n2      0  STON/O2. 3101282   7.9250   NaN        S  \\n3      0            113803  53.1000  C123        S  \\n4      0            373450   8.0500   NaN        S  \\n'},\n",
       " {'role': 'user',\n",
       "  'content': \"\\nUse the dataframe 'df'. If you used 'code_generator' you MUST use 'code_exec'.\\ncreate a boxplot with the columns 'Sex' and 'Age' and use the column 'Survived' for color\"},\n",
       " {'role': 'user',\n",
       "  'content': 'use tool \\'code_exec\\' with inputs: {\\'code\\': \\'import matplotlib.pyplot as plt; import seaborn as sns; import pandas as pd; df = pd.read_csv(\"http://bit.ly/kaggletrain\"); sns.boxplot(x=df[\\\\\\'Sex\\\\\\'], y=df[\\\\\\'Age\\\\\\'], hue=df[\\\\\\'Survived\\\\\\']); plt.show()\\'}'},\n",
       " {'role': 'assistant', 'content': ''}]"
      ]
     },
     "execution_count": 69,
     "metadata": {},
     "output_type": "execute_result"
    }
   ],
   "source": [
    "messages"
   ]
  },
  {
   "cell_type": "markdown",
   "id": "24a9ef02-25c7-4e39-b283-d2b0500cc390",
   "metadata": {},
   "source": [
    "## 2 - Multi-Agents"
   ]
  },
  {
   "cell_type": "markdown",
   "id": "bd797249-7595-4451-ac43-36ff005a0c62",
   "metadata": {
    "jp-MarkdownHeadingCollapsed": true
   },
   "source": [
    "### 2.1 - Simple (Sequential)"
   ]
  },
  {
   "cell_type": "code",
   "execution_count": null,
   "id": "c1337953-7356-48d6-81f4-9677ca0ecedb",
   "metadata": {},
   "outputs": [],
   "source": []
  },
  {
   "cell_type": "markdown",
   "id": "5e675a7c-e4ce-4c36-a2f5-a891dee3c126",
   "metadata": {
    "jp-MarkdownHeadingCollapsed": true
   },
   "source": [
    "### 2.2 - Advanced (Hierarchical)"
   ]
  },
  {
   "cell_type": "code",
   "execution_count": null,
   "id": "52613b57-5469-4951-b993-580bba1f4187",
   "metadata": {},
   "outputs": [],
   "source": []
  }
 ],
 "metadata": {
  "kernelspec": {
   "display_name": "Python 3 (ipykernel)",
   "language": "python",
   "name": "python3"
  },
  "language_info": {
   "codemirror_mode": {
    "name": "ipython",
    "version": 3
   },
   "file_extension": ".py",
   "mimetype": "text/x-python",
   "name": "python",
   "nbconvert_exporter": "python",
   "pygments_lexer": "ipython3",
   "version": "3.11.0"
  }
 },
 "nbformat": 4,
 "nbformat_minor": 5
}
